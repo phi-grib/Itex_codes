{
 "cells": [
  {
   "cell_type": "code",
   "execution_count": 1,
   "metadata": {},
   "outputs": [],
   "source": [
    "import difflib\n",
    "import math\n",
    "import matplotlib.pyplot as plt\n",
    "import numpy as np\n",
    "import os\n",
    "import pandas as pd\n",
    "import psycopg2\n",
    "import random\n",
    "import seaborn as sns\n",
    "import USC_dataframe_generation as usc\n",
    "\n",
    "from importlib import reload"
   ]
  },
  {
   "cell_type": "code",
   "execution_count": 2,
   "metadata": {},
   "outputs": [],
   "source": [
    "conn = psycopg2.connect(host='localhost', dbname='inventory', user='postgres', password='PSGAdmin')\n",
    "curs = conn.cursor()\n",
    "psycopg2.extensions.register_adapter(np.int64, psycopg2._psycopg.AsIs)"
   ]
  },
  {
   "cell_type": "code",
   "execution_count": 3,
   "metadata": {},
   "outputs": [],
   "source": [
    "heh_cmd = pd.read_sql_query(\"\"\"SELECT subs_id, sub.class_name, sub.preferred_name, casr_number, ec_number, index_number, \n",
    "                                ht.\"type\", hc.classification, hn.\"name\"\n",
    "                                FROM heh h\n",
    "                                left join substance sub on sub.id = h.subs_id\n",
    "                                left join heh_type ht on ht.id = h.heh_type_id\n",
    "                                left join heh_classification hc on hc.id = h.heh_classif_id\n",
    "                                left join heh_name hn on hn.id = h.heh_name_id\"\"\", conn)\n",
    "\n",
    "heh_df = pd.DataFrame(heh_cmd, dtype=object)"
   ]
  },
  {
   "cell_type": "code",
   "execution_count": 4,
   "metadata": {},
   "outputs": [],
   "source": [
    "reg_cmd = pd.read_sql_query(\"\"\"SELECT reg.id, reg.subs_id, sub.class_name, sub.preferred_name, rco.country, rt.\"type\", rg.general_regulation_name, \n",
    "                            rspec.specific_regulation_name, rsub.subspecific_regulation_name, rsc.special_cases_name, addr.additional_information_name, \n",
    "                            cid.\"name\", ct.\"type\", regn.names\n",
    "                            FROM regulations reg\n",
    "                            LEFT JOIN substance sub ON sub.id = reg.subs_id\n",
    "                            left join regulation_country rco on rco.id = reg.reg_country_id\n",
    "                            left join regulation_type rt on rt.id = reg.reg_type_id\n",
    "                            left join general_regulation rg on rg.id = reg.gen_reg_id\n",
    "                            left join specific_regulation rspec on rspec.id = reg.spec_reg_id\n",
    "                            LEFT JOIN subspecific_regulation rsub ON rsub.id = reg.subspec_reg_id\n",
    "                            left join special_cases_regulation rsc on rsc.id = reg.special_cases_id\n",
    "                            left join additional_information_regulation addr on addr.id = reg.additional_information_id\n",
    "                            LEFT JOIN chem_id cid ON cid.chem_type_id = reg.chem_type_id\n",
    "                            LEFT JOIN chem_type ct ON ct.id = cid.chem_type_id\n",
    "                            LEFT JOIN regulation_names regn ON regn.id = reg.regulation_id\n",
    "                            order by reg.id asc\"\"\", conn)\n",
    "\n",
    "reg_df = pd.DataFrame(reg_cmd, dtype=object)"
   ]
  },
  {
   "cell_type": "code",
   "execution_count": 5,
   "metadata": {},
   "outputs": [],
   "source": [
    "substances = reg_df.subs_id.unique()"
   ]
  },
  {
   "cell_type": "code",
   "execution_count": 6,
   "metadata": {},
   "outputs": [],
   "source": [
    "cmr_positive = heh_df.loc[(heh_df['type'] == 'CMR') & (~heh_df['name'].isin(['YES','NO','No information','Pending (1)',\n",
    "                                                                            '(Shall apply from 1 March 2018)',\n",
    "                                                                            '(31/03/2017)',\n",
    "                                                                            'Registry of current Harmonised Classification and Labelling intentions by France',\n",
    "                                                                            'Submitted intention by Netherlands (18/11/2015)',\n",
    "                                                                            'Submitted intention by Norway (03/10/2011)',\n",
    "                                                                            'Submitted intention by Germany (22/02/2011)',\n",
    "                                                                            'Submitted intention by Norway (24/06/2014)',\n",
    "                                                                            'Amendment 2016/1179', 'Pending','particle diameter < 1 mm)',\n",
    "                                                                            'Submitted intention by Italy (22/08/2012)',\n",
    "                                                                            'Submitted intention by Sweden (14/11/2014)'])), 'name'].unique()\n",
    "pbt_ann = heh_df.loc[(heh_df['type'] == 'PBT') & (~heh_df['name'].isin(['YES','NO','No information','Pending (2)'])), 'name'].unique()\n",
    "vpvb_ann = heh_df.loc[(heh_df['type'] == 'vPvB') & (~heh_df['name'].isin(['NO','Pending (2)','YES','No information'])), 'name'].unique()\n",
    "endoc_ann = heh_df.loc[(heh_df['type'] == 'Endocrine_disruptor') & (~heh_df['name'].isin(['YES','NO','Pending (3)','No information'])), 'name'].unique()\n",
    "sens_ann = heh_df.loc[(heh_df['type'] == 'Sensitiser') & (~heh_df['name'].isin(['YES','NO','No information','(Shall apply from 1 March 2018)',\n",
    "                                                                                'Pending (3)','Pending(3)','Submitted intention by Slovenia (09/01/2015)',\n",
    "                                                                               'Submitted intention by United Kingdom (01/02/2017)',\n",
    "                                                                               'Amendment 2016/1179','(05/01/2016)','particle diameter < 1 mm)',\n",
    "                                                                               'Proposed future entry in Annex VI of CLP Regulation',\n",
    "                                                                               'Registry of current Harmonised Classification and Labelling intentions by Norway',\n",
    "                                                                               'Removal of','SCL ≥ 0.06 %'])), 'name'].unique()\n",
    "other_ann = heh_df.loc[(heh_df['type'] == 'Other') & (~heh_df['name'].isin(['No information'])), 'name'].unique()"
   ]
  },
  {
   "cell_type": "code",
   "execution_count": 7,
   "metadata": {},
   "outputs": [],
   "source": [
    "hazards_ghs = pd.read_csv('hazards_list.csv', sep='\\t')"
   ]
  },
  {
   "cell_type": "code",
   "execution_count": 8,
   "metadata": {},
   "outputs": [],
   "source": [
    "hazards_ghs['Hazard class category'] = hazards_ghs[['Hazard class','Category']].apply(lambda x: ' '.join(x), axis=1)"
   ]
  },
  {
   "cell_type": "code",
   "execution_count": 9,
   "metadata": {},
   "outputs": [],
   "source": [
    "hclas = hazards_ghs['Hazard class category'].unique()"
   ]
  },
  {
   "cell_type": "code",
   "execution_count": 10,
   "metadata": {},
   "outputs": [],
   "source": [
    "h_statements = hazards_ghs['Hazard statements'].unique()"
   ]
  },
  {
   "cell_type": "code",
   "execution_count": 11,
   "metadata": {},
   "outputs": [
    {
     "data": {
      "text/plain": [
       "array(['reach', 'clp', 'pops', 'wfd', 'pbt_vpvb', 'endocrine_disruptors',\n",
       "       'chemical_products_ordinance', 'german_commodity_ordinance',\n",
       "       'chemicals_act_restriction', 'kemi'], dtype=object)"
      ]
     },
     "execution_count": 11,
     "metadata": {},
     "output_type": "execute_result"
    }
   ],
   "source": [
    "reg_cmd['general_regulation_name'].unique()"
   ]
  },
  {
   "cell_type": "code",
   "execution_count": 12,
   "metadata": {},
   "outputs": [],
   "source": [
    "pbt_vpvb_pos = reg_cmd[(reg_cmd['general_regulation_name'].isin(['pbt_vpvb'])) &\n",
    "                      (~reg_cmd['names'].isin(['No information', 'Not PBT', 'Not vPvB', 'No information available',\n",
    "                                              '(See REACH part-Candidate List section)','Conclusion: not fulfilling PBT & vPvB criteria',\n",
    "                                   'Conclusion: deferred the decision on the substance from the list of potential PBT or vPvB substances.',\n",
    "                                              'Conclusion: not fulfilling PBT  criteria','Conclusion: not fulfilling POP  criteria']))].names.unique()"
   ]
  },
  {
   "cell_type": "code",
   "execution_count": 13,
   "metadata": {},
   "outputs": [],
   "source": [
    "endoc_pos = reg_cmd[(reg_cmd['general_regulation_name'].isin(['endocrine_disruptors']))&\n",
    "                   (~reg_cmd['names'].isin(['Not included','No information available']))].names.unique()"
   ]
  },
  {
   "cell_type": "code",
   "execution_count": 14,
   "metadata": {},
   "outputs": [],
   "source": [
    "svhc_regulations = reg_cmd[(reg_cmd['specific_regulation_name'].isin(['svhc'])) &\n",
    "                          (~reg_cmd['names'].isin(['No information', 'Not included','No relevant authorisation',\n",
    "                           'No relevant application for authorisation','No relevant information','Status: Not recommended in this round']))].names.unique()"
   ]
  },
  {
   "cell_type": "code",
   "execution_count": 15,
   "metadata": {},
   "outputs": [],
   "source": [
    "new_cmr = ['Toxic for reproduction (Article 57c)','Toxic for reproduction (Article 57c):','Toxic for reproduction','Scope: ED, CMR','Scope: CMR','Carcinogenic (Article 57a)',\n",
    "          'Carcinogenic (Category 1B)','Carcinogenic  1B','Toxic for reproduction (category 1B)','Mutagenic (Article 57b)','Carcinogenic (category 1A)',\n",
    "           'Mutagenic (category 1B)',]\n",
    "new_pbt_vpvb = ['PBT (Article 57 d)','Scope: vPvB (Article 57 e)', 'vPvB (Article 57 e)','Scope: PBT']\n",
    "other_new = ['Equivalent level of concern having probable serious effects to environment (Article 57 f):','Scope: EQC',\n",
    "             'Equivalent level of concern having probable serious effects to environment (Article 57 f)']\n",
    "new_endoc = ['Scope: ED, CMR']\n",
    "\n",
    "cmr_positive = np.concatenate((cmr_positive, new_cmr), axis=0)\n",
    "pbt_vpvb_pos = np.concatenate((pbt_vpvb_pos, new_pbt_vpvb), axis=0)\n",
    "endoc_pos = np.concatenate((endoc_pos,new_endoc), axis=0)\n",
    "other_ann = np.concatenate((other_ann, other_new), axis=0)"
   ]
  },
  {
   "cell_type": "code",
   "execution_count": 16,
   "metadata": {},
   "outputs": [],
   "source": [
    "vpvb_pos = ['vPvB substance', 'PBT/ vPvB Substance',\n",
    "       'PBT/ vPvB substance', 'Rapporteur: Austria', 'Rapporteur: Norway',\n",
    "       'Rapporteur: United Kingdom', 'Rapporteur: Denmark',\n",
    "       'Rapporteur: Spain', 'Rapporteur: Germany',\n",
    "       'Rapporteur: France',\n",
    "       'Conclusion: Under evaluation', 'Rapporteur: Netherlands',\n",
    "       'Rapporteur: Sweden',\n",
    "       'Conclusion: fulfilling PBT & vPvB criteria',\n",
    "       'Conclusion: fulfilling PBT & vPvB criteria & POP']"
   ]
  },
  {
   "cell_type": "code",
   "execution_count": 17,
   "metadata": {},
   "outputs": [],
   "source": [
    "pbt_pos = ['PBT Substance', 'PBT/ vPvB Substance',\n",
    "       'PBT/ vPvB substance', 'Rapporteur: Austria', 'Rapporteur: Norway',\n",
    "       'Rapporteur: United Kingdom', 'Rapporteur: Denmark',\n",
    "       'Rapporteur: Spain', 'Rapporteur: Germany',\n",
    "       'Conclusion: Fulfilling PBT criteria & POP','Rapporteur: France',\n",
    "       'Conclusion: Under evaluation', 'Rapporteur: Netherlands',\n",
    "       'Conclusion: fulfilling PBT criteria', 'Rapporteur: Sweden',\n",
    "       'Conclusion: fulfilling PBT & vPvB criteria',\n",
    "       'Conclusion: fulfilling PBT & vPvB criteria & POP']"
   ]
  },
  {
   "cell_type": "code",
   "execution_count": 18,
   "metadata": {},
   "outputs": [],
   "source": [
    "notrd_names = reg_cmd[reg_cmd['special_cases_name'].isin(['notification','registration_dossier'])].names.unique()"
   ]
  },
  {
   "cell_type": "code",
   "execution_count": 19,
   "metadata": {},
   "outputs": [],
   "source": [
    "hstate_names = reg_cmd[reg_cmd['additional_information_name'].isin(['Submitted SVHC intentions',\n",
    "                  'Withdrawn SVHC intentions and submissions','Amendment 2016/1179'])].names.unique()"
   ]
  },
  {
   "cell_type": "code",
   "execution_count": 20,
   "metadata": {},
   "outputs": [],
   "source": [
    "elements_to_add = []\n",
    "elements_to_remove = []\n",
    "for i,element in enumerate(hclas):\n",
    "    if 'mutagenicity' in element:\n",
    "        elements_to_remove.append(element)\n",
    "        muta = element.split()[2]\n",
    "        category = element.split()[3]\n",
    "        if len(category.split('/')) > 1:\n",
    "            for cat in category.split('/'):\n",
    "                el_to_add = ' '.join([muta.capitalize(),cat])\n",
    "                elements_to_add.append(el_to_add)\n",
    "        else:\n",
    "            el_to_add = ' '.join([muta.capitalize(),category])\n",
    "            elements_to_add.append(el_to_add)\n",
    "    elif 'single exposure' in element:\n",
    "        hclas[i] = element.replace('- single exposure','SE')\n",
    "    elif 'repeated exposure' in element:\n",
    "        hclas[i] = element.replace('- repeated exposure','RE')\n",
    "    elif '/' in element:\n",
    "        elements_to_remove.append(element)\n",
    "        if 'Skin' in element:\n",
    "            organ = 'Skin'\n",
    "            hazard_type = element.split()[1]\n",
    "            category = element.split()[2]\n",
    "            if len(hazard_type.split('/')) > 1:\n",
    "                for ht in hazard_type.split('/'):\n",
    "                    el_to_add = ' '.join([organ,ht,category])\n",
    "                    elements_to_add.append(el_to_add)\n",
    "            elif len(category.split('/')) > 1:\n",
    "                for cat in category.split('/'):\n",
    "                    el_to_add = ' '.join([organ,hazard_type,cat])\n",
    "                    elements_to_add.append(el_to_add)\n",
    "        elif 'eye' in element:\n",
    "            organ = 'Eye'\n",
    "            hazard_type = element.split()[2]\n",
    "            category = element.split()[3]\n",
    "            for ht in hazard_type.split('/'):\n",
    "                el_to_add = ' '.join([organ,ht,category])\n",
    "                elements_to_add.append(el_to_add)\n",
    "        else:\n",
    "            category = element.split()[-1]\n",
    "            for cat in category.split('/'):\n",
    "                organ_hazard_cat = element.split()[:-1]\n",
    "                organ_hazard_cat.append(cat)\n",
    "                el_to_add = ' '.join(organ_hazard_cat)\n",
    "                elements_to_add.append(el_to_add)\n",
    "\n",
    "clean_hclas = np.setdiff1d(hclas, elements_to_remove)\n",
    "clean_hclas = np.concatenate((clean_hclas, elements_to_add), axis=0)"
   ]
  },
  {
   "cell_type": "code",
   "execution_count": 21,
   "metadata": {},
   "outputs": [],
   "source": [
    "def string_comparison(s1: str, s2: str) -> bool:\n",
    "    s1_trimed = s1.replace(\" \", \"\").replace(\".\",\"\").replace(\",\",\"\").replace(\"-\",\"\").lower()\n",
    "    s2_trimed = s2.replace(\" \", \"\").replace(\".\",\"\").replace(\",\",\"\").replace(\"-\",\"\").lower()\n",
    "    print(s1_trimed, s2_trimed)\n",
    "    return s1_trimed in s2_trimed"
   ]
  },
  {
   "cell_type": "code",
   "execution_count": 22,
   "metadata": {},
   "outputs": [],
   "source": [
    "def get_max_score_words(original_word, new_word_list):\n",
    "    for word in new_word_list:\n",
    "        yield(original_word, word, difflib.SequenceMatcher(None, original_word, word).ratio())"
   ]
  },
  {
   "cell_type": "code",
   "execution_count": 23,
   "metadata": {},
   "outputs": [],
   "source": [
    "# for name in notrd_names:\n",
    "#     close_matches = difflib.get_close_matches(name, clean_hclas, cutoff=0.5)\n",
    "#     if close_matches:\n",
    "#         print(max(get_max_score_words(name,close_matches), key = lambda x: x[2]))"
   ]
  },
  {
   "cell_type": "markdown",
   "metadata": {},
   "source": [
    "#### try updated dataframes to generate new dfs"
   ]
  },
  {
   "cell_type": "code",
   "execution_count": 24,
   "metadata": {},
   "outputs": [
    {
     "data": {
      "text/plain": [
       "<module 'USC_dataframe_generation' from '/home/emarch/Documents/Inditex/USC_workflow_reproduction/USC_dataframe_generation.py'>"
      ]
     },
     "execution_count": 24,
     "metadata": {},
     "output_type": "execute_result"
    }
   ],
   "source": [
    "reload(usc)"
   ]
  },
  {
   "cell_type": "code",
   "execution_count": 25,
   "metadata": {},
   "outputs": [],
   "source": [
    "# %%time\n",
    "# cmr_dict = usc.fixed_generate_dataframe(substance_id_list=substances,endpoint='CMR', regulations_df=reg_df, endpoint_annotations=cmr_positive)\n",
    "# pbt_dict = usc.fixed_generate_dataframe(substance_id_list=substances,endpoint='PBT', regulations_df=reg_df, endpoint_annotations=pbt_pos)\n",
    "# vpvb_dict = usc.fixed_generate_dataframe(substance_id_list=substances,endpoint='vPvB', regulations_df=reg_df, endpoint_annotations=vpvb_pos)\n",
    "# endoc_dict = usc.fixed_generate_dataframe(substance_id_list=substances,endpoint='Endocrine_disruptor', regulations_df=reg_df, endpoint_annotations=endoc_pos)\n",
    "# sens_dict = usc.fixed_generate_dataframe(substance_id_list=substances,endpoint='Sensitiser', regulations_df=reg_df, endpoint_annotations=sens_ann)\n",
    "# other_dict = usc.fixed_generate_dataframe(substance_id_list=substances,endpoint='Other', regulations_df=reg_df, endpoint_annotations=other_ann)"
   ]
  },
  {
   "cell_type": "code",
   "execution_count": 26,
   "metadata": {},
   "outputs": [],
   "source": [
    "# cmr_df = pd.DataFrame(data=cmr_dict)\n",
    "# pbt_df = pd.DataFrame(data=pbt_dict)\n",
    "# vpvb_df = pd.DataFrame(data=vpvb_dict)\n",
    "# endoc_df = pd.DataFrame(data=endoc_dict)\n",
    "# sens_df = pd.DataFrame(data=sens_dict)\n",
    "# other_df = pd.DataFrame(data=other_dict)"
   ]
  },
  {
   "cell_type": "code",
   "execution_count": 27,
   "metadata": {},
   "outputs": [],
   "source": [
    "# to_concat_df = [cmr_df, pbt_df, vpvb_df,endoc_df,sens_df]\n",
    "# concat_df = pd.concat(to_concat_df)"
   ]
  },
  {
   "cell_type": "code",
   "execution_count": 28,
   "metadata": {},
   "outputs": [],
   "source": [
    "# for subs_id in substances:\n",
    "#     if other_df[(other_df['subs_id'] == subs_id) & (other_df['name'].isin(['NO','No information']))].empty:\n",
    "#         other_df.loc[other_df['subs_id'] == subs_id,:] = other_df.loc[(other_df['subs_id'] == subs_id) & \n",
    "#                                                                       (~other_df['name'].isin(concat_df[concat_df['subs_id'] == subs_id].name.unique())),:]"
   ]
  },
  {
   "cell_type": "code",
   "execution_count": 29,
   "metadata": {},
   "outputs": [],
   "source": [
    "# new_other_df = other_df.dropna().reset_index().drop(columns=['index'])"
   ]
  },
  {
   "cell_type": "code",
   "execution_count": 30,
   "metadata": {},
   "outputs": [],
   "source": [
    "# final_to_concat =[concat_df, new_other_df]\n",
    "# final_df = pd.concat(final_to_concat)\n",
    "# sorted_concat_df = final_df.sort_values(by=['subs_id', 'endpoint_type']).reset_index().drop(columns=['index'])"
   ]
  },
  {
   "cell_type": "code",
   "execution_count": 31,
   "metadata": {},
   "outputs": [],
   "source": [
    "# sorted_concat_df.to_pickle('fixed_generated_heh_df.pkl')"
   ]
  },
  {
   "cell_type": "code",
   "execution_count": 32,
   "metadata": {},
   "outputs": [],
   "source": [
    "sorted_concat_df = pd.read_pickle('fixed_generated_heh_df.pkl')"
   ]
  },
  {
   "cell_type": "code",
   "execution_count": 33,
   "metadata": {},
   "outputs": [],
   "source": [
    "endpoint_list = ['CMR','PBT','vPvB','Endocrine_disruptor','Sensitiser','Other']"
   ]
  },
  {
   "cell_type": "code",
   "execution_count": 34,
   "metadata": {},
   "outputs": [],
   "source": [
    "ann_info_list = ['YES','NO','No information','Pending', 'Pending (1)','Pending (2)',\n",
    "                    'Pending (3)', 'Pending (3a)','Pending (3b)','Pending (3c)','Pending (4)']"
   ]
  },
  {
   "cell_type": "code",
   "execution_count": 35,
   "metadata": {},
   "outputs": [],
   "source": [
    "for ep in endpoint_list:\n",
    "    ep_dict = {'Anotaciones':[],'Inventario':[],'Generadas':[]}\n",
    "    for ann in ann_info_list:\n",
    "        total_original = heh_df.loc[(heh_df['type'] == ep) & (heh_df['name'] == ann),'name'].count()\n",
    "        total_generadas = sorted_concat_df.loc[(sorted_concat_df['endpoint_type'] == ep) & (sorted_concat_df['name'] == ann),'name'].count()\n",
    "        ep_dict['Anotaciones'].append(ann)\n",
    "        ep_dict['Inventario'].append(total_original)\n",
    "        ep_dict['Generadas'].append(total_generadas)\n",
    "    \n",
    "    ep_df = pd.DataFrame(data=ep_dict,dtype=object)\n",
    "    ep_df.set_index('Anotaciones')\n",
    "#     if os.path.isfile('Comparación_anotaciones_nuevas.xlsx'):\n",
    "#         with pd.ExcelWriter('Comparación_anotaciones_nuevas.xlsx', mode='a') as writer:\n",
    "#              ep_df.to_excel(writer, sheet_name=ep)\n",
    "#     else:\n",
    "#         with pd.ExcelWriter('Comparación_anotaciones_nuevas.xlsx', mode='w') as writer:\n",
    "#              ep_df.to_excel(writer, sheet_name=ep)"
   ]
  },
  {
   "cell_type": "markdown",
   "metadata": {},
   "source": [
    "### Get regulations in which I can find the endpoints"
   ]
  },
  {
   "cell_type": "markdown",
   "metadata": {},
   "source": [
    "#### CMR"
   ]
  },
  {
   "cell_type": "code",
   "execution_count": 43,
   "metadata": {},
   "outputs": [
    {
     "data": {
      "text/plain": [
       "array(['clp', 'reach'], dtype=object)"
      ]
     },
     "execution_count": 43,
     "metadata": {},
     "output_type": "execute_result"
    }
   ],
   "source": [
    "reg_cmd.loc[reg_cmd['names'].isin(cmr_positive),'general_regulation_name'].unique()"
   ]
  },
  {
   "cell_type": "code",
   "execution_count": 44,
   "metadata": {},
   "outputs": [
    {
     "data": {
      "text/plain": [
       "array(['preliminary_stage', 'harmonised_c&l', 'substance_evaluation',\n",
       "       'svhc'], dtype=object)"
      ]
     },
     "execution_count": 44,
     "metadata": {},
     "output_type": "execute_result"
    }
   ],
   "source": [
    "reg_cmd.loc[reg_cmd['names'].isin(cmr_positive),'specific_regulation_name'].unique()"
   ]
  },
  {
   "cell_type": "code",
   "execution_count": 45,
   "metadata": {},
   "outputs": [
    {
     "data": {
      "text/plain": [
       "array(['c&l_inventory', 'hazard_class', 'general_evaluaiton',\n",
       "       'candidate_list', 'spec_concentration_units', 'authorisation_list',\n",
       "       'annex_xiii', 'harmonised_c&l_intentions', 'hazard'], dtype=object)"
      ]
     },
     "execution_count": 45,
     "metadata": {},
     "output_type": "execute_result"
    }
   ],
   "source": [
    "reg_cmd.loc[reg_cmd['names'].isin(cmr_positive),'subspecific_regulation_name'].unique()"
   ]
  },
  {
   "cell_type": "code",
   "execution_count": 46,
   "metadata": {},
   "outputs": [
    {
     "data": {
      "text/plain": [
       "array(['registration_dossier', 'notification', None, 'candidate_list',\n",
       "       'authorisation_annex_xiv',\n",
       "       'preliminary_stages_inclusion_candidate_list'], dtype=object)"
      ]
     },
     "execution_count": 46,
     "metadata": {},
     "output_type": "execute_result"
    }
   ],
   "source": [
    "reg_cmd.loc[reg_cmd['names'].isin(cmr_positive),'special_cases_name'].unique()"
   ]
  },
  {
   "cell_type": "code",
   "execution_count": 47,
   "metadata": {},
   "outputs": [
    {
     "data": {
      "text/plain": [
       "array(['Self-classification', None, 'PACT List', 'Amendment 2016/1179',\n",
       "       'Suspected', 'Entry in Annex VI of CLP Regulation',\n",
       "       'Submitted SVHC intentions',\n",
       "       'Suspected persistent in the environment'], dtype=object)"
      ]
     },
     "execution_count": 47,
     "metadata": {},
     "output_type": "execute_result"
    }
   ],
   "source": [
    "reg_cmd.loc[reg_cmd['names'].isin(cmr_positive),'additional_information_name'].unique()"
   ]
  },
  {
   "cell_type": "code",
   "execution_count": 80,
   "metadata": {},
   "outputs": [
    {
     "data": {
      "text/html": [
       "<div>\n",
       "<style scoped>\n",
       "    .dataframe tbody tr th:only-of-type {\n",
       "        vertical-align: middle;\n",
       "    }\n",
       "\n",
       "    .dataframe tbody tr th {\n",
       "        vertical-align: top;\n",
       "    }\n",
       "\n",
       "    .dataframe thead th {\n",
       "        text-align: right;\n",
       "    }\n",
       "</style>\n",
       "<table border=\"1\" class=\"dataframe\">\n",
       "  <thead>\n",
       "    <tr style=\"text-align: right;\">\n",
       "      <th></th>\n",
       "      <th>general_regulation_name</th>\n",
       "      <th>specific_regulation_name</th>\n",
       "      <th>subspecific_regulation_name</th>\n",
       "      <th>special_cases_name</th>\n",
       "      <th>additional_information_name</th>\n",
       "    </tr>\n",
       "  </thead>\n",
       "  <tbody>\n",
       "    <tr>\n",
       "      <th>879765</th>\n",
       "      <td>clp</td>\n",
       "      <td>harmonised_c&amp;l</td>\n",
       "      <td>hazard</td>\n",
       "      <td>None</td>\n",
       "      <td>None</td>\n",
       "    </tr>\n",
       "    <tr>\n",
       "      <th>951</th>\n",
       "      <td>clp</td>\n",
       "      <td>harmonised_c&amp;l</td>\n",
       "      <td>hazard_class</td>\n",
       "      <td>None</td>\n",
       "      <td>Amendment 2016/1179</td>\n",
       "    </tr>\n",
       "    <tr>\n",
       "      <th>34</th>\n",
       "      <td>clp</td>\n",
       "      <td>harmonised_c&amp;l</td>\n",
       "      <td>hazard_class</td>\n",
       "      <td>None</td>\n",
       "      <td>None</td>\n",
       "    </tr>\n",
       "    <tr>\n",
       "      <th>301</th>\n",
       "      <td>clp</td>\n",
       "      <td>harmonised_c&amp;l</td>\n",
       "      <td>spec_concentration_units</td>\n",
       "      <td>None</td>\n",
       "      <td>None</td>\n",
       "    </tr>\n",
       "    <tr>\n",
       "      <th>27</th>\n",
       "      <td>clp</td>\n",
       "      <td>preliminary_stage</td>\n",
       "      <td>c&amp;l_inventory</td>\n",
       "      <td>notification</td>\n",
       "      <td>Self-classification</td>\n",
       "    </tr>\n",
       "    <tr>\n",
       "      <th>22</th>\n",
       "      <td>clp</td>\n",
       "      <td>preliminary_stage</td>\n",
       "      <td>c&amp;l_inventory</td>\n",
       "      <td>registration_dossier</td>\n",
       "      <td>Self-classification</td>\n",
       "    </tr>\n",
       "    <tr>\n",
       "      <th>45395</th>\n",
       "      <td>clp</td>\n",
       "      <td>preliminary_stage</td>\n",
       "      <td>harmonised_c&amp;l_intentions</td>\n",
       "      <td>None</td>\n",
       "      <td>Entry in Annex VI of CLP Regulation</td>\n",
       "    </tr>\n",
       "    <tr>\n",
       "      <th>1002</th>\n",
       "      <td>reach</td>\n",
       "      <td>substance_evaluation</td>\n",
       "      <td>annex_xiii</td>\n",
       "      <td>None</td>\n",
       "      <td>Suspected</td>\n",
       "    </tr>\n",
       "    <tr>\n",
       "      <th>386117</th>\n",
       "      <td>reach</td>\n",
       "      <td>substance_evaluation</td>\n",
       "      <td>annex_xiii</td>\n",
       "      <td>None</td>\n",
       "      <td>Suspected persistent in the environment</td>\n",
       "    </tr>\n",
       "    <tr>\n",
       "      <th>388858</th>\n",
       "      <td>reach</td>\n",
       "      <td>substance_evaluation</td>\n",
       "      <td>annex_xiii</td>\n",
       "      <td>None</td>\n",
       "      <td>None</td>\n",
       "    </tr>\n",
       "    <tr>\n",
       "      <th>107</th>\n",
       "      <td>reach</td>\n",
       "      <td>substance_evaluation</td>\n",
       "      <td>general_evaluaiton</td>\n",
       "      <td>None</td>\n",
       "      <td>PACT List</td>\n",
       "    </tr>\n",
       "    <tr>\n",
       "      <th>748</th>\n",
       "      <td>reach</td>\n",
       "      <td>svhc</td>\n",
       "      <td>authorisation_list</td>\n",
       "      <td>authorisation_annex_xiv</td>\n",
       "      <td>None</td>\n",
       "    </tr>\n",
       "    <tr>\n",
       "      <th>112</th>\n",
       "      <td>reach</td>\n",
       "      <td>svhc</td>\n",
       "      <td>candidate_list</td>\n",
       "      <td>candidate_list</td>\n",
       "      <td>None</td>\n",
       "    </tr>\n",
       "    <tr>\n",
       "      <th>50433</th>\n",
       "      <td>reach</td>\n",
       "      <td>svhc</td>\n",
       "      <td>candidate_list</td>\n",
       "      <td>preliminary_stages_inclusion_candidate_list</td>\n",
       "      <td>Submitted SVHC intentions</td>\n",
       "    </tr>\n",
       "  </tbody>\n",
       "</table>\n",
       "</div>"
      ],
      "text/plain": [
       "       general_regulation_name specific_regulation_name  \\\n",
       "879765                     clp           harmonised_c&l   \n",
       "951                        clp           harmonised_c&l   \n",
       "34                         clp           harmonised_c&l   \n",
       "301                        clp           harmonised_c&l   \n",
       "27                         clp        preliminary_stage   \n",
       "22                         clp        preliminary_stage   \n",
       "45395                      clp        preliminary_stage   \n",
       "1002                     reach     substance_evaluation   \n",
       "386117                   reach     substance_evaluation   \n",
       "388858                   reach     substance_evaluation   \n",
       "107                      reach     substance_evaluation   \n",
       "748                      reach                     svhc   \n",
       "112                      reach                     svhc   \n",
       "50433                    reach                     svhc   \n",
       "\n",
       "       subspecific_regulation_name  \\\n",
       "879765                      hazard   \n",
       "951                   hazard_class   \n",
       "34                    hazard_class   \n",
       "301       spec_concentration_units   \n",
       "27                   c&l_inventory   \n",
       "22                   c&l_inventory   \n",
       "45395    harmonised_c&l_intentions   \n",
       "1002                    annex_xiii   \n",
       "386117                  annex_xiii   \n",
       "388858                  annex_xiii   \n",
       "107             general_evaluaiton   \n",
       "748             authorisation_list   \n",
       "112                 candidate_list   \n",
       "50433               candidate_list   \n",
       "\n",
       "                                 special_cases_name  \\\n",
       "879765                                         None   \n",
       "951                                            None   \n",
       "34                                             None   \n",
       "301                                            None   \n",
       "27                                     notification   \n",
       "22                             registration_dossier   \n",
       "45395                                          None   \n",
       "1002                                           None   \n",
       "386117                                         None   \n",
       "388858                                         None   \n",
       "107                                            None   \n",
       "748                         authorisation_annex_xiv   \n",
       "112                                  candidate_list   \n",
       "50433   preliminary_stages_inclusion_candidate_list   \n",
       "\n",
       "                    additional_information_name  \n",
       "879765                                     None  \n",
       "951                         Amendment 2016/1179  \n",
       "34                                         None  \n",
       "301                                        None  \n",
       "27                          Self-classification  \n",
       "22                          Self-classification  \n",
       "45395       Entry in Annex VI of CLP Regulation  \n",
       "1002                                  Suspected  \n",
       "386117  Suspected persistent in the environment  \n",
       "388858                                     None  \n",
       "107                                   PACT List  \n",
       "748                                        None  \n",
       "112                                        None  \n",
       "50433                 Submitted SVHC intentions  "
      ]
     },
     "execution_count": 80,
     "metadata": {},
     "output_type": "execute_result"
    }
   ],
   "source": [
    "reg_cmd.loc[reg_cmd['names'].isin(cmr_positive),['general_regulation_name','specific_regulation_name',\n",
    "                                                 'subspecific_regulation_name','special_cases_name',\n",
    "                                                 'additional_information_name']].drop_duplicates().sort_values(by=['general_regulation_name',\n",
    "                                                                                                                   'specific_regulation_name',\n",
    "                                                                                                                  'subspecific_regulation_name',\n",
    "                                                                                                                  'special_cases_name',\n",
    "                                                                                                                  'additional_information_name'])"
   ]
  },
  {
   "cell_type": "markdown",
   "metadata": {},
   "source": [
    "#### PBT"
   ]
  },
  {
   "cell_type": "code",
   "execution_count": 48,
   "metadata": {},
   "outputs": [
    {
     "data": {
      "text/plain": [
       "array(['pbt_vpvb'], dtype=object)"
      ]
     },
     "execution_count": 48,
     "metadata": {},
     "output_type": "execute_result"
    }
   ],
   "source": [
    "reg_cmd.loc[reg_cmd['names'].isin(pbt_pos),'general_regulation_name'].unique()"
   ]
  },
  {
   "cell_type": "code",
   "execution_count": 49,
   "metadata": {},
   "outputs": [
    {
     "data": {
      "text/plain": [
       "array(['reach_criteria_annex_xiii', 'assessment_before_reach'],\n",
       "      dtype=object)"
      ]
     },
     "execution_count": 49,
     "metadata": {},
     "output_type": "execute_result"
    }
   ],
   "source": [
    "reg_cmd.loc[reg_cmd['names'].isin(pbt_pos),'specific_regulation_name'].unique()"
   ]
  },
  {
   "cell_type": "code",
   "execution_count": 50,
   "metadata": {},
   "outputs": [
    {
     "data": {
      "text/plain": [
       "array(['annex_xiii_registrant_information', 'annex_xiii_candidate_list',\n",
       "       None], dtype=object)"
      ]
     },
     "execution_count": 50,
     "metadata": {},
     "output_type": "execute_result"
    }
   ],
   "source": [
    "reg_cmd.loc[reg_cmd['names'].isin(pbt_pos),'subspecific_regulation_name'].unique()"
   ]
  },
  {
   "cell_type": "code",
   "execution_count": 51,
   "metadata": {},
   "outputs": [
    {
     "data": {
      "text/plain": [
       "array([None], dtype=object)"
      ]
     },
     "execution_count": 51,
     "metadata": {},
     "output_type": "execute_result"
    }
   ],
   "source": [
    "reg_cmd.loc[reg_cmd['names'].isin(pbt_pos),'special_cases_name'].unique()"
   ]
  },
  {
   "cell_type": "code",
   "execution_count": 52,
   "metadata": {},
   "outputs": [
    {
     "data": {
      "text/plain": [
       "array([None], dtype=object)"
      ]
     },
     "execution_count": 52,
     "metadata": {},
     "output_type": "execute_result"
    }
   ],
   "source": [
    "reg_cmd.loc[reg_cmd['names'].isin(pbt_pos),'additional_information_name'].unique()"
   ]
  },
  {
   "cell_type": "code",
   "execution_count": 81,
   "metadata": {},
   "outputs": [
    {
     "data": {
      "text/html": [
       "<div>\n",
       "<style scoped>\n",
       "    .dataframe tbody tr th:only-of-type {\n",
       "        vertical-align: middle;\n",
       "    }\n",
       "\n",
       "    .dataframe tbody tr th {\n",
       "        vertical-align: top;\n",
       "    }\n",
       "\n",
       "    .dataframe thead th {\n",
       "        text-align: right;\n",
       "    }\n",
       "</style>\n",
       "<table border=\"1\" class=\"dataframe\">\n",
       "  <thead>\n",
       "    <tr style=\"text-align: right;\">\n",
       "      <th></th>\n",
       "      <th>general_regulation_name</th>\n",
       "      <th>specific_regulation_name</th>\n",
       "      <th>subspecific_regulation_name</th>\n",
       "      <th>special_cases_name</th>\n",
       "      <th>additional_information_name</th>\n",
       "    </tr>\n",
       "  </thead>\n",
       "  <tbody>\n",
       "    <tr>\n",
       "      <th>52851</th>\n",
       "      <td>pbt_vpvb</td>\n",
       "      <td>assessment_before_reach</td>\n",
       "      <td>None</td>\n",
       "      <td>None</td>\n",
       "      <td>None</td>\n",
       "    </tr>\n",
       "    <tr>\n",
       "      <th>50712</th>\n",
       "      <td>pbt_vpvb</td>\n",
       "      <td>reach_criteria_annex_xiii</td>\n",
       "      <td>annex_xiii_candidate_list</td>\n",
       "      <td>None</td>\n",
       "      <td>None</td>\n",
       "    </tr>\n",
       "    <tr>\n",
       "      <th>974</th>\n",
       "      <td>pbt_vpvb</td>\n",
       "      <td>reach_criteria_annex_xiii</td>\n",
       "      <td>annex_xiii_registrant_information</td>\n",
       "      <td>None</td>\n",
       "      <td>None</td>\n",
       "    </tr>\n",
       "  </tbody>\n",
       "</table>\n",
       "</div>"
      ],
      "text/plain": [
       "      general_regulation_name   specific_regulation_name  \\\n",
       "52851                pbt_vpvb    assessment_before_reach   \n",
       "50712                pbt_vpvb  reach_criteria_annex_xiii   \n",
       "974                  pbt_vpvb  reach_criteria_annex_xiii   \n",
       "\n",
       "             subspecific_regulation_name special_cases_name  \\\n",
       "52851                               None               None   \n",
       "50712          annex_xiii_candidate_list               None   \n",
       "974    annex_xiii_registrant_information               None   \n",
       "\n",
       "      additional_information_name  \n",
       "52851                        None  \n",
       "50712                        None  \n",
       "974                          None  "
      ]
     },
     "execution_count": 81,
     "metadata": {},
     "output_type": "execute_result"
    }
   ],
   "source": [
    "reg_cmd.loc[reg_cmd['names'].isin(pbt_pos),['general_regulation_name','specific_regulation_name',\n",
    "                                                 'subspecific_regulation_name','special_cases_name',\n",
    "                                                 'additional_information_name']].drop_duplicates().sort_values(by=['general_regulation_name',\n",
    "                                                                                                                   'specific_regulation_name',\n",
    "                                                                                                                  'subspecific_regulation_name',\n",
    "                                                                                                                  'special_cases_name',\n",
    "                                                                                                                  'additional_information_name'])"
   ]
  },
  {
   "cell_type": "markdown",
   "metadata": {},
   "source": [
    "#### vPvB"
   ]
  },
  {
   "cell_type": "code",
   "execution_count": 54,
   "metadata": {},
   "outputs": [
    {
     "data": {
      "text/plain": [
       "array(['pbt_vpvb'], dtype=object)"
      ]
     },
     "execution_count": 54,
     "metadata": {},
     "output_type": "execute_result"
    }
   ],
   "source": [
    "reg_cmd.loc[reg_cmd['names'].isin(vpvb_pos),'general_regulation_name'].unique()"
   ]
  },
  {
   "cell_type": "code",
   "execution_count": 55,
   "metadata": {},
   "outputs": [
    {
     "data": {
      "text/plain": [
       "array(['reach_criteria_annex_xiii', 'assessment_before_reach'],\n",
       "      dtype=object)"
      ]
     },
     "execution_count": 55,
     "metadata": {},
     "output_type": "execute_result"
    }
   ],
   "source": [
    "reg_cmd.loc[reg_cmd['names'].isin(vpvb_pos),'specific_regulation_name'].unique()"
   ]
  },
  {
   "cell_type": "code",
   "execution_count": 56,
   "metadata": {},
   "outputs": [
    {
     "data": {
      "text/plain": [
       "array(['annex_xiii_registrant_information', 'annex_xiii_candidate_list',\n",
       "       None], dtype=object)"
      ]
     },
     "execution_count": 56,
     "metadata": {},
     "output_type": "execute_result"
    }
   ],
   "source": [
    "reg_cmd.loc[reg_cmd['names'].isin(vpvb_pos),'subspecific_regulation_name'].unique()"
   ]
  },
  {
   "cell_type": "code",
   "execution_count": 58,
   "metadata": {},
   "outputs": [
    {
     "data": {
      "text/plain": [
       "array([None], dtype=object)"
      ]
     },
     "execution_count": 58,
     "metadata": {},
     "output_type": "execute_result"
    }
   ],
   "source": [
    "reg_cmd.loc[reg_cmd['names'].isin(vpvb_pos),'special_cases_name'].unique()"
   ]
  },
  {
   "cell_type": "code",
   "execution_count": 59,
   "metadata": {},
   "outputs": [
    {
     "data": {
      "text/plain": [
       "array([None], dtype=object)"
      ]
     },
     "execution_count": 59,
     "metadata": {},
     "output_type": "execute_result"
    }
   ],
   "source": [
    "reg_cmd.loc[reg_cmd['names'].isin(vpvb_pos),'additional_information_name'].unique()"
   ]
  },
  {
   "cell_type": "code",
   "execution_count": 82,
   "metadata": {},
   "outputs": [
    {
     "data": {
      "text/html": [
       "<div>\n",
       "<style scoped>\n",
       "    .dataframe tbody tr th:only-of-type {\n",
       "        vertical-align: middle;\n",
       "    }\n",
       "\n",
       "    .dataframe tbody tr th {\n",
       "        vertical-align: top;\n",
       "    }\n",
       "\n",
       "    .dataframe thead th {\n",
       "        text-align: right;\n",
       "    }\n",
       "</style>\n",
       "<table border=\"1\" class=\"dataframe\">\n",
       "  <thead>\n",
       "    <tr style=\"text-align: right;\">\n",
       "      <th></th>\n",
       "      <th>general_regulation_name</th>\n",
       "      <th>specific_regulation_name</th>\n",
       "      <th>subspecific_regulation_name</th>\n",
       "      <th>special_cases_name</th>\n",
       "      <th>additional_information_name</th>\n",
       "    </tr>\n",
       "  </thead>\n",
       "  <tbody>\n",
       "    <tr>\n",
       "      <th>52851</th>\n",
       "      <td>pbt_vpvb</td>\n",
       "      <td>assessment_before_reach</td>\n",
       "      <td>None</td>\n",
       "      <td>None</td>\n",
       "      <td>None</td>\n",
       "    </tr>\n",
       "    <tr>\n",
       "      <th>50712</th>\n",
       "      <td>pbt_vpvb</td>\n",
       "      <td>reach_criteria_annex_xiii</td>\n",
       "      <td>annex_xiii_candidate_list</td>\n",
       "      <td>None</td>\n",
       "      <td>None</td>\n",
       "    </tr>\n",
       "    <tr>\n",
       "      <th>975</th>\n",
       "      <td>pbt_vpvb</td>\n",
       "      <td>reach_criteria_annex_xiii</td>\n",
       "      <td>annex_xiii_registrant_information</td>\n",
       "      <td>None</td>\n",
       "      <td>None</td>\n",
       "    </tr>\n",
       "  </tbody>\n",
       "</table>\n",
       "</div>"
      ],
      "text/plain": [
       "      general_regulation_name   specific_regulation_name  \\\n",
       "52851                pbt_vpvb    assessment_before_reach   \n",
       "50712                pbt_vpvb  reach_criteria_annex_xiii   \n",
       "975                  pbt_vpvb  reach_criteria_annex_xiii   \n",
       "\n",
       "             subspecific_regulation_name special_cases_name  \\\n",
       "52851                               None               None   \n",
       "50712          annex_xiii_candidate_list               None   \n",
       "975    annex_xiii_registrant_information               None   \n",
       "\n",
       "      additional_information_name  \n",
       "52851                        None  \n",
       "50712                        None  \n",
       "975                          None  "
      ]
     },
     "execution_count": 82,
     "metadata": {},
     "output_type": "execute_result"
    }
   ],
   "source": [
    "reg_cmd.loc[reg_cmd['names'].isin(vpvb_pos),['general_regulation_name','specific_regulation_name',\n",
    "                                                 'subspecific_regulation_name','special_cases_name',\n",
    "                                                 'additional_information_name']].drop_duplicates().sort_values(by=['general_regulation_name',\n",
    "                                                                                                                   'specific_regulation_name',\n",
    "                                                                                                                  'subspecific_regulation_name',\n",
    "                                                                                                                  'special_cases_name',\n",
    "                                                                                                                  'additional_information_name'])"
   ]
  },
  {
   "cell_type": "markdown",
   "metadata": {},
   "source": [
    "#### Endocrine disruptor"
   ]
  },
  {
   "cell_type": "code",
   "execution_count": 60,
   "metadata": {},
   "outputs": [
    {
     "data": {
      "text/plain": [
       "array(['endocrine_disruptors', 'wfd', 'reach', 'pops'], dtype=object)"
      ]
     },
     "execution_count": 60,
     "metadata": {},
     "output_type": "execute_result"
    }
   ],
   "source": [
    "reg_cmd.loc[reg_cmd['names'].isin(endoc_pos),'general_regulation_name'].unique()"
   ]
  },
  {
   "cell_type": "code",
   "execution_count": 61,
   "metadata": {},
   "outputs": [
    {
     "data": {
      "text/plain": [
       "array(['european_comission', 'priority_substances_water_policy', 'svhc',\n",
       "       'biocidal_cmr_substance', 'prohibited_production_annex_i',\n",
       "       'list_substances_waste_management', 'waste_management',\n",
       "       'list_substances_release_reduction_provisions'], dtype=object)"
      ]
     },
     "execution_count": 61,
     "metadata": {},
     "output_type": "execute_result"
    }
   ],
   "source": [
    "reg_cmd.loc[reg_cmd['names'].isin(endoc_pos),'specific_regulation_name'].unique()"
   ]
  },
  {
   "cell_type": "code",
   "execution_count": 62,
   "metadata": {},
   "outputs": [
    {
     "data": {
      "text/plain": [
       "array([None, 'candidate_list', 'part_a', 'part_b'], dtype=object)"
      ]
     },
     "execution_count": 62,
     "metadata": {},
     "output_type": "execute_result"
    }
   ],
   "source": [
    "reg_cmd.loc[reg_cmd['names'].isin(endoc_pos),'subspecific_regulation_name'].unique()"
   ]
  },
  {
   "cell_type": "code",
   "execution_count": 63,
   "metadata": {},
   "outputs": [
    {
     "data": {
      "text/plain": [
       "array([None, 'preliminary_stages_inclusion_candidate_list'], dtype=object)"
      ]
     },
     "execution_count": 63,
     "metadata": {},
     "output_type": "execute_result"
    }
   ],
   "source": [
    "reg_cmd.loc[reg_cmd['names'].isin(endoc_pos),'special_cases_name'].unique()"
   ]
  },
  {
   "cell_type": "code",
   "execution_count": 64,
   "metadata": {},
   "outputs": [
    {
     "data": {
      "text/plain": [
       "array([None, 'Submitted SVHC intentions'], dtype=object)"
      ]
     },
     "execution_count": 64,
     "metadata": {},
     "output_type": "execute_result"
    }
   ],
   "source": [
    "reg_cmd.loc[reg_cmd['names'].isin(endoc_pos),'additional_information_name'].unique()"
   ]
  },
  {
   "cell_type": "code",
   "execution_count": 83,
   "metadata": {},
   "outputs": [
    {
     "data": {
      "text/html": [
       "<div>\n",
       "<style scoped>\n",
       "    .dataframe tbody tr th:only-of-type {\n",
       "        vertical-align: middle;\n",
       "    }\n",
       "\n",
       "    .dataframe tbody tr th {\n",
       "        vertical-align: top;\n",
       "    }\n",
       "\n",
       "    .dataframe thead th {\n",
       "        text-align: right;\n",
       "    }\n",
       "</style>\n",
       "<table border=\"1\" class=\"dataframe\">\n",
       "  <thead>\n",
       "    <tr style=\"text-align: right;\">\n",
       "      <th></th>\n",
       "      <th>general_regulation_name</th>\n",
       "      <th>specific_regulation_name</th>\n",
       "      <th>subspecific_regulation_name</th>\n",
       "      <th>special_cases_name</th>\n",
       "      <th>additional_information_name</th>\n",
       "    </tr>\n",
       "  </thead>\n",
       "  <tbody>\n",
       "    <tr>\n",
       "      <th>50716</th>\n",
       "      <td>endocrine_disruptors</td>\n",
       "      <td>biocidal_cmr_substance</td>\n",
       "      <td>None</td>\n",
       "      <td>None</td>\n",
       "      <td>None</td>\n",
       "    </tr>\n",
       "    <tr>\n",
       "      <th>166</th>\n",
       "      <td>endocrine_disruptors</td>\n",
       "      <td>european_comission</td>\n",
       "      <td>None</td>\n",
       "      <td>None</td>\n",
       "      <td>None</td>\n",
       "    </tr>\n",
       "    <tr>\n",
       "      <th>256216</th>\n",
       "      <td>pops</td>\n",
       "      <td>list_substances_release_reduction_provisions</td>\n",
       "      <td>None</td>\n",
       "      <td>None</td>\n",
       "      <td>None</td>\n",
       "    </tr>\n",
       "    <tr>\n",
       "      <th>50783</th>\n",
       "      <td>pops</td>\n",
       "      <td>list_substances_waste_management</td>\n",
       "      <td>None</td>\n",
       "      <td>None</td>\n",
       "      <td>None</td>\n",
       "    </tr>\n",
       "    <tr>\n",
       "      <th>50778</th>\n",
       "      <td>pops</td>\n",
       "      <td>prohibited_production_annex_i</td>\n",
       "      <td>part_a</td>\n",
       "      <td>None</td>\n",
       "      <td>None</td>\n",
       "    </tr>\n",
       "    <tr>\n",
       "      <th>257059</th>\n",
       "      <td>pops</td>\n",
       "      <td>prohibited_production_annex_i</td>\n",
       "      <td>part_b</td>\n",
       "      <td>None</td>\n",
       "      <td>None</td>\n",
       "    </tr>\n",
       "    <tr>\n",
       "      <th>50785</th>\n",
       "      <td>pops</td>\n",
       "      <td>waste_management</td>\n",
       "      <td>None</td>\n",
       "      <td>None</td>\n",
       "      <td>None</td>\n",
       "    </tr>\n",
       "    <tr>\n",
       "      <th>50433</th>\n",
       "      <td>reach</td>\n",
       "      <td>svhc</td>\n",
       "      <td>candidate_list</td>\n",
       "      <td>preliminary_stages_inclusion_candidate_list</td>\n",
       "      <td>Submitted SVHC intentions</td>\n",
       "    </tr>\n",
       "    <tr>\n",
       "      <th>804</th>\n",
       "      <td>wfd</td>\n",
       "      <td>priority_substances_water_policy</td>\n",
       "      <td>None</td>\n",
       "      <td>None</td>\n",
       "      <td>None</td>\n",
       "    </tr>\n",
       "  </tbody>\n",
       "</table>\n",
       "</div>"
      ],
      "text/plain": [
       "       general_regulation_name                      specific_regulation_name  \\\n",
       "50716     endocrine_disruptors                        biocidal_cmr_substance   \n",
       "166       endocrine_disruptors                            european_comission   \n",
       "256216                    pops  list_substances_release_reduction_provisions   \n",
       "50783                     pops              list_substances_waste_management   \n",
       "50778                     pops                 prohibited_production_annex_i   \n",
       "257059                    pops                 prohibited_production_annex_i   \n",
       "50785                     pops                              waste_management   \n",
       "50433                    reach                                          svhc   \n",
       "804                        wfd              priority_substances_water_policy   \n",
       "\n",
       "       subspecific_regulation_name  \\\n",
       "50716                         None   \n",
       "166                           None   \n",
       "256216                        None   \n",
       "50783                         None   \n",
       "50778                       part_a   \n",
       "257059                      part_b   \n",
       "50785                         None   \n",
       "50433               candidate_list   \n",
       "804                           None   \n",
       "\n",
       "                                 special_cases_name  \\\n",
       "50716                                          None   \n",
       "166                                            None   \n",
       "256216                                         None   \n",
       "50783                                          None   \n",
       "50778                                          None   \n",
       "257059                                         None   \n",
       "50785                                          None   \n",
       "50433   preliminary_stages_inclusion_candidate_list   \n",
       "804                                            None   \n",
       "\n",
       "       additional_information_name  \n",
       "50716                         None  \n",
       "166                           None  \n",
       "256216                        None  \n",
       "50783                         None  \n",
       "50778                         None  \n",
       "257059                        None  \n",
       "50785                         None  \n",
       "50433    Submitted SVHC intentions  \n",
       "804                           None  "
      ]
     },
     "execution_count": 83,
     "metadata": {},
     "output_type": "execute_result"
    }
   ],
   "source": [
    "reg_cmd.loc[reg_cmd['names'].isin(endoc_pos),['general_regulation_name','specific_regulation_name',\n",
    "                                                 'subspecific_regulation_name','special_cases_name',\n",
    "                                                 'additional_information_name']].drop_duplicates().sort_values(by=['general_regulation_name',\n",
    "                                                                                                                   'specific_regulation_name',\n",
    "                                                                                                                  'subspecific_regulation_name',\n",
    "                                                                                                                  'special_cases_name',\n",
    "                                                                                                                  'additional_information_name'])"
   ]
  },
  {
   "cell_type": "markdown",
   "metadata": {},
   "source": [
    "#### Sensitiser"
   ]
  },
  {
   "cell_type": "code",
   "execution_count": 65,
   "metadata": {},
   "outputs": [
    {
     "data": {
      "text/plain": [
       "array(['clp'], dtype=object)"
      ]
     },
     "execution_count": 65,
     "metadata": {},
     "output_type": "execute_result"
    }
   ],
   "source": [
    "reg_cmd.loc[reg_cmd['names'].isin(sens_ann),'general_regulation_name'].unique()"
   ]
  },
  {
   "cell_type": "code",
   "execution_count": 66,
   "metadata": {},
   "outputs": [
    {
     "data": {
      "text/plain": [
       "array(['preliminary_stage', 'harmonised_c&l'], dtype=object)"
      ]
     },
     "execution_count": 66,
     "metadata": {},
     "output_type": "execute_result"
    }
   ],
   "source": [
    "reg_cmd.loc[reg_cmd['names'].isin(sens_ann),'specific_regulation_name'].unique()"
   ]
  },
  {
   "cell_type": "code",
   "execution_count": 67,
   "metadata": {},
   "outputs": [
    {
     "data": {
      "text/plain": [
       "array(['c&l_inventory', 'hazard_class', 'spec_concentration_units',\n",
       "       'harmonised_c&l_intentions', 'hazard'], dtype=object)"
      ]
     },
     "execution_count": 67,
     "metadata": {},
     "output_type": "execute_result"
    }
   ],
   "source": [
    "reg_cmd.loc[reg_cmd['names'].isin(sens_ann),'subspecific_regulation_name'].unique()"
   ]
  },
  {
   "cell_type": "code",
   "execution_count": 68,
   "metadata": {},
   "outputs": [
    {
     "data": {
      "text/plain": [
       "array(['registration_dossier', 'notification', None], dtype=object)"
      ]
     },
     "execution_count": 68,
     "metadata": {},
     "output_type": "execute_result"
    }
   ],
   "source": [
    "reg_cmd.loc[reg_cmd['names'].isin(sens_ann),'special_cases_name'].unique()"
   ]
  },
  {
   "cell_type": "code",
   "execution_count": 69,
   "metadata": {},
   "outputs": [
    {
     "data": {
      "text/plain": [
       "array(['Self-classification', None, 'Amendment 2016/1179',\n",
       "       'Entry in Annex VI of CLP Regulation'], dtype=object)"
      ]
     },
     "execution_count": 69,
     "metadata": {},
     "output_type": "execute_result"
    }
   ],
   "source": [
    "reg_cmd.loc[reg_cmd['names'].isin(sens_ann),'additional_information_name'].unique()"
   ]
  },
  {
   "cell_type": "code",
   "execution_count": 84,
   "metadata": {},
   "outputs": [
    {
     "data": {
      "text/html": [
       "<div>\n",
       "<style scoped>\n",
       "    .dataframe tbody tr th:only-of-type {\n",
       "        vertical-align: middle;\n",
       "    }\n",
       "\n",
       "    .dataframe tbody tr th {\n",
       "        vertical-align: top;\n",
       "    }\n",
       "\n",
       "    .dataframe thead th {\n",
       "        text-align: right;\n",
       "    }\n",
       "</style>\n",
       "<table border=\"1\" class=\"dataframe\">\n",
       "  <thead>\n",
       "    <tr style=\"text-align: right;\">\n",
       "      <th></th>\n",
       "      <th>general_regulation_name</th>\n",
       "      <th>specific_regulation_name</th>\n",
       "      <th>subspecific_regulation_name</th>\n",
       "      <th>special_cases_name</th>\n",
       "      <th>additional_information_name</th>\n",
       "    </tr>\n",
       "  </thead>\n",
       "  <tbody>\n",
       "    <tr>\n",
       "      <th>609339</th>\n",
       "      <td>clp</td>\n",
       "      <td>harmonised_c&amp;l</td>\n",
       "      <td>hazard</td>\n",
       "      <td>None</td>\n",
       "      <td>None</td>\n",
       "    </tr>\n",
       "    <tr>\n",
       "      <th>50464</th>\n",
       "      <td>clp</td>\n",
       "      <td>harmonised_c&amp;l</td>\n",
       "      <td>hazard_class</td>\n",
       "      <td>None</td>\n",
       "      <td>Amendment 2016/1179</td>\n",
       "    </tr>\n",
       "    <tr>\n",
       "      <th>40</th>\n",
       "      <td>clp</td>\n",
       "      <td>harmonised_c&amp;l</td>\n",
       "      <td>hazard_class</td>\n",
       "      <td>None</td>\n",
       "      <td>None</td>\n",
       "    </tr>\n",
       "    <tr>\n",
       "      <th>57</th>\n",
       "      <td>clp</td>\n",
       "      <td>harmonised_c&amp;l</td>\n",
       "      <td>spec_concentration_units</td>\n",
       "      <td>None</td>\n",
       "      <td>None</td>\n",
       "    </tr>\n",
       "    <tr>\n",
       "      <th>26</th>\n",
       "      <td>clp</td>\n",
       "      <td>preliminary_stage</td>\n",
       "      <td>c&amp;l_inventory</td>\n",
       "      <td>notification</td>\n",
       "      <td>Self-classification</td>\n",
       "    </tr>\n",
       "    <tr>\n",
       "      <th>20</th>\n",
       "      <td>clp</td>\n",
       "      <td>preliminary_stage</td>\n",
       "      <td>c&amp;l_inventory</td>\n",
       "      <td>registration_dossier</td>\n",
       "      <td>Self-classification</td>\n",
       "    </tr>\n",
       "    <tr>\n",
       "      <th>96019</th>\n",
       "      <td>clp</td>\n",
       "      <td>preliminary_stage</td>\n",
       "      <td>harmonised_c&amp;l_intentions</td>\n",
       "      <td>None</td>\n",
       "      <td>Entry in Annex VI of CLP Regulation</td>\n",
       "    </tr>\n",
       "  </tbody>\n",
       "</table>\n",
       "</div>"
      ],
      "text/plain": [
       "       general_regulation_name specific_regulation_name  \\\n",
       "609339                     clp           harmonised_c&l   \n",
       "50464                      clp           harmonised_c&l   \n",
       "40                         clp           harmonised_c&l   \n",
       "57                         clp           harmonised_c&l   \n",
       "26                         clp        preliminary_stage   \n",
       "20                         clp        preliminary_stage   \n",
       "96019                      clp        preliminary_stage   \n",
       "\n",
       "       subspecific_regulation_name    special_cases_name  \\\n",
       "609339                      hazard                  None   \n",
       "50464                 hazard_class                  None   \n",
       "40                    hazard_class                  None   \n",
       "57        spec_concentration_units                  None   \n",
       "26                   c&l_inventory          notification   \n",
       "20                   c&l_inventory  registration_dossier   \n",
       "96019    harmonised_c&l_intentions                  None   \n",
       "\n",
       "                additional_information_name  \n",
       "609339                                 None  \n",
       "50464                   Amendment 2016/1179  \n",
       "40                                     None  \n",
       "57                                     None  \n",
       "26                      Self-classification  \n",
       "20                      Self-classification  \n",
       "96019   Entry in Annex VI of CLP Regulation  "
      ]
     },
     "execution_count": 84,
     "metadata": {},
     "output_type": "execute_result"
    }
   ],
   "source": [
    "reg_cmd.loc[reg_cmd['names'].isin(sens_ann),['general_regulation_name','specific_regulation_name',\n",
    "                                                 'subspecific_regulation_name','special_cases_name',\n",
    "                                                 'additional_information_name']].drop_duplicates().sort_values(by=['general_regulation_name',\n",
    "                                                                                                                   'specific_regulation_name',\n",
    "                                                                                                                  'subspecific_regulation_name',\n",
    "                                                                                                                  'special_cases_name',\n",
    "                                                                                                                  'additional_information_name'])"
   ]
  },
  {
   "cell_type": "markdown",
   "metadata": {},
   "source": [
    "#### Other"
   ]
  },
  {
   "cell_type": "code",
   "execution_count": 70,
   "metadata": {},
   "outputs": [
    {
     "data": {
      "text/plain": [
       "array(['clp', 'reach', 'wfd', 'endocrine_disruptors', 'pops'],\n",
       "      dtype=object)"
      ]
     },
     "execution_count": 70,
     "metadata": {},
     "output_type": "execute_result"
    }
   ],
   "source": [
    "reg_cmd.loc[reg_cmd['names'].isin(other_ann),'general_regulation_name'].unique()"
   ]
  },
  {
   "cell_type": "code",
   "execution_count": 71,
   "metadata": {},
   "outputs": [
    {
     "data": {
      "text/plain": [
       "array(['preliminary_stage', 'harmonised_c&l', 'svhc',\n",
       "       'priority_substances_water_policy', 'biocidal_cmr_substance',\n",
       "       'prohibited_production_annex_i',\n",
       "       'list_substances_waste_management', 'waste_management',\n",
       "       'list_substances_release_reduction_provisions'], dtype=object)"
      ]
     },
     "execution_count": 71,
     "metadata": {},
     "output_type": "execute_result"
    }
   ],
   "source": [
    "reg_cmd.loc[reg_cmd['names'].isin(other_ann),'specific_regulation_name'].unique()"
   ]
  },
  {
   "cell_type": "code",
   "execution_count": 72,
   "metadata": {},
   "outputs": [
    {
     "data": {
      "text/plain": [
       "array(['c&l_inventory', 'hazard_class', 'spec_concentration_units',\n",
       "       'candidate_list', None, 'hazard', 'pictogram', 'signal_word',\n",
       "       'harmonised_c&l_intentions', 'part_a', 'part_b', 'index_number',\n",
       "       'supplementary_hazard'], dtype=object)"
      ]
     },
     "execution_count": 72,
     "metadata": {},
     "output_type": "execute_result"
    }
   ],
   "source": [
    "reg_cmd.loc[reg_cmd['names'].isin(other_ann),'subspecific_regulation_name'].unique()"
   ]
  },
  {
   "cell_type": "code",
   "execution_count": 73,
   "metadata": {},
   "outputs": [
    {
     "data": {
      "text/plain": [
       "array(['registration_dossier', 'notification', None, 'candidate_list',\n",
       "       'preliminary_stages_inclusion_candidate_list'], dtype=object)"
      ]
     },
     "execution_count": 73,
     "metadata": {},
     "output_type": "execute_result"
    }
   ],
   "source": [
    "reg_cmd.loc[reg_cmd['names'].isin(other_ann),'special_cases_name'].unique()"
   ]
  },
  {
   "cell_type": "code",
   "execution_count": 74,
   "metadata": {},
   "outputs": [
    {
     "data": {
      "text/plain": [
       "array(['Self-classification', None, 'Amendment 2016/1179',\n",
       "       'Entry in Annex VI of CLP Regulation', 'Submitted SVHC intentions'],\n",
       "      dtype=object)"
      ]
     },
     "execution_count": 74,
     "metadata": {},
     "output_type": "execute_result"
    }
   ],
   "source": [
    "reg_cmd.loc[reg_cmd['names'].isin(other_ann),'additional_information_name'].unique()"
   ]
  },
  {
   "cell_type": "code",
   "execution_count": 85,
   "metadata": {},
   "outputs": [
    {
     "data": {
      "text/html": [
       "<div>\n",
       "<style scoped>\n",
       "    .dataframe tbody tr th:only-of-type {\n",
       "        vertical-align: middle;\n",
       "    }\n",
       "\n",
       "    .dataframe tbody tr th {\n",
       "        vertical-align: top;\n",
       "    }\n",
       "\n",
       "    .dataframe thead th {\n",
       "        text-align: right;\n",
       "    }\n",
       "</style>\n",
       "<table border=\"1\" class=\"dataframe\">\n",
       "  <thead>\n",
       "    <tr style=\"text-align: right;\">\n",
       "      <th></th>\n",
       "      <th>general_regulation_name</th>\n",
       "      <th>specific_regulation_name</th>\n",
       "      <th>subspecific_regulation_name</th>\n",
       "      <th>special_cases_name</th>\n",
       "      <th>additional_information_name</th>\n",
       "    </tr>\n",
       "  </thead>\n",
       "  <tbody>\n",
       "    <tr>\n",
       "      <th>954</th>\n",
       "      <td>clp</td>\n",
       "      <td>harmonised_c&amp;l</td>\n",
       "      <td>hazard</td>\n",
       "      <td>None</td>\n",
       "      <td>Amendment 2016/1179</td>\n",
       "    </tr>\n",
       "    <tr>\n",
       "      <th>991</th>\n",
       "      <td>clp</td>\n",
       "      <td>harmonised_c&amp;l</td>\n",
       "      <td>hazard</td>\n",
       "      <td>None</td>\n",
       "      <td>None</td>\n",
       "    </tr>\n",
       "    <tr>\n",
       "      <th>951</th>\n",
       "      <td>clp</td>\n",
       "      <td>harmonised_c&amp;l</td>\n",
       "      <td>hazard_class</td>\n",
       "      <td>None</td>\n",
       "      <td>Amendment 2016/1179</td>\n",
       "    </tr>\n",
       "    <tr>\n",
       "      <th>34</th>\n",
       "      <td>clp</td>\n",
       "      <td>harmonised_c&amp;l</td>\n",
       "      <td>hazard_class</td>\n",
       "      <td>None</td>\n",
       "      <td>None</td>\n",
       "    </tr>\n",
       "    <tr>\n",
       "      <th>388392</th>\n",
       "      <td>clp</td>\n",
       "      <td>harmonised_c&amp;l</td>\n",
       "      <td>index_number</td>\n",
       "      <td>None</td>\n",
       "      <td>Amendment 2016/1179</td>\n",
       "    </tr>\n",
       "    <tr>\n",
       "      <th>388230</th>\n",
       "      <td>clp</td>\n",
       "      <td>harmonised_c&amp;l</td>\n",
       "      <td>index_number</td>\n",
       "      <td>None</td>\n",
       "      <td>None</td>\n",
       "    </tr>\n",
       "    <tr>\n",
       "      <th>983</th>\n",
       "      <td>clp</td>\n",
       "      <td>harmonised_c&amp;l</td>\n",
       "      <td>pictogram</td>\n",
       "      <td>None</td>\n",
       "      <td>None</td>\n",
       "    </tr>\n",
       "    <tr>\n",
       "      <th>987</th>\n",
       "      <td>clp</td>\n",
       "      <td>harmonised_c&amp;l</td>\n",
       "      <td>signal_word</td>\n",
       "      <td>None</td>\n",
       "      <td>None</td>\n",
       "    </tr>\n",
       "    <tr>\n",
       "      <th>48</th>\n",
       "      <td>clp</td>\n",
       "      <td>harmonised_c&amp;l</td>\n",
       "      <td>spec_concentration_units</td>\n",
       "      <td>None</td>\n",
       "      <td>None</td>\n",
       "    </tr>\n",
       "    <tr>\n",
       "      <th>608920</th>\n",
       "      <td>clp</td>\n",
       "      <td>harmonised_c&amp;l</td>\n",
       "      <td>supplementary_hazard</td>\n",
       "      <td>None</td>\n",
       "      <td>None</td>\n",
       "    </tr>\n",
       "    <tr>\n",
       "      <th>27</th>\n",
       "      <td>clp</td>\n",
       "      <td>preliminary_stage</td>\n",
       "      <td>c&amp;l_inventory</td>\n",
       "      <td>notification</td>\n",
       "      <td>Self-classification</td>\n",
       "    </tr>\n",
       "    <tr>\n",
       "      <th>21</th>\n",
       "      <td>clp</td>\n",
       "      <td>preliminary_stage</td>\n",
       "      <td>c&amp;l_inventory</td>\n",
       "      <td>registration_dossier</td>\n",
       "      <td>Self-classification</td>\n",
       "    </tr>\n",
       "    <tr>\n",
       "      <th>45395</th>\n",
       "      <td>clp</td>\n",
       "      <td>preliminary_stage</td>\n",
       "      <td>harmonised_c&amp;l_intentions</td>\n",
       "      <td>None</td>\n",
       "      <td>Entry in Annex VI of CLP Regulation</td>\n",
       "    </tr>\n",
       "    <tr>\n",
       "      <th>50681</th>\n",
       "      <td>clp</td>\n",
       "      <td>preliminary_stage</td>\n",
       "      <td>harmonised_c&amp;l_intentions</td>\n",
       "      <td>None</td>\n",
       "      <td>None</td>\n",
       "    </tr>\n",
       "    <tr>\n",
       "      <th>50716</th>\n",
       "      <td>endocrine_disruptors</td>\n",
       "      <td>biocidal_cmr_substance</td>\n",
       "      <td>None</td>\n",
       "      <td>None</td>\n",
       "      <td>None</td>\n",
       "    </tr>\n",
       "    <tr>\n",
       "      <th>256216</th>\n",
       "      <td>pops</td>\n",
       "      <td>list_substances_release_reduction_provisions</td>\n",
       "      <td>None</td>\n",
       "      <td>None</td>\n",
       "      <td>None</td>\n",
       "    </tr>\n",
       "    <tr>\n",
       "      <th>50783</th>\n",
       "      <td>pops</td>\n",
       "      <td>list_substances_waste_management</td>\n",
       "      <td>None</td>\n",
       "      <td>None</td>\n",
       "      <td>None</td>\n",
       "    </tr>\n",
       "    <tr>\n",
       "      <th>50778</th>\n",
       "      <td>pops</td>\n",
       "      <td>prohibited_production_annex_i</td>\n",
       "      <td>part_a</td>\n",
       "      <td>None</td>\n",
       "      <td>None</td>\n",
       "    </tr>\n",
       "    <tr>\n",
       "      <th>257059</th>\n",
       "      <td>pops</td>\n",
       "      <td>prohibited_production_annex_i</td>\n",
       "      <td>part_b</td>\n",
       "      <td>None</td>\n",
       "      <td>None</td>\n",
       "    </tr>\n",
       "    <tr>\n",
       "      <th>50785</th>\n",
       "      <td>pops</td>\n",
       "      <td>waste_management</td>\n",
       "      <td>None</td>\n",
       "      <td>None</td>\n",
       "      <td>None</td>\n",
       "    </tr>\n",
       "    <tr>\n",
       "      <th>741</th>\n",
       "      <td>reach</td>\n",
       "      <td>svhc</td>\n",
       "      <td>candidate_list</td>\n",
       "      <td>candidate_list</td>\n",
       "      <td>None</td>\n",
       "    </tr>\n",
       "    <tr>\n",
       "      <th>187800</th>\n",
       "      <td>reach</td>\n",
       "      <td>svhc</td>\n",
       "      <td>candidate_list</td>\n",
       "      <td>preliminary_stages_inclusion_candidate_list</td>\n",
       "      <td>Submitted SVHC intentions</td>\n",
       "    </tr>\n",
       "    <tr>\n",
       "      <th>804</th>\n",
       "      <td>wfd</td>\n",
       "      <td>priority_substances_water_policy</td>\n",
       "      <td>None</td>\n",
       "      <td>None</td>\n",
       "      <td>None</td>\n",
       "    </tr>\n",
       "  </tbody>\n",
       "</table>\n",
       "</div>"
      ],
      "text/plain": [
       "       general_regulation_name                      specific_regulation_name  \\\n",
       "954                        clp                                harmonised_c&l   \n",
       "991                        clp                                harmonised_c&l   \n",
       "951                        clp                                harmonised_c&l   \n",
       "34                         clp                                harmonised_c&l   \n",
       "388392                     clp                                harmonised_c&l   \n",
       "388230                     clp                                harmonised_c&l   \n",
       "983                        clp                                harmonised_c&l   \n",
       "987                        clp                                harmonised_c&l   \n",
       "48                         clp                                harmonised_c&l   \n",
       "608920                     clp                                harmonised_c&l   \n",
       "27                         clp                             preliminary_stage   \n",
       "21                         clp                             preliminary_stage   \n",
       "45395                      clp                             preliminary_stage   \n",
       "50681                      clp                             preliminary_stage   \n",
       "50716     endocrine_disruptors                        biocidal_cmr_substance   \n",
       "256216                    pops  list_substances_release_reduction_provisions   \n",
       "50783                     pops              list_substances_waste_management   \n",
       "50778                     pops                 prohibited_production_annex_i   \n",
       "257059                    pops                 prohibited_production_annex_i   \n",
       "50785                     pops                              waste_management   \n",
       "741                      reach                                          svhc   \n",
       "187800                   reach                                          svhc   \n",
       "804                        wfd              priority_substances_water_policy   \n",
       "\n",
       "       subspecific_regulation_name  \\\n",
       "954                         hazard   \n",
       "991                         hazard   \n",
       "951                   hazard_class   \n",
       "34                    hazard_class   \n",
       "388392                index_number   \n",
       "388230                index_number   \n",
       "983                      pictogram   \n",
       "987                    signal_word   \n",
       "48        spec_concentration_units   \n",
       "608920        supplementary_hazard   \n",
       "27                   c&l_inventory   \n",
       "21                   c&l_inventory   \n",
       "45395    harmonised_c&l_intentions   \n",
       "50681    harmonised_c&l_intentions   \n",
       "50716                         None   \n",
       "256216                        None   \n",
       "50783                         None   \n",
       "50778                       part_a   \n",
       "257059                      part_b   \n",
       "50785                         None   \n",
       "741                 candidate_list   \n",
       "187800              candidate_list   \n",
       "804                           None   \n",
       "\n",
       "                                 special_cases_name  \\\n",
       "954                                            None   \n",
       "991                                            None   \n",
       "951                                            None   \n",
       "34                                             None   \n",
       "388392                                         None   \n",
       "388230                                         None   \n",
       "983                                            None   \n",
       "987                                            None   \n",
       "48                                             None   \n",
       "608920                                         None   \n",
       "27                                     notification   \n",
       "21                             registration_dossier   \n",
       "45395                                          None   \n",
       "50681                                          None   \n",
       "50716                                          None   \n",
       "256216                                         None   \n",
       "50783                                          None   \n",
       "50778                                          None   \n",
       "257059                                         None   \n",
       "50785                                          None   \n",
       "741                                  candidate_list   \n",
       "187800  preliminary_stages_inclusion_candidate_list   \n",
       "804                                            None   \n",
       "\n",
       "                additional_information_name  \n",
       "954                     Amendment 2016/1179  \n",
       "991                                    None  \n",
       "951                     Amendment 2016/1179  \n",
       "34                                     None  \n",
       "388392                  Amendment 2016/1179  \n",
       "388230                                 None  \n",
       "983                                    None  \n",
       "987                                    None  \n",
       "48                                     None  \n",
       "608920                                 None  \n",
       "27                      Self-classification  \n",
       "21                      Self-classification  \n",
       "45395   Entry in Annex VI of CLP Regulation  \n",
       "50681                                  None  \n",
       "50716                                  None  \n",
       "256216                                 None  \n",
       "50783                                  None  \n",
       "50778                                  None  \n",
       "257059                                 None  \n",
       "50785                                  None  \n",
       "741                                    None  \n",
       "187800            Submitted SVHC intentions  \n",
       "804                                    None  "
      ]
     },
     "execution_count": 85,
     "metadata": {},
     "output_type": "execute_result"
    }
   ],
   "source": [
    "reg_cmd.loc[reg_cmd['names'].isin(other_ann),['general_regulation_name','specific_regulation_name',\n",
    "                                                 'subspecific_regulation_name','special_cases_name',\n",
    "                                                 'additional_information_name']].drop_duplicates().sort_values(by=['general_regulation_name',\n",
    "                                                                                                                   'specific_regulation_name',\n",
    "                                                                                                                  'subspecific_regulation_name',\n",
    "                                                                                                                  'special_cases_name',\n",
    "                                                                                                                  'additional_information_name'])"
   ]
  }
 ],
 "metadata": {
  "kernelspec": {
   "display_name": "Python 3",
   "language": "python",
   "name": "python3"
  },
  "language_info": {
   "codemirror_mode": {
    "name": "ipython",
    "version": 3
   },
   "file_extension": ".py",
   "mimetype": "text/x-python",
   "name": "python",
   "nbconvert_exporter": "python",
   "pygments_lexer": "ipython3",
   "version": "3.7.3"
  }
 },
 "nbformat": 4,
 "nbformat_minor": 4
}
