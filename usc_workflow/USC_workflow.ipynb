{
 "cells": [
  {
   "cell_type": "code",
   "execution_count": 1,
   "metadata": {},
   "outputs": [],
   "source": [
    "import math\n",
    "import matplotlib.pyplot as plt\n",
    "import numpy as np\n",
    "import os\n",
    "import pandas as pd\n",
    "import psycopg2\n",
    "import random\n",
    "import seaborn as sns\n",
    "import USC_dataframe_generation as usc\n",
    "\n",
    "from importlib import reload"
   ]
  },
  {
   "cell_type": "code",
   "execution_count": 2,
   "metadata": {},
   "outputs": [],
   "source": [
    "conn = psycopg2.connect(host='localhost', dbname='inventory', user='postgres', password='PSGAdmin')\n",
    "curs = conn.cursor()\n",
    "psycopg2.extensions.register_adapter(np.int64, psycopg2._psycopg.AsIs)"
   ]
  },
  {
   "cell_type": "code",
   "execution_count": 3,
   "metadata": {},
   "outputs": [],
   "source": [
    "heh_cmd = pd.read_sql_query(\"\"\"SELECT subs_id, sub.class_name, sub.preferred_name, casr_number, ec_number, index_number, \n",
    "                                ht.\"type\", hc.classification, hn.\"name\"\n",
    "                                FROM heh h\n",
    "                                left join substance sub on sub.id = h.subs_id\n",
    "                                left join heh_type ht on ht.id = h.heh_type_id\n",
    "                                left join heh_classification hc on hc.id = h.heh_classif_id\n",
    "                                left join heh_name hn on hn.id = h.heh_name_id\"\"\", conn)\n",
    "\n",
    "heh_df = pd.DataFrame(heh_cmd, dtype=object)"
   ]
  },
  {
   "cell_type": "code",
   "execution_count": 4,
   "metadata": {},
   "outputs": [],
   "source": [
    "reg_cmd = pd.read_sql_query(\"\"\"SELECT reg.id, reg.subs_id, sub.class_name, sub.preferred_name, rco.country, rt.\"type\", rg.general_regulation_name, \n",
    "                            rspec.specific_regulation_name, rsub.subspecific_regulation_name, rsc.special_cases_name, addr.additional_information_name, \n",
    "                            cid.\"name\", ct.\"type\", regn.names\n",
    "                            FROM regulations reg\n",
    "                            LEFT JOIN substance sub ON sub.id = reg.subs_id\n",
    "                            left join regulation_country rco on rco.id = reg.reg_country_id\n",
    "                            left join regulation_type rt on rt.id = reg.reg_type_id\n",
    "                            left join general_regulation rg on rg.id = reg.gen_reg_id\n",
    "                            left join specific_regulation rspec on rspec.id = reg.spec_reg_id\n",
    "                            LEFT JOIN subspecific_regulation rsub ON rsub.id = reg.subspec_reg_id\n",
    "                            left join special_cases_regulation rsc on rsc.id = reg.special_cases_id\n",
    "                            left join additional_information_regulation addr on addr.id = reg.additional_information_id\n",
    "                            LEFT JOIN chem_id cid ON cid.chem_type_id = reg.chem_type_id\n",
    "                            LEFT JOIN chem_type ct ON ct.id = cid.chem_type_id\n",
    "                            LEFT JOIN regulation_names regn ON regn.id = reg.regulation_id\n",
    "                            order by reg.id asc\"\"\", conn)\n",
    "\n",
    "reg_df = pd.DataFrame(reg_cmd, dtype=object)"
   ]
  },
  {
   "cell_type": "code",
   "execution_count": 5,
   "metadata": {},
   "outputs": [],
   "source": [
    "substances = reg_df.subs_id.unique()"
   ]
  },
  {
   "cell_type": "code",
   "execution_count": 6,
   "metadata": {},
   "outputs": [],
   "source": [
    "names_regulations_cols = ['class_name','preferred_name','general_regulation_name','specific_regulation_name',\n",
    "                          'subspecific_regulation_name','special_cases_name','additional_information_name','names']"
   ]
  },
  {
   "cell_type": "code",
   "execution_count": 7,
   "metadata": {},
   "outputs": [],
   "source": [
    "cmr_positive = heh_df.loc[(heh_df['type'] == 'CMR') & (~heh_df['name'].isin(['YES','NO','No information','Pending (1)',\n",
    "                                                                            '(Shall apply from 1 March 2018)',\n",
    "                                                                            '(31/03/2017)',\n",
    "                                                                            'Registry of current Harmonised Classification and Labelling intentions by France',\n",
    "                                                                            'Submitted intention by Netherlands (18/11/2015)',\n",
    "                                                                            'Submitted intention by Norway (03/10/2011)',\n",
    "                                                                            'Submitted intention by Germany (22/02/2011)',\n",
    "                                                                            'Submitted intention by Norway (24/06/2014)',\n",
    "                                                                            'Amendment 2016/1179', 'Pending','particle diameter < 1 mm)',\n",
    "                                                                            'Submitted intention by Italy (22/08/2012)',\n",
    "                                                                            'Submitted intention by Sweden (14/11/2014)'])), 'name'].unique()\n",
    "pbt_ann = heh_df.loc[(heh_df['type'] == 'PBT') & (~heh_df['name'].isin(['YES','NO','No information','Pending (2)'])), 'name'].unique()\n",
    "vpvb_ann = heh_df.loc[(heh_df['type'] == 'vPvB') & (~heh_df['name'].isin(['NO','Pending (2)','YES','No information'])), 'name'].unique()\n",
    "endoc_ann = heh_df.loc[(heh_df['type'] == 'Endocrine_disruptor') & (~heh_df['name'].isin(['YES','NO','Pending (3)','No information'])), 'name'].unique()\n",
    "sens_ann = heh_df.loc[(heh_df['type'] == 'Sensitiser') & (~heh_df['name'].isin(['YES','NO','No information','(Shall apply from 1 March 2018)',\n",
    "                                                                                'Pending (3)','Pending(3)','Submitted intention by Slovenia (09/01/2015)',\n",
    "                                                                               'Submitted intention by United Kingdom (01/02/2017)',\n",
    "                                                                               'Amendment 2016/1179','(05/01/2016)','particle diameter < 1 mm)',\n",
    "                                                                               'Proposed future entry in Annex VI of CLP Regulation',\n",
    "                                                                               'Registry of current Harmonised Classification and Labelling intentions by Norway',\n",
    "                                                                               'Removal of','SCL ≥ 0.06 %'])), 'name'].unique()\n",
    "other_ann = heh_df.loc[(heh_df['type'] == 'Other') & (~heh_df['name'].isin(['No information'])), 'name'].unique()"
   ]
  },
  {
   "cell_type": "code",
   "execution_count": 8,
   "metadata": {},
   "outputs": [],
   "source": [
    "pbt_ann = np.array([str_.strip('(').strip(')') for str_ in pbt_ann])"
   ]
  },
  {
   "cell_type": "code",
   "execution_count": 9,
   "metadata": {},
   "outputs": [],
   "source": [
    "vpvb_ann = np.array([str_.strip('(').strip(')') for str_ in vpvb_ann])"
   ]
  },
  {
   "cell_type": "code",
   "execution_count": 10,
   "metadata": {},
   "outputs": [],
   "source": [
    "endoc_ann = np.array([str_.strip('(').strip(')') for str_ in endoc_ann])"
   ]
  },
  {
   "cell_type": "code",
   "execution_count": 11,
   "metadata": {},
   "outputs": [
    {
     "name": "stdout",
     "output_type": "stream",
     "text": [
      "CPU times: user 11min 47s, sys: 131 ms, total: 11min 47s\n",
      "Wall time: 11min 47s\n"
     ]
    }
   ],
   "source": [
    "# %%time\n",
    "# cmr_dict = usc.generate_dataframe(substance_id_list=substances,endpoint='CMR', regulations_df=reg_df, endpoint_annotations=cmr_positive)"
   ]
  },
  {
   "cell_type": "code",
   "execution_count": 12,
   "metadata": {},
   "outputs": [],
   "source": [
    "# pbt_dict = usc.generate_dataframe(substance_id_list=substances,endpoint='PBT', regulations_df=reg_df, endpoint_annotations=pbt_ann)"
   ]
  },
  {
   "cell_type": "code",
   "execution_count": 13,
   "metadata": {},
   "outputs": [],
   "source": [
    "# vpvb_dict = usc.generate_dataframe(substance_id_list=substances,endpoint='vPvB', regulations_df=reg_df, endpoint_annotations=vpvb_ann)"
   ]
  },
  {
   "cell_type": "code",
   "execution_count": 14,
   "metadata": {},
   "outputs": [],
   "source": [
    "# endoc_dict = usc.generate_dataframe(substance_id_list=substances,endpoint='Endocrine_disruptor', regulations_df=reg_df, endpoint_annotations=endoc_ann)"
   ]
  },
  {
   "cell_type": "code",
   "execution_count": 15,
   "metadata": {},
   "outputs": [],
   "source": [
    "# sens_dict = usc.generate_dataframe(substance_id_list=substances,endpoint='Sensitiser', regulations_df=reg_df, endpoint_annotations=sens_ann)"
   ]
  },
  {
   "cell_type": "code",
   "execution_count": 16,
   "metadata": {},
   "outputs": [],
   "source": [
    "# other_dict = usc.generate_dataframe(substance_id_list=substances,endpoint='Other', regulations_df=reg_df, endpoint_annotations=other_ann)"
   ]
  },
  {
   "cell_type": "code",
   "execution_count": 17,
   "metadata": {},
   "outputs": [],
   "source": [
    "# cmr_df = pd.DataFrame(data=cmr_dict)\n",
    "# pbt_df = pd.DataFrame(data=pbt_dict)\n",
    "# vpvb_df = pd.DataFrame(data=vpvb_dict)\n",
    "# endoc_df = pd.DataFrame(data=endoc_dict)\n",
    "# sens_df = pd.DataFrame(data=sens_dict)\n",
    "# other_df = pd.DataFrame(data=other_dict)"
   ]
  },
  {
   "cell_type": "code",
   "execution_count": 18,
   "metadata": {},
   "outputs": [],
   "source": [
    "# to_concat_df = [cmr_df, pbt_df, vpvb_df,endoc_df,sens_df]\n",
    "# concat_df = pd.concat(to_concat_df)"
   ]
  },
  {
   "cell_type": "code",
   "execution_count": 19,
   "metadata": {},
   "outputs": [],
   "source": [
    "# for subs_id in substances:\n",
    "#     if other_df[(other_df['subs_id'] == subs_id) & (other_df['name'].isin(['NO','No information']))].empty:\n",
    "#         other_df.loc[other_df['subs_id'] == subs_id,:] = other_df.loc[(other_df['subs_id'] == subs_id) & \n",
    "#                                                                       (~other_df['name'].isin(concat_df[concat_df['subs_id'] == subs_id].name.unique())),:]"
   ]
  },
  {
   "cell_type": "code",
   "execution_count": 20,
   "metadata": {},
   "outputs": [],
   "source": [
    "# new_other_df = other_df.dropna().reset_index().drop(columns=['index'])"
   ]
  },
  {
   "cell_type": "code",
   "execution_count": 21,
   "metadata": {},
   "outputs": [],
   "source": [
    "# final_to_concat =[concat_df, new_other_df]\n",
    "# final_df = pd.concat(final_to_concat)\n",
    "# sorted_concat_df = final_df.sort_values(by=['subs_id', 'endpoint_type']).reset_index().drop(columns=['index'])"
   ]
  },
  {
   "cell_type": "code",
   "execution_count": 22,
   "metadata": {},
   "outputs": [],
   "source": [
    "# sorted_concat_df.to_pickle('generated_heh_df.pkl')"
   ]
  },
  {
   "cell_type": "code",
   "execution_count": 23,
   "metadata": {},
   "outputs": [],
   "source": [
    "sorted_concat_df = pd.read_pickle('generated_heh_df.pkl')"
   ]
  },
  {
   "cell_type": "code",
   "execution_count": 24,
   "metadata": {},
   "outputs": [
    {
     "data": {
      "text/plain": [
       "Index(['subs_id', 'endpoint_type', 'regulation', 'name'], dtype='object')"
      ]
     },
     "execution_count": 24,
     "metadata": {},
     "output_type": "execute_result"
    }
   ],
   "source": [
    "sorted_concat_df.columns"
   ]
  },
  {
   "cell_type": "markdown",
   "metadata": {},
   "source": [
    "### Comparing HEH from Excel with my own generated dataframe"
   ]
  },
  {
   "cell_type": "code",
   "execution_count": 25,
   "metadata": {},
   "outputs": [
    {
     "data": {
      "text/plain": [
       "21.857466737548144"
      ]
     },
     "execution_count": 25,
     "metadata": {},
     "output_type": "execute_result"
    }
   ],
   "source": [
    "comp_dict = usc.compare_heh_dataframes(heh_df, sorted_concat_df, substances)\n",
    "comp_df = pd.DataFrame(data=comp_dict, dtype=object)\n",
    "comp_df['%_recuperation'].mean()\n",
    "comp_df['%_recuperation'].std()"
   ]
  },
  {
   "cell_type": "code",
   "execution_count": 26,
   "metadata": {},
   "outputs": [
    {
     "data": {
      "text/plain": [
       "<matplotlib.axes._subplots.AxesSubplot at 0x7ff00a1f62e8>"
      ]
     },
     "execution_count": 26,
     "metadata": {},
     "output_type": "execute_result"
    },
    {
     "data": {
      "image/png": "[encoded data removed]",
      "text/plain": [
       "<Figure size 432x288 with 1 Axes>"
      ]
     },
     "metadata": {
      "needs_background": "light"
     },
     "output_type": "display_data"
    }
   ],
   "source": [
    "sns.distplot(sorted(comp_df['%_recuperation'].values))\n",
    "# plt.savefig(\"all_data.png\")"
   ]
  },
  {
   "cell_type": "markdown",
   "metadata": {},
   "source": [
    "### Recuperation by endpoint"
   ]
  },
  {
   "cell_type": "markdown",
   "metadata": {},
   "source": [
    "#### CMR"
   ]
  },
  {
   "cell_type": "code",
   "execution_count": 27,
   "metadata": {},
   "outputs": [
    {
     "name": "stdout",
     "output_type": "stream",
     "text": [
      "77.87821323219553\n",
      "41.2048021464935\n"
     ]
    }
   ],
   "source": [
    "cmr_comp_dict = usc.compare_heh_dataframes(heh_df, sorted_concat_df, substances, 'CMR')\n",
    "cmr_comp_df = pd.DataFrame(data=cmr_comp_dict, dtype=object)\n",
    "print(cmr_comp_df['%_recuperation'].mean())\n",
    "print(cmr_comp_df['%_recuperation'].std())"
   ]
  },
  {
   "cell_type": "markdown",
   "metadata": {},
   "source": [
    "In the case where there are lower recuperation rates (<= 60) is it because there are strings describing certain rules that don't appear in the current regulations, then I'm not capturing them."
   ]
  },
  {
   "cell_type": "code",
   "execution_count": 28,
   "metadata": {},
   "outputs": [
    {
     "data": {
      "text/plain": [
       "<matplotlib.axes._subplots.AxesSubplot at 0x7ff009499668>"
      ]
     },
     "execution_count": 28,
     "metadata": {},
     "output_type": "execute_result"
    },
    {
     "data": {
      "image/png": "[encoded data removed]",
      "text/plain": [
       "<Figure size 432x288 with 1 Axes>"
      ]
     },
     "metadata": {
      "needs_background": "light"
     },
     "output_type": "display_data"
    }
   ],
   "source": [
    "sns.distplot(sorted(cmr_comp_df['%_recuperation'].values))\n",
    "# plt.savefig(\"cmr_data.png\")"
   ]
  },
  {
   "cell_type": "markdown",
   "metadata": {},
   "source": [
    "#### PBT"
   ]
  },
  {
   "cell_type": "code",
   "execution_count": 29,
   "metadata": {},
   "outputs": [
    {
     "name": "stdout",
     "output_type": "stream",
     "text": [
      "32.610619469026545\n",
      "46.82854799691104\n"
     ]
    }
   ],
   "source": [
    "pbt_comp_dict = usc.compare_heh_dataframes(heh_df, sorted_concat_df, substances, 'PBT')\n",
    "pbt_comp_df = pd.DataFrame(data=pbt_comp_dict, dtype=object)\n",
    "print(pbt_comp_df['%_recuperation'].mean())\n",
    "print(pbt_comp_df['%_recuperation'].std())"
   ]
  },
  {
   "cell_type": "code",
   "execution_count": 30,
   "metadata": {},
   "outputs": [
    {
     "data": {
      "text/plain": [
       "<matplotlib.axes._subplots.AxesSubplot at 0x7ff008b7d7f0>"
      ]
     },
     "execution_count": 30,
     "metadata": {},
     "output_type": "execute_result"
    },
    {
     "data": {
      "image/png": "[encoded data removed]",
      "text/plain": [
       "<Figure size 432x288 with 1 Axes>"
      ]
     },
     "metadata": {
      "needs_background": "light"
     },
     "output_type": "display_data"
    }
   ],
   "source": [
    "sns.distplot(sorted(pbt_comp_df['%_recuperation'].values))\n",
    "# plt.savefig(\"pbt_data.png\")"
   ]
  },
  {
   "cell_type": "markdown",
   "metadata": {},
   "source": [
    "#### vPvB"
   ]
  },
  {
   "cell_type": "code",
   "execution_count": 31,
   "metadata": {},
   "outputs": [
    {
     "name": "stdout",
     "output_type": "stream",
     "text": [
      "32.256637168141594\n",
      "46.695455054880014\n"
     ]
    }
   ],
   "source": [
    "vpvb_comp_dict = usc.compare_heh_dataframes(heh_df, sorted_concat_df, substances, 'vPvB')\n",
    "vpvb_comp_df = pd.DataFrame(data=vpvb_comp_dict, dtype=object)\n",
    "print(vpvb_comp_df['%_recuperation'].mean())\n",
    "print(vpvb_comp_df['%_recuperation'].std())"
   ]
  },
  {
   "cell_type": "code",
   "execution_count": 32,
   "metadata": {},
   "outputs": [
    {
     "data": {
      "text/plain": [
       "<matplotlib.axes._subplots.AxesSubplot at 0x7ff004c0c160>"
      ]
     },
     "execution_count": 32,
     "metadata": {},
     "output_type": "execute_result"
    },
    {
     "data": {
      "image/png": "[encoded data removed]",
      "text/plain": [
       "<Figure size 432x288 with 1 Axes>"
      ]
     },
     "metadata": {
      "needs_background": "light"
     },
     "output_type": "display_data"
    }
   ],
   "source": [
    "sns.distplot(sorted(vpvb_comp_df['%_recuperation'].values))\n",
    "# plt.savefig(\"vpvb_data.png\")"
   ]
  },
  {
   "cell_type": "markdown",
   "metadata": {},
   "source": [
    "#### Endocrine disruptor"
   ]
  },
  {
   "cell_type": "code",
   "execution_count": 33,
   "metadata": {},
   "outputs": [
    {
     "name": "stdout",
     "output_type": "stream",
     "text": [
      "88.64306784660766\n",
      "31.680725572906674\n"
     ]
    }
   ],
   "source": [
    "endoc_comp_dict = usc.compare_heh_dataframes(heh_df, sorted_concat_df, substances, 'Endocrine_disruptor')\n",
    "endoc_comp_df = pd.DataFrame(data=endoc_comp_dict, dtype=object)\n",
    "print(endoc_comp_df['%_recuperation'].mean())\n",
    "print(endoc_comp_df['%_recuperation'].std())"
   ]
  },
  {
   "cell_type": "code",
   "execution_count": 34,
   "metadata": {},
   "outputs": [
    {
     "data": {
      "image/png": "[encoded data removed]",
      "text/plain": [
       "<Figure size 432x288 with 1 Axes>"
      ]
     },
     "metadata": {
      "needs_background": "light"
     },
     "output_type": "display_data"
    }
   ],
   "source": [
    "sns.distplot(sorted(endoc_comp_df['%_recuperation'].values))\n",
    "plt.savefig(\"endoc_data.png\")"
   ]
  },
  {
   "cell_type": "markdown",
   "metadata": {},
   "source": [
    "#### Sensitiser"
   ]
  },
  {
   "cell_type": "code",
   "execution_count": 35,
   "metadata": {},
   "outputs": [
    {
     "name": "stdout",
     "output_type": "stream",
     "text": [
      "78.27096502317742\n",
      "41.0065662869091\n"
     ]
    }
   ],
   "source": [
    "sens_comp_dict = usc.compare_heh_dataframes(heh_df, sorted_concat_df, substances, 'Sensitiser')\n",
    "sens_comp_df = pd.DataFrame(data=sens_comp_dict, dtype=object)\n",
    "print(sens_comp_df['%_recuperation'].mean())\n",
    "print(sens_comp_df['%_recuperation'].std())"
   ]
  },
  {
   "cell_type": "code",
   "execution_count": 36,
   "metadata": {},
   "outputs": [
    {
     "data": {
      "text/plain": [
       "<matplotlib.axes._subplots.AxesSubplot at 0x7ff00a7095f8>"
      ]
     },
     "execution_count": 36,
     "metadata": {},
     "output_type": "execute_result"
    },
    {
     "data": {
      "image/png": "[encoded data removed]",
      "text/plain": [
       "<Figure size 432x288 with 1 Axes>"
      ]
     },
     "metadata": {
      "needs_background": "light"
     },
     "output_type": "display_data"
    }
   ],
   "source": [
    "sns.distplot(sorted(sens_comp_df['%_recuperation'].values))\n",
    "# plt.savefig(\"sens_data.png\")"
   ]
  },
  {
   "cell_type": "markdown",
   "metadata": {},
   "source": [
    "#### Other"
   ]
  },
  {
   "cell_type": "code",
   "execution_count": 37,
   "metadata": {},
   "outputs": [
    {
     "name": "stdout",
     "output_type": "stream",
     "text": [
      "92.06462054776736\n",
      "20.467068817768595\n"
     ]
    }
   ],
   "source": [
    "other_comp_dict = usc.compare_heh_dataframes(heh_df, sorted_concat_df, substances, 'Other')\n",
    "other_comp_df = pd.DataFrame(data=other_comp_dict, dtype=object)\n",
    "print(other_comp_df['%_recuperation'].mean())\n",
    "print(other_comp_df['%_recuperation'].std())"
   ]
  },
  {
   "cell_type": "code",
   "execution_count": 38,
   "metadata": {},
   "outputs": [
    {
     "data": {
      "text/plain": [
       "<matplotlib.axes._subplots.AxesSubplot at 0x7ff0022b51d0>"
      ]
     },
     "execution_count": 38,
     "metadata": {},
     "output_type": "execute_result"
    },
    {
     "data": {
      "image/png": "[encoded data removed]",
      "text/plain": [
       "<Figure size 432x288 with 1 Axes>"
      ]
     },
     "metadata": {
      "needs_background": "light"
     },
     "output_type": "display_data"
    }
   ],
   "source": [
    "sns.distplot(sorted(other_comp_df['%_recuperation'].values))\n",
    "# plt.savefig(\"other_data.png\")"
   ]
  },
  {
   "cell_type": "code",
   "execution_count": 39,
   "metadata": {},
   "outputs": [],
   "source": [
    "# with pd.ExcelWriter('USC_workflow_recuperation.xlsx', mode='wa') as writer:\n",
    "#     cmr_comp_df.to_excel(writer, sheet_name='CMR')\n",
    "#     pbt_comp_df.to_excel(writer, sheet_name='PBT')\n",
    "#     vpvb_comp_df.to_excel(writer, sheet_name='vPvB')\n",
    "#     endoc_comp_df.to_excel(writer, sheet_name='Endocrine_disruptor')\n",
    "#     sens_comp_df.to_excel(writer, sheet_name='Sensitiser')\n",
    "#     other_comp_df.to_excel(writer, sheet_name='Other')"
   ]
  },
  {
   "cell_type": "markdown",
   "metadata": {},
   "source": [
    "### 1. Are there any old annotations that are being captured? If so, how many?\n",
    "Yes there are. In fact most of them are being captured by our algorithm and those that aren't is because there are strings in HEH CII dataframe describing certain rules that don't appear in CII regulations part."
   ]
  },
  {
   "cell_type": "code",
   "execution_count": 40,
   "metadata": {},
   "outputs": [],
   "source": [
    "old_annotations = comp_df.heh_excel_annotation_number.sum()\n",
    "new_annotations = comp_df.heh_generated_annotation_number.sum()\n",
    "shared_annotations = comp_df.shared_annotations.sum()"
   ]
  },
  {
   "cell_type": "code",
   "execution_count": 41,
   "metadata": {},
   "outputs": [
    {
     "name": "stdout",
     "output_type": "stream",
     "text": [
      "8506 6919 6474\n"
     ]
    }
   ],
   "source": [
    "print(old_annotations, new_annotations,shared_annotations)"
   ]
  },
  {
   "cell_type": "code",
   "execution_count": 42,
   "metadata": {},
   "outputs": [],
   "source": [
    "old_cmr = cmr_comp_df.heh_excel_annotation_number.sum()\n",
    "new_cmr = cmr_comp_df.heh_generated_annotation_number.sum()\n",
    "cmr_shared = cmr_comp_df.shared_annotations.sum()"
   ]
  },
  {
   "cell_type": "code",
   "execution_count": 43,
   "metadata": {},
   "outputs": [
    {
     "name": "stdout",
     "output_type": "stream",
     "text": [
      "1567 1555 1148\n"
     ]
    }
   ],
   "source": [
    "print(old_cmr, new_cmr, cmr_shared)"
   ]
  },
  {
   "cell_type": "code",
   "execution_count": 44,
   "metadata": {},
   "outputs": [],
   "source": [
    "old_pbt = pbt_comp_df.heh_excel_annotation_number.sum()\n",
    "new_pbt = pbt_comp_df.heh_generated_annotation_number.sum()\n",
    "pbt_shared = pbt_comp_df.shared_annotations.sum()"
   ]
  },
  {
   "cell_type": "code",
   "execution_count": 45,
   "metadata": {},
   "outputs": [
    {
     "name": "stdout",
     "output_type": "stream",
     "text": [
      "1187 1130 363\n"
     ]
    }
   ],
   "source": [
    "print(old_pbt, new_pbt, pbt_shared)"
   ]
  },
  {
   "cell_type": "code",
   "execution_count": 46,
   "metadata": {},
   "outputs": [],
   "source": [
    "old_vpvb = vpvb_comp_df.heh_excel_annotation_number.sum()\n",
    "new_vpvb = vpvb_comp_df.heh_generated_annotation_number.sum()\n",
    "vpvb_shared = vpvb_comp_df.shared_annotations.sum()"
   ]
  },
  {
   "cell_type": "code",
   "execution_count": 47,
   "metadata": {},
   "outputs": [
    {
     "name": "stdout",
     "output_type": "stream",
     "text": [
      "1128 1130 359\n"
     ]
    }
   ],
   "source": [
    "print(old_vpvb,new_vpvb,vpvb_shared)"
   ]
  },
  {
   "cell_type": "code",
   "execution_count": 48,
   "metadata": {},
   "outputs": [],
   "source": [
    "old_endoc = endoc_comp_df.heh_excel_annotation_number.sum()\n",
    "new_endoc = endoc_comp_df.heh_generated_annotation_number.sum()\n",
    "endoc_shared = endoc_comp_df.shared_annotations.sum()"
   ]
  },
  {
   "cell_type": "code",
   "execution_count": 49,
   "metadata": {},
   "outputs": [
    {
     "name": "stdout",
     "output_type": "stream",
     "text": [
      "1253 1130 996\n"
     ]
    }
   ],
   "source": [
    "print(old_endoc,new_endoc,endoc_shared)"
   ]
  },
  {
   "cell_type": "code",
   "execution_count": 50,
   "metadata": {},
   "outputs": [],
   "source": [
    "old_sens = sens_comp_df.heh_excel_annotation_number.sum()\n",
    "new_sens = sens_comp_df.heh_generated_annotation_number.sum()\n",
    "sens_shared = sens_comp_df.shared_annotations.sum()"
   ]
  },
  {
   "cell_type": "code",
   "execution_count": 51,
   "metadata": {},
   "outputs": [
    {
     "name": "stdout",
     "output_type": "stream",
     "text": [
      "1415 1415 1002\n"
     ]
    }
   ],
   "source": [
    "print(old_sens,new_sens,sens_shared)"
   ]
  },
  {
   "cell_type": "code",
   "execution_count": 52,
   "metadata": {},
   "outputs": [],
   "source": [
    "old_other = other_comp_df.heh_excel_annotation_number.sum()\n",
    "new_other = other_comp_df.heh_generated_annotation_number.sum()\n",
    "other_shared = other_comp_df.shared_annotations.sum()"
   ]
  },
  {
   "cell_type": "code",
   "execution_count": 53,
   "metadata": {},
   "outputs": [
    {
     "name": "stdout",
     "output_type": "stream",
     "text": [
      "5194 4694 4516\n"
     ]
    }
   ],
   "source": [
    "print(old_other,new_other,other_shared)"
   ]
  },
  {
   "cell_type": "code",
   "execution_count": 54,
   "metadata": {},
   "outputs": [],
   "source": [
    "whole_dict_comp = usc.compare_unique_annotations_dataframes(heh_df, sorted_concat_df)\n",
    "cmr_dict_comp = usc.compare_unique_annotations_dataframes(heh_df, sorted_concat_df, 'CMR')\n",
    "pbt_dict_comp = usc.compare_unique_annotations_dataframes(heh_df, sorted_concat_df, 'PBT')\n",
    "vpvb_dict_comp = usc.compare_unique_annotations_dataframes(heh_df, sorted_concat_df, 'vPvB')\n",
    "endoc_dict_comp = usc.compare_unique_annotations_dataframes(heh_df, sorted_concat_df, 'Endocrine_disruptor')\n",
    "sens_dict_comp = usc.compare_unique_annotations_dataframes(heh_df, sorted_concat_df, 'Sensitiser')\n",
    "other_dict_comp = usc.compare_unique_annotations_dataframes(heh_df, sorted_concat_df, 'Other')"
   ]
  },
  {
   "cell_type": "code",
   "execution_count": 55,
   "metadata": {},
   "outputs": [],
   "source": [
    "whole_df_comp = pd.DataFrame(data=whole_dict_comp)\n",
    "cmr_df_comp = pd.DataFrame(data=cmr_dict_comp)\n",
    "pbt_df_comp = pd.DataFrame(data=pbt_dict_comp)\n",
    "vpvb_df_comp = pd.DataFrame(data=vpvb_dict_comp)\n",
    "endoc_df_comp = pd.DataFrame(data=endoc_dict_comp)\n",
    "sens_df_comp = pd.DataFrame(data=sens_dict_comp)\n",
    "other_df_comp = pd.DataFrame(data=other_dict_comp)"
   ]
  },
  {
   "cell_type": "code",
   "execution_count": 56,
   "metadata": {},
   "outputs": [
    {
     "data": {
      "text/html": [
       "<div>\n",
       "<style scoped>\n",
       "    .dataframe tbody tr th:only-of-type {\n",
       "        vertical-align: middle;\n",
       "    }\n",
       "\n",
       "    .dataframe tbody tr th {\n",
       "        vertical-align: top;\n",
       "    }\n",
       "\n",
       "    .dataframe thead th {\n",
       "        text-align: right;\n",
       "    }\n",
       "</style>\n",
       "<table border=\"1\" class=\"dataframe\">\n",
       "  <thead>\n",
       "    <tr style=\"text-align: right;\">\n",
       "      <th></th>\n",
       "      <th>dataframe</th>\n",
       "      <th>heh_excel_annotation_number</th>\n",
       "      <th>heh_generated_annotation_number</th>\n",
       "      <th>shared_annotations</th>\n",
       "      <th>%_recuperation</th>\n",
       "      <th>non_shared_old_annotations</th>\n",
       "      <th>old_annotations_not_captured</th>\n",
       "      <th>non_shared_new_annotations</th>\n",
       "      <th>new_annotations</th>\n",
       "    </tr>\n",
       "  </thead>\n",
       "  <tbody>\n",
       "    <tr>\n",
       "      <th>0</th>\n",
       "      <td>whole_dataframe</td>\n",
       "      <td>419</td>\n",
       "      <td>222</td>\n",
       "      <td>219</td>\n",
       "      <td>52.983294</td>\n",
       "      <td>200</td>\n",
       "      <td>Acute Tox. 4, H302,, Aquatic Chronic 1,, Eye I...</td>\n",
       "      <td>3</td>\n",
       "      <td>Pending (3b), Pending (3c), Pending (3a)</td>\n",
       "    </tr>\n",
       "    <tr>\n",
       "      <th>0</th>\n",
       "      <td>CMR_dataframe</td>\n",
       "      <td>42</td>\n",
       "      <td>15</td>\n",
       "      <td>12</td>\n",
       "      <td>35.714286</td>\n",
       "      <td>30</td>\n",
       "      <td>Carcinogenicity, Amendment 2016/1179, Submitte...</td>\n",
       "      <td>3</td>\n",
       "      <td>Pending (3b), Pending (3c), Pending (3a)</td>\n",
       "    </tr>\n",
       "    <tr>\n",
       "      <th>0</th>\n",
       "      <td>PBT_dataframe</td>\n",
       "      <td>5</td>\n",
       "      <td>1</td>\n",
       "      <td>1</td>\n",
       "      <td>20.000000</td>\n",
       "      <td>4</td>\n",
       "      <td>Pending (2), (POPs Regulation), No information...</td>\n",
       "      <td>0</td>\n",
       "      <td>None</td>\n",
       "    </tr>\n",
       "    <tr>\n",
       "      <th>0</th>\n",
       "      <td>vPvB_dataframe</td>\n",
       "      <td>5</td>\n",
       "      <td>1</td>\n",
       "      <td>1</td>\n",
       "      <td>20.000000</td>\n",
       "      <td>4</td>\n",
       "      <td>Pending (2), (POPs Regulation), No information...</td>\n",
       "      <td>0</td>\n",
       "      <td>None</td>\n",
       "    </tr>\n",
       "    <tr>\n",
       "      <th>0</th>\n",
       "      <td>Endocrine_disruptor_dataframe</td>\n",
       "      <td>6</td>\n",
       "      <td>1</td>\n",
       "      <td>1</td>\n",
       "      <td>16.666667</td>\n",
       "      <td>5</td>\n",
       "      <td>(Biocidal and Phytosanitary Regulations - CMR ...</td>\n",
       "      <td>0</td>\n",
       "      <td>None</td>\n",
       "    </tr>\n",
       "    <tr>\n",
       "      <th>0</th>\n",
       "      <td>Sensitiser_dataframe</td>\n",
       "      <td>28</td>\n",
       "      <td>10</td>\n",
       "      <td>7</td>\n",
       "      <td>35.714286</td>\n",
       "      <td>21</td>\n",
       "      <td>Amendment 2016/1179, Skin Sens. 1A, H317, Skin...</td>\n",
       "      <td>3</td>\n",
       "      <td>Pending (3b), Pending (3c), Pending (3a)</td>\n",
       "    </tr>\n",
       "    <tr>\n",
       "      <th>0</th>\n",
       "      <td>Other_dataframe</td>\n",
       "      <td>369</td>\n",
       "      <td>208</td>\n",
       "      <td>208</td>\n",
       "      <td>56.368564</td>\n",
       "      <td>161</td>\n",
       "      <td>Acute Tox. 4, H302,, Aquatic Chronic 1,, Eye I...</td>\n",
       "      <td>0</td>\n",
       "      <td>None</td>\n",
       "    </tr>\n",
       "  </tbody>\n",
       "</table>\n",
       "</div>"
      ],
      "text/plain": [
       "                       dataframe  heh_excel_annotation_number  \\\n",
       "0                whole_dataframe                          419   \n",
       "0                  CMR_dataframe                           42   \n",
       "0                  PBT_dataframe                            5   \n",
       "0                 vPvB_dataframe                            5   \n",
       "0  Endocrine_disruptor_dataframe                            6   \n",
       "0           Sensitiser_dataframe                           28   \n",
       "0                Other_dataframe                          369   \n",
       "\n",
       "   heh_generated_annotation_number  shared_annotations  %_recuperation  \\\n",
       "0                              222                 219       52.983294   \n",
       "0                               15                  12       35.714286   \n",
       "0                                1                   1       20.000000   \n",
       "0                                1                   1       20.000000   \n",
       "0                                1                   1       16.666667   \n",
       "0                               10                   7       35.714286   \n",
       "0                              208                 208       56.368564   \n",
       "\n",
       "   non_shared_old_annotations  \\\n",
       "0                         200   \n",
       "0                          30   \n",
       "0                           4   \n",
       "0                           4   \n",
       "0                           5   \n",
       "0                          21   \n",
       "0                         161   \n",
       "\n",
       "                        old_annotations_not_captured  \\\n",
       "0  Acute Tox. 4, H302,, Aquatic Chronic 1,, Eye I...   \n",
       "0  Carcinogenicity, Amendment 2016/1179, Submitte...   \n",
       "0  Pending (2), (POPs Regulation), No information...   \n",
       "0  Pending (2), (POPs Regulation), No information...   \n",
       "0  (Biocidal and Phytosanitary Regulations - CMR ...   \n",
       "0  Amendment 2016/1179, Skin Sens. 1A, H317, Skin...   \n",
       "0  Acute Tox. 4, H302,, Aquatic Chronic 1,, Eye I...   \n",
       "\n",
       "   non_shared_new_annotations                           new_annotations  \n",
       "0                           3  Pending (3b), Pending (3c), Pending (3a)  \n",
       "0                           3  Pending (3b), Pending (3c), Pending (3a)  \n",
       "0                           0                                      None  \n",
       "0                           0                                      None  \n",
       "0                           0                                      None  \n",
       "0                           3  Pending (3b), Pending (3c), Pending (3a)  \n",
       "0                           0                                      None  "
      ]
     },
     "execution_count": 56,
     "metadata": {},
     "output_type": "execute_result"
    }
   ],
   "source": [
    "concated_comp_df = pd.concat([whole_df_comp,cmr_df_comp,pbt_df_comp,vpvb_df_comp,endoc_df_comp,sens_df_comp,other_df_comp])\n",
    "concated_comp_df"
   ]
  },
  {
   "cell_type": "code",
   "execution_count": 57,
   "metadata": {},
   "outputs": [],
   "source": [
    "# with pd.ExcelWriter('USC_workflow_recuperation.xlsx', mode='a') as writer:\n",
    "#      concated_comp_df.to_excel(writer, sheet_name='Whole_datasets')"
   ]
  },
  {
   "cell_type": "markdown",
   "metadata": {},
   "source": [
    "#### Small sample with specific compounds and annotations comparison"
   ]
  },
  {
   "cell_type": "code",
   "execution_count": 58,
   "metadata": {},
   "outputs": [],
   "source": [
    "# print(random.sample(range(len(substances)), 10))"
   ]
  },
  {
   "cell_type": "code",
   "execution_count": 59,
   "metadata": {},
   "outputs": [],
   "source": [
    "substances_id_to_use = [689, 171, 820, 126, 418, 883, 781, 455, 365, 19]\n",
    "substances_id_to_use = sorted(substances_id_to_use)"
   ]
  },
  {
   "cell_type": "code",
   "execution_count": 60,
   "metadata": {},
   "outputs": [],
   "source": [
    "small_comp_dict = usc.compare_heh_dataframes(heh_df, sorted_concat_df, substances_id_to_use)"
   ]
  },
  {
   "cell_type": "code",
   "execution_count": 61,
   "metadata": {},
   "outputs": [],
   "source": [
    "small_comp_df = pd.DataFrame(data=small_comp_dict, dtype=object)"
   ]
  },
  {
   "cell_type": "code",
   "execution_count": 62,
   "metadata": {},
   "outputs": [],
   "source": [
    "# with pd.ExcelWriter('Small_set_USC_workflow.xlsx', mode='w') as writer:\n",
    "#      small_comp_df.to_excel(writer)"
   ]
  },
  {
   "cell_type": "code",
   "execution_count": 63,
   "metadata": {},
   "outputs": [],
   "source": [
    "small_cmr_dict = usc.compare_heh_dataframes(heh_df, sorted_concat_df, substances_id_to_use, 'CMR')\n",
    "small_cmr_df = pd.DataFrame(data=small_cmr_dict, dtype=object)"
   ]
  },
  {
   "cell_type": "markdown",
   "metadata": {},
   "source": [
    "### Confusion matrix endpoints"
   ]
  },
  {
   "cell_type": "code",
   "execution_count": 64,
   "metadata": {},
   "outputs": [],
   "source": [
    "small_conf_cmr = usc.confusion_matrix_subs(heh_df, sorted_concat_df, substances_id_to_use, 'CMR')\n",
    "small_conf_pbt = usc.confusion_matrix_subs(heh_df, sorted_concat_df, substances_id_to_use, 'PBT')\n",
    "small_conf_vpvb = usc.confusion_matrix_subs(heh_df, sorted_concat_df, substances_id_to_use, 'vPvB')\n",
    "small_conf_endoc = usc.confusion_matrix_subs(heh_df, sorted_concat_df, substances_id_to_use, 'Endocrine_disruptor')\n",
    "small_conf_sens = usc.confusion_matrix_subs(heh_df, sorted_concat_df, substances_id_to_use, 'Sensitiser')\n",
    "small_conf_other = usc.confusion_matrix_subs(heh_df, sorted_concat_df, substances_id_to_use, 'Other')"
   ]
  },
  {
   "cell_type": "code",
   "execution_count": 65,
   "metadata": {},
   "outputs": [],
   "source": [
    "small_conf_cmr_df = pd.DataFrame(data=small_conf_cmr, dtype=object)"
   ]
  },
  {
   "cell_type": "code",
   "execution_count": 66,
   "metadata": {},
   "outputs": [
    {
     "data": {
      "text/html": [
       "<div>\n",
       "<style scoped>\n",
       "    .dataframe tbody tr th:only-of-type {\n",
       "        vertical-align: middle;\n",
       "    }\n",
       "\n",
       "    .dataframe tbody tr th {\n",
       "        vertical-align: top;\n",
       "    }\n",
       "\n",
       "    .dataframe thead th {\n",
       "        text-align: right;\n",
       "    }\n",
       "</style>\n",
       "<table border=\"1\" class=\"dataframe\">\n",
       "  <thead>\n",
       "    <tr style=\"text-align: right;\">\n",
       "      <th></th>\n",
       "      <th>subs_id</th>\n",
       "      <th>Anotacion_en_inventario</th>\n",
       "      <th>Anotacion_generada</th>\n",
       "      <th>Anotacion_no_presente_en_inventario</th>\n",
       "      <th>Anotacion_no_generada</th>\n",
       "      <th>Anotaciones_compartidas</th>\n",
       "    </tr>\n",
       "  </thead>\n",
       "  <tbody>\n",
       "    <tr>\n",
       "      <th>0</th>\n",
       "      <td>19</td>\n",
       "      <td>4</td>\n",
       "      <td>1</td>\n",
       "      <td>1</td>\n",
       "      <td>4</td>\n",
       "      <td>0</td>\n",
       "    </tr>\n",
       "    <tr>\n",
       "      <th>1</th>\n",
       "      <td>126</td>\n",
       "      <td>2</td>\n",
       "      <td>2</td>\n",
       "      <td>1</td>\n",
       "      <td>1</td>\n",
       "      <td>1</td>\n",
       "    </tr>\n",
       "    <tr>\n",
       "      <th>2</th>\n",
       "      <td>171</td>\n",
       "      <td>1</td>\n",
       "      <td>1</td>\n",
       "      <td>0</td>\n",
       "      <td>0</td>\n",
       "      <td>1</td>\n",
       "    </tr>\n",
       "    <tr>\n",
       "      <th>3</th>\n",
       "      <td>365</td>\n",
       "      <td>1</td>\n",
       "      <td>1</td>\n",
       "      <td>0</td>\n",
       "      <td>0</td>\n",
       "      <td>1</td>\n",
       "    </tr>\n",
       "    <tr>\n",
       "      <th>4</th>\n",
       "      <td>418</td>\n",
       "      <td>1</td>\n",
       "      <td>1</td>\n",
       "      <td>0</td>\n",
       "      <td>0</td>\n",
       "      <td>1</td>\n",
       "    </tr>\n",
       "    <tr>\n",
       "      <th>5</th>\n",
       "      <td>455</td>\n",
       "      <td>2</td>\n",
       "      <td>4</td>\n",
       "      <td>2</td>\n",
       "      <td>0</td>\n",
       "      <td>2</td>\n",
       "    </tr>\n",
       "    <tr>\n",
       "      <th>6</th>\n",
       "      <td>689</td>\n",
       "      <td>1</td>\n",
       "      <td>1</td>\n",
       "      <td>0</td>\n",
       "      <td>0</td>\n",
       "      <td>1</td>\n",
       "    </tr>\n",
       "    <tr>\n",
       "      <th>7</th>\n",
       "      <td>781</td>\n",
       "      <td>1</td>\n",
       "      <td>1</td>\n",
       "      <td>1</td>\n",
       "      <td>1</td>\n",
       "      <td>0</td>\n",
       "    </tr>\n",
       "    <tr>\n",
       "      <th>8</th>\n",
       "      <td>820</td>\n",
       "      <td>2</td>\n",
       "      <td>2</td>\n",
       "      <td>1</td>\n",
       "      <td>1</td>\n",
       "      <td>1</td>\n",
       "    </tr>\n",
       "    <tr>\n",
       "      <th>9</th>\n",
       "      <td>883</td>\n",
       "      <td>1</td>\n",
       "      <td>1</td>\n",
       "      <td>1</td>\n",
       "      <td>1</td>\n",
       "      <td>0</td>\n",
       "    </tr>\n",
       "  </tbody>\n",
       "</table>\n",
       "</div>"
      ],
      "text/plain": [
       "  subs_id Anotacion_en_inventario Anotacion_generada  \\\n",
       "0      19                       4                  1   \n",
       "1     126                       2                  2   \n",
       "2     171                       1                  1   \n",
       "3     365                       1                  1   \n",
       "4     418                       1                  1   \n",
       "5     455                       2                  4   \n",
       "6     689                       1                  1   \n",
       "7     781                       1                  1   \n",
       "8     820                       2                  2   \n",
       "9     883                       1                  1   \n",
       "\n",
       "  Anotacion_no_presente_en_inventario Anotacion_no_generada  \\\n",
       "0                                   1                     4   \n",
       "1                                   1                     1   \n",
       "2                                   0                     0   \n",
       "3                                   0                     0   \n",
       "4                                   0                     0   \n",
       "5                                   2                     0   \n",
       "6                                   0                     0   \n",
       "7                                   1                     1   \n",
       "8                                   1                     1   \n",
       "9                                   1                     1   \n",
       "\n",
       "  Anotaciones_compartidas  \n",
       "0                       0  \n",
       "1                       1  \n",
       "2                       1  \n",
       "3                       1  \n",
       "4                       1  \n",
       "5                       2  \n",
       "6                       1  \n",
       "7                       0  \n",
       "8                       1  \n",
       "9                       0  "
      ]
     },
     "execution_count": 66,
     "metadata": {},
     "output_type": "execute_result"
    }
   ],
   "source": [
    "small_conf_cmr_df"
   ]
  },
  {
   "cell_type": "code",
   "execution_count": 67,
   "metadata": {},
   "outputs": [],
   "source": [
    "all_endpoints_mat_dict = usc.confusion_matrix_subs(heh_df, sorted_concat_df)\n",
    "all_endpoints_df = pd.DataFrame(data=all_endpoints_mat_dict, dtype=object)"
   ]
  },
  {
   "cell_type": "code",
   "execution_count": 68,
   "metadata": {},
   "outputs": [
    {
     "data": {
      "text/html": [
       "<div>\n",
       "<style scoped>\n",
       "    .dataframe tbody tr th:only-of-type {\n",
       "        vertical-align: middle;\n",
       "    }\n",
       "\n",
       "    .dataframe tbody tr th {\n",
       "        vertical-align: top;\n",
       "    }\n",
       "\n",
       "    .dataframe thead th {\n",
       "        text-align: right;\n",
       "    }\n",
       "</style>\n",
       "<table border=\"1\" class=\"dataframe\">\n",
       "  <thead>\n",
       "    <tr style=\"text-align: right;\">\n",
       "      <th></th>\n",
       "      <th>Endpoint</th>\n",
       "      <th>Anotaciones_en_inventario</th>\n",
       "      <th>Anotaciones_generadas</th>\n",
       "      <th>Anotaciones_no_presente_en_inventario</th>\n",
       "      <th>Anotaciones_no_generadas</th>\n",
       "      <th>Anotaciones_compartidas</th>\n",
       "    </tr>\n",
       "  </thead>\n",
       "  <tbody>\n",
       "    <tr>\n",
       "      <th>0</th>\n",
       "      <td>CMR</td>\n",
       "      <td>42</td>\n",
       "      <td>15</td>\n",
       "      <td>3</td>\n",
       "      <td>30</td>\n",
       "      <td>12</td>\n",
       "    </tr>\n",
       "    <tr>\n",
       "      <th>1</th>\n",
       "      <td>PBT</td>\n",
       "      <td>5</td>\n",
       "      <td>1</td>\n",
       "      <td>0</td>\n",
       "      <td>4</td>\n",
       "      <td>1</td>\n",
       "    </tr>\n",
       "    <tr>\n",
       "      <th>2</th>\n",
       "      <td>vPvB</td>\n",
       "      <td>5</td>\n",
       "      <td>1</td>\n",
       "      <td>0</td>\n",
       "      <td>4</td>\n",
       "      <td>1</td>\n",
       "    </tr>\n",
       "    <tr>\n",
       "      <th>3</th>\n",
       "      <td>Endocrine_disruptor</td>\n",
       "      <td>6</td>\n",
       "      <td>1</td>\n",
       "      <td>0</td>\n",
       "      <td>5</td>\n",
       "      <td>1</td>\n",
       "    </tr>\n",
       "    <tr>\n",
       "      <th>4</th>\n",
       "      <td>Sensitiser</td>\n",
       "      <td>28</td>\n",
       "      <td>10</td>\n",
       "      <td>3</td>\n",
       "      <td>21</td>\n",
       "      <td>7</td>\n",
       "    </tr>\n",
       "    <tr>\n",
       "      <th>5</th>\n",
       "      <td>Other</td>\n",
       "      <td>369</td>\n",
       "      <td>208</td>\n",
       "      <td>0</td>\n",
       "      <td>161</td>\n",
       "      <td>208</td>\n",
       "    </tr>\n",
       "  </tbody>\n",
       "</table>\n",
       "</div>"
      ],
      "text/plain": [
       "              Endpoint Anotaciones_en_inventario Anotaciones_generadas  \\\n",
       "0                  CMR                        42                    15   \n",
       "1                  PBT                         5                     1   \n",
       "2                 vPvB                         5                     1   \n",
       "3  Endocrine_disruptor                         6                     1   \n",
       "4           Sensitiser                        28                    10   \n",
       "5                Other                       369                   208   \n",
       "\n",
       "  Anotaciones_no_presente_en_inventario Anotaciones_no_generadas  \\\n",
       "0                                     3                       30   \n",
       "1                                     0                        4   \n",
       "2                                     0                        4   \n",
       "3                                     0                        5   \n",
       "4                                     3                       21   \n",
       "5                                     0                      161   \n",
       "\n",
       "  Anotaciones_compartidas  \n",
       "0                      12  \n",
       "1                       1  \n",
       "2                       1  \n",
       "3                       1  \n",
       "4                       7  \n",
       "5                     208  "
      ]
     },
     "execution_count": 68,
     "metadata": {},
     "output_type": "execute_result"
    }
   ],
   "source": [
    "all_endpoints_df"
   ]
  },
  {
   "cell_type": "code",
   "execution_count": 69,
   "metadata": {},
   "outputs": [
    {
     "data": {
      "text/plain": [
       "<module 'USC_dataframe_generation' from '/home/emarch/Documents/Inditex/USC_workflow_reproduction/USC_dataframe_generation.py'>"
      ]
     },
     "execution_count": 69,
     "metadata": {},
     "output_type": "execute_result"
    }
   ],
   "source": [
    "reload(usc)"
   ]
  },
  {
   "cell_type": "code",
   "execution_count": 70,
   "metadata": {},
   "outputs": [],
   "source": [
    "new_small_cmr = usc.confusion_matrix_pos_neg(heh_df, sorted_concat_df, substances_id_to_use, 'CMR')\n",
    "new_small_pbt = usc.confusion_matrix_pos_neg(heh_df, sorted_concat_df, substances_id_to_use, 'PBT')\n",
    "new_small_vpvb = usc.confusion_matrix_pos_neg(heh_df, sorted_concat_df, substances_id_to_use, 'vPvB')\n",
    "new_small_endoc = usc.confusion_matrix_pos_neg(heh_df, sorted_concat_df, substances_id_to_use, 'Endocrine_disruptor')\n",
    "new_small_sens = usc.confusion_matrix_pos_neg(heh_df, sorted_concat_df, substances_id_to_use, 'Sensitiser')\n",
    "# new_small_other = usc.confusion_matrix_pos_neg(heh_df, sorted_concat_df, substances_id_to_use, 'Other')"
   ]
  },
  {
   "cell_type": "code",
   "execution_count": 71,
   "metadata": {},
   "outputs": [],
   "source": [
    "new_small_cmr_df = pd.DataFrame(data=new_small_cmr, dtype=object)\n",
    "new_small_pbt_df = pd.DataFrame(data=new_small_pbt, dtype=object)\n",
    "new_small_vpvb_df = pd.DataFrame(data=new_small_vpvb, dtype=object)\n",
    "new_small_endoc_df = pd.DataFrame(data=new_small_endoc, dtype=object)\n",
    "new_small_sens_df = pd.DataFrame(data=new_small_sens, dtype=object)\n",
    "# new_small_other_df = pd.DataFrame(data=new_small_other, dtype=object)"
   ]
  },
  {
   "cell_type": "code",
   "execution_count": 72,
   "metadata": {},
   "outputs": [],
   "source": [
    "# new_small_concat = pd.concat([new_small_cmr_df,new_small_pbt_df,new_small_vpvb_df,new_small_endoc_df,new_small_sens_df])"
   ]
  },
  {
   "cell_type": "code",
   "execution_count": 73,
   "metadata": {},
   "outputs": [],
   "source": [
    "# with pd.ExcelWriter('small_set_new_table.xlsx', mode='wa') as writer:\n",
    "#     new_small_cmr_df.to_excel(writer, sheet_name='CMR')\n",
    "#     new_small_pbt_df.to_excel(writer, sheet_name='PBT')\n",
    "#     new_small_vpvb_df.to_excel(writer, sheet_name='vPvB')\n",
    "#     new_small_endoc_df.to_excel(writer, sheet_name='Endocrine_disruptor')\n",
    "#     new_small_sens_df.to_excel(writer, sheet_name='Sensitiser')"
   ]
  },
  {
   "cell_type": "code",
   "execution_count": 74,
   "metadata": {},
   "outputs": [],
   "source": [
    "endpoint_list = ['CMR','PBT','vPvB','Endocrine_disruptor','Sensitiser','Other']"
   ]
  },
  {
   "cell_type": "code",
   "execution_count": 75,
   "metadata": {},
   "outputs": [],
   "source": [
    "ann_info_list = ['YES','NO','No information','Pending', 'Pending (1)','Pending (2)',\n",
    "                    'Pending (3)', 'Pending (3a)','Pending (3b)','Pending (3c)','Pending (4)']"
   ]
  },
  {
   "cell_type": "code",
   "execution_count": 76,
   "metadata": {},
   "outputs": [],
   "source": [
    "for ep in endpoint_list:\n",
    "    ep_dict = {'Anotaciones':[],'Inventario':[],'Generadas':[]}\n",
    "    for ann in ann_info_list:\n",
    "        total_original = heh_df.loc[(heh_df['type'] == ep) & (heh_df['name'] == ann),'name'].count()\n",
    "        total_generadas = sorted_concat_df.loc[(sorted_concat_df['endpoint_type'] == ep) & (sorted_concat_df['name'] == ann),'name'].count()\n",
    "        ep_dict['Anotaciones'].append(ann)\n",
    "        ep_dict['Inventario'].append(total_original)\n",
    "        ep_dict['Generadas'].append(total_generadas)\n",
    "    \n",
    "    ep_df = pd.DataFrame(data=ep_dict,dtype=object)\n",
    "    ep_df.set_index('Anotaciones')\n",
    "#     if os.path.isfile('Comparación_anotaciones.xlsx'):\n",
    "#         with pd.ExcelWriter('Comparación_anotaciones.xlsx', mode='a') as writer:\n",
    "#              ep_df.to_excel(writer, sheet_name=ep)\n",
    "#     else:\n",
    "#         with pd.ExcelWriter('Comparación_anotaciones.xlsx', mode='w') as writer:\n",
    "#              ep_df.to_excel(writer, sheet_name=ep)"
   ]
  },
  {
   "cell_type": "markdown",
   "metadata": {},
   "source": [
    "#### Small HEH Df to send it to Mark Cronin"
   ]
  },
  {
   "cell_type": "code",
   "execution_count": 77,
   "metadata": {},
   "outputs": [],
   "source": [
    "list_of_subs_id = [1096, 326, 138, 259, 477, 541, 875, 968, 1060, 382]"
   ]
  },
  {
   "cell_type": "code",
   "execution_count": 78,
   "metadata": {},
   "outputs": [],
   "source": [
    "selected_subs = heh_df.loc[heh_df['subs_id'].isin(list_of_subs_id),['preferred_name','type','classification','name']]"
   ]
  },
  {
   "cell_type": "code",
   "execution_count": 79,
   "metadata": {},
   "outputs": [],
   "source": [
    "mc_df = pd.read_excel('muestra_mark_cronin.xlsx', dtype=object)"
   ]
  },
  {
   "cell_type": "code",
   "execution_count": 80,
   "metadata": {},
   "outputs": [],
   "source": [
    "names_mc = mc_df.Compounds.apply(lambda x: x.strip()).unique()"
   ]
  },
  {
   "cell_type": "code",
   "execution_count": 81,
   "metadata": {},
   "outputs": [],
   "source": [
    "mc_subs_cas = mc_df.CAS.apply(lambda x: x.strip('\\n').strip()).unique()"
   ]
  },
  {
   "cell_type": "code",
   "execution_count": 82,
   "metadata": {},
   "outputs": [],
   "source": [
    "names_heh_mc = heh_df.loc[heh_df['preferred_name'].isin(names_mc), 'name'].unique()"
   ]
  },
  {
   "cell_type": "code",
   "execution_count": 83,
   "metadata": {},
   "outputs": [
    {
     "data": {
      "text/plain": [
       "array(['75-35-4', '1321-64-8', '3846-71-7', '66455-15-0', '68584-22-5',\n",
       "       '50-00-0', '69011-36-5', '13573-18-7', '108-05-4'], dtype=object)"
      ]
     },
     "execution_count": 83,
     "metadata": {},
     "output_type": "execute_result"
    }
   ],
   "source": [
    "mc_subs_cas"
   ]
  },
  {
   "cell_type": "code",
   "execution_count": 84,
   "metadata": {},
   "outputs": [],
   "source": [
    "input_reg = ['CLP','SVHC', 'Harmonized C&L', 'Registration dossier (REACH)','Notification (CLP)','Ammendment (CLP-draft)','SVHC draft (Submitted/Withdrawn)']"
   ]
  }
 ],
 "metadata": {
  "kernelspec": {
   "display_name": "Python 3",
   "language": "python",
   "name": "python3"
  },
  "language_info": {
   "codemirror_mode": {
    "name": "ipython",
    "version": 3
   },
   "file_extension": ".py",
   "mimetype": "text/x-python",
   "name": "python",
   "nbconvert_exporter": "python",
   "pygments_lexer": "ipython3",
   "version": "3.7.3"
  }
 },
 "nbformat": 4,
 "nbformat_minor": 4
}
