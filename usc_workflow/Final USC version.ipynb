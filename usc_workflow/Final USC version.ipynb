{
 "cells": [
  {
   "cell_type": "code",
   "execution_count": 1,
   "metadata": {},
   "outputs": [],
   "source": [
    "import difflib\n",
    "import math\n",
    "import matplotlib.pyplot as plt\n",
    "import numpy as np\n",
    "import os\n",
    "import pandas as pd\n",
    "import psycopg2\n",
    "import random\n",
    "import seaborn as sns\n",
    "import USC_dataframe_generation as usc\n",
    "\n",
    "from importlib import reload"
   ]
  },
  {
   "cell_type": "code",
   "execution_count": 2,
   "metadata": {},
   "outputs": [],
   "source": [
    "conn = psycopg2.connect(host='localhost', dbname='inventory', user='postgres', password='PSGAdmin')\n",
    "curs = conn.cursor()\n",
    "psycopg2.extensions.register_adapter(np.int64, psycopg2._psycopg.AsIs)"
   ]
  },
  {
   "cell_type": "code",
   "execution_count": 3,
   "metadata": {},
   "outputs": [],
   "source": [
    "heh_cmd = pd.read_sql_query(\"\"\"SELECT subs_id, sub.class_name, sub.preferred_name, casr_number, ec_number, index_number, \n",
    "                                ht.\"type\", hc.classification, hn.\"name\"\n",
    "                                FROM heh h\n",
    "                                left join substance sub on sub.id = h.subs_id\n",
    "                                left join heh_type ht on ht.id = h.heh_type_id\n",
    "                                left join heh_classification hc on hc.id = h.heh_classif_id\n",
    "                                left join heh_name hn on hn.id = h.heh_name_id\"\"\", conn)\n",
    "\n",
    "heh_df = pd.DataFrame(heh_cmd, dtype=object)"
   ]
  },
  {
   "cell_type": "code",
   "execution_count": 4,
   "metadata": {},
   "outputs": [],
   "source": [
    "reg_cmd = pd.read_sql_query(\"\"\"SELECT reg.id, reg.subs_id, sub.class_name, sub.preferred_name, rco.country, rt.\"type\", rg.general_regulation_name, \n",
    "                            rspec.specific_regulation_name, rsub.subspecific_regulation_name, rsc.special_cases_name, addr.additional_information_name, \n",
    "                            cid.\"name\", ct.\"type\", regn.names\n",
    "                            FROM regulations reg\n",
    "                            LEFT JOIN substance sub ON sub.id = reg.subs_id\n",
    "                            left join regulation_country rco on rco.id = reg.reg_country_id\n",
    "                            left join regulation_type rt on rt.id = reg.reg_type_id\n",
    "                            left join general_regulation rg on rg.id = reg.gen_reg_id\n",
    "                            left join specific_regulation rspec on rspec.id = reg.spec_reg_id\n",
    "                            LEFT JOIN subspecific_regulation rsub ON rsub.id = reg.subspec_reg_id\n",
    "                            left join special_cases_regulation rsc on rsc.id = reg.special_cases_id\n",
    "                            left join additional_information_regulation addr on addr.id = reg.additional_information_id\n",
    "                            LEFT JOIN chem_id cid ON cid.chem_type_id = reg.chem_type_id\n",
    "                            LEFT JOIN chem_type ct ON ct.id = cid.chem_type_id\n",
    "                            LEFT JOIN regulation_names regn ON regn.id = reg.regulation_id\n",
    "                            order by reg.id asc\"\"\", conn)\n",
    "\n",
    "reg_df = pd.DataFrame(reg_cmd, dtype=object)"
   ]
  },
  {
   "cell_type": "code",
   "execution_count": 5,
   "metadata": {},
   "outputs": [],
   "source": [
    "substances = reg_df.subs_id.unique()"
   ]
  },
  {
   "cell_type": "code",
   "execution_count": 6,
   "metadata": {},
   "outputs": [],
   "source": [
    "cmr_positive = heh_df.loc[(heh_df['type'] == 'CMR') & (~heh_df['name'].isin(['YES','NO','No information','Pending (1)',\n",
    "                                                                            '(Shall apply from 1 March 2018)',\n",
    "                                                                            '(31/03/2017)',\n",
    "                                                                            'Registry of current Harmonised Classification and Labelling intentions by France',\n",
    "                                                                            'Submitted intention by Netherlands (18/11/2015)',\n",
    "                                                                            'Submitted intention by Norway (03/10/2011)',\n",
    "                                                                            'Submitted intention by Germany (22/02/2011)',\n",
    "                                                                            'Submitted intention by Norway (24/06/2014)',\n",
    "                                                                            'Amendment 2016/1179', 'Pending','particle diameter < 1 mm)',\n",
    "                                                                            'Submitted intention by Italy (22/08/2012)',\n",
    "                                                                            'Submitted intention by Sweden (14/11/2014)'])), 'name'].unique()\n",
    "pbt_ann = heh_df.loc[(heh_df['type'] == 'PBT') & (~heh_df['name'].isin(['YES','NO','No information','Pending (2)'])), 'name'].unique()\n",
    "vpvb_ann = heh_df.loc[(heh_df['type'] == 'vPvB') & (~heh_df['name'].isin(['NO','Pending (2)','YES','No information'])), 'name'].unique()\n",
    "endoc_ann = heh_df.loc[(heh_df['type'] == 'Endocrine_disruptor') & (~heh_df['name'].isin(['YES','NO','Pending (3)','No information'])), 'name'].unique()\n",
    "sens_ann = heh_df.loc[(heh_df['type'] == 'Sensitiser') & (~heh_df['name'].isin(['YES','NO','No information','(Shall apply from 1 March 2018)',\n",
    "                                                                                'Pending (3)','Pending(3)','Submitted intention by Slovenia (09/01/2015)',\n",
    "                                                                               'Submitted intention by United Kingdom (01/02/2017)',\n",
    "                                                                               'Amendment 2016/1179','(05/01/2016)','particle diameter < 1 mm)',\n",
    "                                                                               'Proposed future entry in Annex VI of CLP Regulation',\n",
    "                                                                               'Registry of current Harmonised Classification and Labelling intentions by Norway',\n",
    "                                                                               'Removal of','SCL ≥ 0.06 %'])), 'name'].unique()\n",
    "other_ann = heh_df.loc[(heh_df['type'] == 'Other') & (~heh_df['name'].isin(['No information'])), 'name'].unique()"
   ]
  },
  {
   "cell_type": "code",
   "execution_count": 7,
   "metadata": {},
   "outputs": [],
   "source": [
    "pbt_vpvb_pos = reg_cmd[(reg_cmd['general_regulation_name'].isin(['pbt_vpvb'])) &\n",
    "                      (~reg_cmd['names'].isin(['No information', 'Not PBT', 'Not vPvB', 'No information available',\n",
    "                                              '(See REACH part-Candidate List section)','Conclusion: not fulfilling PBT & vPvB criteria',\n",
    "                                   'Conclusion: deferred the decision on the substance from the list of potential PBT or vPvB substances.',\n",
    "                                              'Conclusion: not fulfilling PBT  criteria','Conclusion: not fulfilling POP  criteria']))].names.unique()"
   ]
  },
  {
   "cell_type": "code",
   "execution_count": 8,
   "metadata": {},
   "outputs": [],
   "source": [
    "endoc_pos = reg_cmd[(reg_cmd['general_regulation_name'].isin(['endocrine_disruptors']))&\n",
    "                   (~reg_cmd['names'].isin(['Not included','No information available']))].names.unique()"
   ]
  },
  {
   "cell_type": "code",
   "execution_count": 9,
   "metadata": {},
   "outputs": [],
   "source": [
    "new_cmr = ['Toxic for reproduction (Article 57c)','Toxic for reproduction (Article 57c):','Toxic for reproduction','Scope: ED, CMR','Scope: CMR',\n",
    "           'Carcinogenic (Article 57a)','Carcinogenic (Category 1B)','Carcinogenic  1B','Toxic for reproduction (category 1B)',\n",
    "           'Mutagenic (Article 57b)','Carcinogenic (category 1A)','Mutagenic (category 1B)',]\n",
    "new_pbt_vpvb = ['PBT (Article 57 d)','Scope: vPvB (Article 57 e)', 'vPvB (Article 57 e)','Scope: PBT']\n",
    "other_new = ['Equivalent level of concern having probable serious effects to environment (Article 57 f):','Scope: EQC',\n",
    "             'Equivalent level of concern having probable serious effects to environment (Article 57 f)']\n",
    "new_endoc = ['Scope: ED, CMR']\n",
    "\n",
    "cmr_positive = np.concatenate((cmr_positive, new_cmr), axis=0)\n",
    "pbt_vpvb_pos = np.concatenate((pbt_vpvb_pos, new_pbt_vpvb), axis=0)\n",
    "endoc_pos = np.concatenate((endoc_pos,new_endoc), axis=0)\n",
    "other_ann = np.concatenate((other_ann, other_new), axis=0)"
   ]
  },
  {
   "cell_type": "code",
   "execution_count": 10,
   "metadata": {},
   "outputs": [],
   "source": [
    "vpvb_pos = ['vPvB substance', 'PBT/ vPvB Substance',\n",
    "       'PBT/ vPvB substance', 'Rapporteur: Austria', 'Rapporteur: Norway',\n",
    "       'Rapporteur: United Kingdom', 'Rapporteur: Denmark',\n",
    "       'Rapporteur: Spain', 'Rapporteur: Germany',\n",
    "       'Rapporteur: France',\n",
    "       'Conclusion: Under evaluation', 'Rapporteur: Netherlands',\n",
    "       'Rapporteur: Sweden',\n",
    "       'Conclusion: fulfilling PBT & vPvB criteria',\n",
    "       'Conclusion: fulfilling PBT & vPvB criteria & POP']"
   ]
  },
  {
   "cell_type": "code",
   "execution_count": 11,
   "metadata": {},
   "outputs": [],
   "source": [
    "pbt_pos = ['PBT Substance', 'PBT/ vPvB Substance',\n",
    "       'PBT/ vPvB substance', 'Rapporteur: Austria', 'Rapporteur: Norway',\n",
    "       'Rapporteur: United Kingdom', 'Rapporteur: Denmark',\n",
    "       'Rapporteur: Spain', 'Rapporteur: Germany',\n",
    "       'Conclusion: Fulfilling PBT criteria & POP','Rapporteur: France',\n",
    "       'Conclusion: Under evaluation', 'Rapporteur: Netherlands',\n",
    "       'Conclusion: fulfilling PBT criteria', 'Rapporteur: Sweden',\n",
    "       'Conclusion: fulfilling PBT & vPvB criteria',\n",
    "       'Conclusion: fulfilling PBT & vPvB criteria & POP']"
   ]
  },
  {
   "cell_type": "code",
   "execution_count": 12,
   "metadata": {},
   "outputs": [
    {
     "name": "stdout",
     "output_type": "stream",
     "text": [
      "CPU times: user 1h 18min 18s, sys: 705 ms, total: 1h 18min 19s\n",
      "Wall time: 1h 18min 18s\n"
     ]
    }
   ],
   "source": [
    "%%time\n",
    "cmr_dict = usc.fixed_generate_dataframe(substance_id_list=substances,endpoint='CMR', regulations_df=reg_df, endpoint_annotations=cmr_positive)\n",
    "pbt_dict = usc.fixed_generate_dataframe(substance_id_list=substances,endpoint='PBT', regulations_df=reg_df, endpoint_annotations=pbt_pos)\n",
    "vpvb_dict = usc.fixed_generate_dataframe(substance_id_list=substances,endpoint='vPvB', regulations_df=reg_df, endpoint_annotations=vpvb_pos)\n",
    "endoc_dict = usc.fixed_generate_dataframe(substance_id_list=substances,endpoint='Endocrine_disruptor', regulations_df=reg_df, endpoint_annotations=endoc_pos)\n",
    "sens_dict = usc.fixed_generate_dataframe(substance_id_list=substances,endpoint='Sensitiser', regulations_df=reg_df, endpoint_annotations=sens_ann)\n",
    "other_dict = usc.fixed_generate_dataframe(substance_id_list=substances,endpoint='Other', regulations_df=reg_df, endpoint_annotations=other_ann)"
   ]
  },
  {
   "cell_type": "code",
   "execution_count": 13,
   "metadata": {},
   "outputs": [],
   "source": [
    "cmr_df = pd.DataFrame(data=cmr_dict)\n",
    "pbt_df = pd.DataFrame(data=pbt_dict)\n",
    "vpvb_df = pd.DataFrame(data=vpvb_dict)\n",
    "endoc_df = pd.DataFrame(data=endoc_dict)\n",
    "sens_df = pd.DataFrame(data=sens_dict)\n",
    "other_df = pd.DataFrame(data=other_dict)"
   ]
  },
  {
   "cell_type": "code",
   "execution_count": 14,
   "metadata": {},
   "outputs": [],
   "source": [
    "to_concat_df = [cmr_df, pbt_df, vpvb_df,endoc_df,sens_df]\n",
    "concat_df = pd.concat(to_concat_df)"
   ]
  },
  {
   "cell_type": "code",
   "execution_count": 15,
   "metadata": {},
   "outputs": [],
   "source": [
    "for subs_id in substances:\n",
    "    if other_df[(other_df['subs_id'] == subs_id) & (other_df['name'].isin(['NO','No information']))].empty:\n",
    "        other_df.loc[other_df['subs_id'] == subs_id,:] = other_df.loc[(other_df['subs_id'] == subs_id) & \n",
    "                                                                      (~other_df['name'].isin(concat_df[concat_df['subs_id'] == subs_id].name.unique())),:]"
   ]
  },
  {
   "cell_type": "code",
   "execution_count": 16,
   "metadata": {},
   "outputs": [],
   "source": [
    "new_other_df = other_df.dropna().reset_index().drop(columns=['index'])"
   ]
  },
  {
   "cell_type": "code",
   "execution_count": 17,
   "metadata": {},
   "outputs": [],
   "source": [
    "final_to_concat =[concat_df, new_other_df]\n",
    "final_df = pd.concat(final_to_concat)\n",
    "sorted_concat_df = final_df.sort_values(by=['subs_id', 'endpoint_type']).reset_index().drop(columns=['index'])"
   ]
  },
  {
   "cell_type": "code",
   "execution_count": 18,
   "metadata": {},
   "outputs": [],
   "source": [
    "sorted_concat_df.to_pickle('final_generated_fixed_heh_df.pkl')"
   ]
  },
  {
   "cell_type": "code",
   "execution_count": 19,
   "metadata": {},
   "outputs": [],
   "source": [
    "sorted_concat_df = pd.read_pickle('final_generated_fixed_heh_df.pkl')"
   ]
  },
  {
   "cell_type": "code",
   "execution_count": 20,
   "metadata": {},
   "outputs": [],
   "source": [
    "endpoint_list = ['CMR','PBT','vPvB','Endocrine_disruptor','Sensitiser','Other']"
   ]
  },
  {
   "cell_type": "code",
   "execution_count": 21,
   "metadata": {},
   "outputs": [],
   "source": [
    "ann_info_list = ['YES','NO','No information','Pending', 'Pending (1)','Pending (2)',\n",
    "                    'Pending (3)', 'Pending (3a)','Pending (3b)','Pending (3c)','Pending (4)']"
   ]
  },
  {
   "cell_type": "code",
   "execution_count": 22,
   "metadata": {},
   "outputs": [],
   "source": [
    "for ep in endpoint_list:\n",
    "    ep_dict = {'Anotaciones':[],'Inventario':[],'Generadas':[]}\n",
    "    for ann in ann_info_list:\n",
    "        total_original = heh_df.loc[(heh_df['type'] == ep) & (heh_df['name'] == ann),'name'].count()\n",
    "        total_generadas = sorted_concat_df.loc[(sorted_concat_df['endpoint_type'] == ep) & (sorted_concat_df['name'] == ann),'name'].count()\n",
    "        ep_dict['Anotaciones'].append(ann)\n",
    "        ep_dict['Inventario'].append(total_original)\n",
    "        ep_dict['Generadas'].append(total_generadas)\n",
    "    \n",
    "    ep_df = pd.DataFrame(data=ep_dict,dtype=object)\n",
    "    ep_df.set_index('Anotaciones')\n",
    "#     if os.path.isfile('Comparación_anotaciones_final_arreglado.xlsx'):\n",
    "#         with pd.ExcelWriter('Comparación_anotaciones_final_arreglado.xlsx', mode='a') as writer:\n",
    "#              ep_df.to_excel(writer, sheet_name=ep)\n",
    "#     else:\n",
    "#         with pd.ExcelWriter('Comparación_anotaciones_final_arreglado.xlsx', mode='w') as writer:\n",
    "#              ep_df.to_excel(writer, sheet_name=ep)"
   ]
  }
 ],
 "metadata": {
  "kernelspec": {
   "display_name": "Python 3",
   "language": "python",
   "name": "python3"
  },
  "language_info": {
   "codemirror_mode": {
    "name": "ipython",
    "version": 3
   },
   "file_extension": ".py",
   "mimetype": "text/x-python",
   "name": "python",
   "nbconvert_exporter": "python",
   "pygments_lexer": "ipython3",
   "version": "3.7.3"
  }
 },
 "nbformat": 4,
 "nbformat_minor": 4
}
