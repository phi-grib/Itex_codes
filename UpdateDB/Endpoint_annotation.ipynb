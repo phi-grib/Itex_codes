{
 "cells": [
  {
   "cell_type": "code",
   "execution_count": 1,
   "metadata": {},
   "outputs": [
    {
     "name": "stderr",
     "output_type": "stream",
     "text": [
      "\n",
      "*** CompoundDB module found. Will check the synonyms table to resolve CAS. ***\n",
      "\n"
     ]
    }
   ],
   "source": [
    "import numpy as np\n",
    "import pandas as pd\n",
    "\n",
    "from UpdateDB import Endpoint_annotation as ep"
   ]
  },
  {
   "cell_type": "code",
   "execution_count": 2,
   "metadata": {},
   "outputs": [],
   "source": [
    "ep = ep.Endpoint(host='dummy host', dbname='dummy db name', user='dummy user', password='dummy password')"
   ]
  },
  {
   "cell_type": "code",
   "execution_count": 3,
   "metadata": {},
   "outputs": [],
   "source": [
    "heh_df = pd.read_sql_query(\"\"\"SELECT subs_id, sub.class_name, sub.preferred_name, casr_number, ec_number, index_number, \n",
    "                                ht.\"type\", hc.classification, hn.\"name\"\n",
    "                                FROM heh h\n",
    "                                left join substance sub on sub.id = h.subs_id\n",
    "                                left join heh_type ht on ht.id = h.heh_type_id\n",
    "                                left join heh_classification hc on hc.id = h.heh_classif_id\n",
    "                                left join heh_name hn on hn.id = h.heh_name_id\"\"\", ep.conn)"
   ]
  },
  {
   "cell_type": "code",
   "execution_count": 4,
   "metadata": {},
   "outputs": [],
   "source": [
    "reg_df = pd.read_sql_query(\"\"\"SELECT reg.id, reg.subs_id, sub.class_name, sub.preferred_name, rco.country, rt.\"type\", rg.general_regulation_name, \n",
    "                            rspec.specific_regulation_name, rsub.subspecific_regulation_name, rsc.special_cases_name, addr.additional_information_name, \n",
    "                            reg.chem_id_name, ct.\"type\", regn.names\n",
    "                            FROM regulations reg\n",
    "                            LEFT JOIN substance sub ON sub.id = reg.subs_id\n",
    "                            left join regulation_country rco on rco.id = reg.reg_country_id\n",
    "                            left join regulation_type rt on rt.id = reg.reg_type_id\n",
    "                            left join general_regulation rg on rg.id = reg.gen_reg_id\n",
    "                            left join specific_regulation rspec on rspec.id = reg.spec_reg_id\n",
    "                            LEFT JOIN subspecific_regulation rsub ON rsub.id = reg.subspec_reg_id\n",
    "                            left join special_cases_regulation rsc on rsc.id = reg.special_cases_id\n",
    "                            left join additional_information_regulation addr on addr.id = reg.additional_information_id\n",
    "                            LEFT JOIN chem_type ct ON ct.id = reg.chem_type_id\n",
    "                            LEFT JOIN regulation_names regn ON regn.id = reg.regulation_id\n",
    "                            order by reg.id asc\"\"\", ep.conn)"
   ]
  },
  {
   "cell_type": "code",
   "execution_count": 5,
   "metadata": {},
   "outputs": [],
   "source": [
    "substances = ep.get_substances().sort_values(by='id').id.unique()"
   ]
  },
  {
   "cell_type": "code",
   "execution_count": 6,
   "metadata": {},
   "outputs": [],
   "source": [
    "cmr_positive = heh_df.loc[(heh_df['type'] == 'CMR') & (~heh_df['name'].isin(['YES','NO','No information','Pending (1)',\n",
    "                                                                            '(Shall apply from 1 March 2018)',\n",
    "                                                                            '(31/03/2017)',\n",
    "                                                                            'Registry of current Harmonised Classification and Labelling intentions by France',\n",
    "                                                                            'Submitted intention by Netherlands (18/11/2015)',\n",
    "                                                                            'Submitted intention by Norway (03/10/2011)',\n",
    "                                                                            'Submitted intention by Germany (22/02/2011)',\n",
    "                                                                            'Submitted intention by Norway (24/06/2014)',\n",
    "                                                                            'Amendment 2016/1179', 'Pending','particle diameter < 1 mm)',\n",
    "                                                                            'Submitted intention by Italy (22/08/2012)',\n",
    "                                                                            'Submitted intention by Sweden (14/11/2014)'])), 'name'].unique()\n",
    "pbt_ann = heh_df.loc[(heh_df['type'] == 'PBT') & (~heh_df['name'].isin(['YES','NO','No information','Pending (2)'])), 'name'].unique()\n",
    "vpvb_ann = heh_df.loc[(heh_df['type'] == 'vPvB') & (~heh_df['name'].isin(['NO','Pending (2)','YES','No information'])), 'name'].unique()\n",
    "endoc_ann = heh_df.loc[(heh_df['type'] == 'Endocrine_disruptor') & (~heh_df['name'].isin(['YES','NO','Pending (3)','No information'])), 'name'].unique()\n",
    "sens_ann = heh_df.loc[(heh_df['type'] == 'Sensitiser') & (~heh_df['name'].isin(['YES','NO','No information','(Shall apply from 1 March 2018)',\n",
    "                                                                                'Pending (3)','Pending(3)','Submitted intention by Slovenia (09/01/2015)',\n",
    "                                                                               'Submitted intention by United Kingdom (01/02/2017)',\n",
    "                                                                               'Amendment 2016/1179','(05/01/2016)','particle diameter < 1 mm)',\n",
    "                                                                               'Proposed future entry in Annex VI of CLP Regulation',\n",
    "                                                                               'Registry of current Harmonised Classification and Labelling intentions by Norway',\n",
    "                                                                               'Removal of','SCL ≥ 0.06 %'])), 'name'].unique()\n",
    "other_ann = heh_df.loc[(heh_df['type'] == 'Other') & (~heh_df['name'].isin(['No information'])), 'name'].unique()"
   ]
  },
  {
   "cell_type": "code",
   "execution_count": 7,
   "metadata": {},
   "outputs": [],
   "source": [
    "pbt_vpvb_pos = reg_df[(reg_df['general_regulation_name'].isin(['pbt_vpvb'])) &\n",
    "                      (~reg_df['names'].isin(['No information', 'Not PBT', 'Not vPvB', 'No information available',\n",
    "                                              '(See REACH part-Candidate List section)','Conclusion: not fulfilling PBT & vPvB criteria',\n",
    "                                   'Conclusion: deferred the decision on the substance from the list of potential PBT or vPvB substances.',\n",
    "                                              'Conclusion: not fulfilling PBT  criteria','Conclusion: not fulfilling POP  criteria']))].names.unique()"
   ]
  },
  {
   "cell_type": "code",
   "execution_count": 8,
   "metadata": {},
   "outputs": [],
   "source": [
    "endoc_pos = reg_df[(reg_df['general_regulation_name'].isin(['endocrine_disruptors']))&\n",
    "                   (~reg_df['names'].isin(['Not included','No information available']))].names.unique()"
   ]
  },
  {
   "cell_type": "code",
   "execution_count": 9,
   "metadata": {},
   "outputs": [],
   "source": [
    "new_cmr = ['Toxic for reproduction (Article 57c)','Toxic for reproduction (Article 57c):','Toxic for reproduction','Scope: ED, CMR','Scope: CMR',\n",
    "           'Carcinogenic (Article 57a)','Carcinogenic (Category 1B)','Carcinogenic  1B','Toxic for reproduction (category 1B)',\n",
    "           'Mutagenic (Article 57b)','Carcinogenic (category 1A)','Mutagenic (category 1B)',]\n",
    "new_pbt_vpvb = ['PBT (Article 57 d)','Scope: vPvB (Article 57 e)', 'vPvB (Article 57 e)','Scope: PBT']\n",
    "other_new = ['Equivalent level of concern having probable serious effects to environment (Article 57 f):','Scope: EQC',\n",
    "             'Equivalent level of concern having probable serious effects to environment (Article 57 f)']\n",
    "new_endoc = ['Scope: ED, CMR']\n",
    "\n",
    "cmr_positive = np.concatenate((cmr_positive, new_cmr), axis=0)\n",
    "pbt_vpvb_pos = np.concatenate((pbt_vpvb_pos, new_pbt_vpvb), axis=0)\n",
    "endoc_pos = np.concatenate((endoc_pos,new_endoc), axis=0)\n",
    "other_ann = np.concatenate((other_ann, other_new), axis=0)"
   ]
  },
  {
   "cell_type": "code",
   "execution_count": 10,
   "metadata": {},
   "outputs": [],
   "source": [
    "vpvb_pos = ['vPvB substance', 'PBT/ vPvB Substance',\n",
    "       'PBT/ vPvB substance', 'Rapporteur: Austria', 'Rapporteur: Norway',\n",
    "       'Rapporteur: United Kingdom', 'Rapporteur: Denmark',\n",
    "       'Rapporteur: Spain', 'Rapporteur: Germany',\n",
    "       'Rapporteur: France',\n",
    "       'Conclusion: Under evaluation', 'Rapporteur: Netherlands',\n",
    "       'Rapporteur: Sweden',\n",
    "       'Conclusion: fulfilling PBT & vPvB criteria',\n",
    "       'Conclusion: fulfilling PBT & vPvB criteria & POP']"
   ]
  },
  {
   "cell_type": "code",
   "execution_count": 11,
   "metadata": {},
   "outputs": [],
   "source": [
    "pbt_pos = ['PBT Substance', 'PBT/ vPvB Substance',\n",
    "       'PBT/ vPvB substance', 'Rapporteur: Austria', 'Rapporteur: Norway',\n",
    "       'Rapporteur: United Kingdom', 'Rapporteur: Denmark',\n",
    "       'Rapporteur: Spain', 'Rapporteur: Germany',\n",
    "       'Conclusion: Fulfilling PBT criteria & POP','Rapporteur: France',\n",
    "       'Conclusion: Under evaluation', 'Rapporteur: Netherlands',\n",
    "       'Conclusion: fulfilling PBT criteria', 'Rapporteur: Sweden',\n",
    "       'Conclusion: fulfilling PBT & vPvB criteria',\n",
    "       'Conclusion: fulfilling PBT & vPvB criteria & POP']"
   ]
  },
  {
   "cell_type": "code",
   "execution_count": 12,
   "metadata": {},
   "outputs": [],
   "source": [
    "endpoint_dict = {'CMR':cmr_positive, 'PBT':pbt_pos, 'vPvB':vpvb_pos, 'Endocrine Disruptor':endoc_pos, 'Sensitiser':sens_ann}"
   ]
  },
  {
   "cell_type": "code",
   "execution_count": 13,
   "metadata": {},
   "outputs": [],
   "source": [
    "subs_endpoint = ep.get_annotations_for_substance(substances, endpoint_dict)"
   ]
  },
  {
   "cell_type": "code",
   "execution_count": 14,
   "metadata": {},
   "outputs": [
    {
     "data": {
      "text/html": [
       "<div>\n",
       "<style scoped>\n",
       "    .dataframe tbody tr th:only-of-type {\n",
       "        vertical-align: middle;\n",
       "    }\n",
       "\n",
       "    .dataframe tbody tr th {\n",
       "        vertical-align: top;\n",
       "    }\n",
       "\n",
       "    .dataframe thead th {\n",
       "        text-align: right;\n",
       "    }\n",
       "</style>\n",
       "<table border=\"1\" class=\"dataframe\">\n",
       "  <thead>\n",
       "    <tr style=\"text-align: right;\">\n",
       "      <th></th>\n",
       "      <th>subs_id</th>\n",
       "      <th>CMR</th>\n",
       "      <th>PBT</th>\n",
       "      <th>vPvB</th>\n",
       "      <th>Endocrine Disruptor</th>\n",
       "      <th>Sensitiser</th>\n",
       "    </tr>\n",
       "  </thead>\n",
       "  <tbody>\n",
       "    <tr>\n",
       "      <th>0</th>\n",
       "      <td>1.0</td>\n",
       "      <td>YES</td>\n",
       "      <td>No information</td>\n",
       "      <td>No information</td>\n",
       "      <td>No information</td>\n",
       "      <td>YES</td>\n",
       "    </tr>\n",
       "    <tr>\n",
       "      <th>1</th>\n",
       "      <td>2.0</td>\n",
       "      <td>YES</td>\n",
       "      <td>No information</td>\n",
       "      <td>No information</td>\n",
       "      <td>YES</td>\n",
       "      <td>No information</td>\n",
       "    </tr>\n",
       "    <tr>\n",
       "      <th>2</th>\n",
       "      <td>3.0</td>\n",
       "      <td>YES</td>\n",
       "      <td>No information</td>\n",
       "      <td>No information</td>\n",
       "      <td>No information</td>\n",
       "      <td>No information</td>\n",
       "    </tr>\n",
       "    <tr>\n",
       "      <th>3</th>\n",
       "      <td>4.0</td>\n",
       "      <td>YES</td>\n",
       "      <td>No information</td>\n",
       "      <td>No information</td>\n",
       "      <td>No information</td>\n",
       "      <td>No information</td>\n",
       "    </tr>\n",
       "    <tr>\n",
       "      <th>4</th>\n",
       "      <td>5.0</td>\n",
       "      <td>No information</td>\n",
       "      <td>No information</td>\n",
       "      <td>No information</td>\n",
       "      <td>No information</td>\n",
       "      <td>No information</td>\n",
       "    </tr>\n",
       "  </tbody>\n",
       "</table>\n",
       "</div>"
      ],
      "text/plain": [
       "   subs_id             CMR             PBT            vPvB  \\\n",
       "0      1.0             YES  No information  No information   \n",
       "1      2.0             YES  No information  No information   \n",
       "2      3.0             YES  No information  No information   \n",
       "3      4.0             YES  No information  No information   \n",
       "4      5.0  No information  No information  No information   \n",
       "\n",
       "  Endocrine Disruptor      Sensitiser  \n",
       "0      No information             YES  \n",
       "1                 YES  No information  \n",
       "2      No information  No information  \n",
       "3      No information  No information  \n",
       "4      No information  No information  "
      ]
     },
     "execution_count": 14,
     "metadata": {},
     "output_type": "execute_result"
    }
   ],
   "source": [
    "subs_endpoint.head()"
   ]
  },
  {
   "cell_type": "markdown",
   "metadata": {},
   "source": [
    "### Here it should come the check part\n",
    "After getting the endpoint annotations per substance, and at the same time we update the database with them, the check function should come.\n",
    "Before updating the DB, the check function should see if there's a substance id in the table.\n",
    "If no, adds the new substance with the annotations.\n",
    "If there is, then it checks the annotations and applies the filters we've spoken"
   ]
  },
  {
   "cell_type": "code",
   "execution_count": 15,
   "metadata": {},
   "outputs": [],
   "source": [
    "# ep.add_annotations_to_database(subs_endpoint)"
   ]
  },
  {
   "cell_type": "markdown",
   "metadata": {},
   "source": [
    "### Total annotation check\n",
    "This only counts the total number of annotations per endpoint we have"
   ]
  },
  {
   "cell_type": "code",
   "execution_count": 16,
   "metadata": {},
   "outputs": [
    {
     "data": {
      "text/html": [
       "<div>\n",
       "<style scoped>\n",
       "    .dataframe tbody tr th:only-of-type {\n",
       "        vertical-align: middle;\n",
       "    }\n",
       "\n",
       "    .dataframe tbody tr th {\n",
       "        vertical-align: top;\n",
       "    }\n",
       "\n",
       "    .dataframe thead th {\n",
       "        text-align: right;\n",
       "    }\n",
       "</style>\n",
       "<table border=\"1\" class=\"dataframe\">\n",
       "  <thead>\n",
       "    <tr style=\"text-align: right;\">\n",
       "      <th></th>\n",
       "      <th>Endpoints</th>\n",
       "      <th>YES</th>\n",
       "      <th>Pending</th>\n",
       "      <th>No information</th>\n",
       "    </tr>\n",
       "  </thead>\n",
       "  <tbody>\n",
       "    <tr>\n",
       "      <th>0</th>\n",
       "      <td>CMR</td>\n",
       "      <td>153.0</td>\n",
       "      <td>59.0</td>\n",
       "      <td>1155.0</td>\n",
       "    </tr>\n",
       "    <tr>\n",
       "      <th>1</th>\n",
       "      <td>PBT</td>\n",
       "      <td>44.0</td>\n",
       "      <td>0.0</td>\n",
       "      <td>1323.0</td>\n",
       "    </tr>\n",
       "    <tr>\n",
       "      <th>2</th>\n",
       "      <td>vPvB</td>\n",
       "      <td>49.0</td>\n",
       "      <td>0.0</td>\n",
       "      <td>1318.0</td>\n",
       "    </tr>\n",
       "    <tr>\n",
       "      <th>3</th>\n",
       "      <td>Endocrine Disruptor</td>\n",
       "      <td>148.0</td>\n",
       "      <td>0.0</td>\n",
       "      <td>1219.0</td>\n",
       "    </tr>\n",
       "    <tr>\n",
       "      <th>4</th>\n",
       "      <td>Sensitiser</td>\n",
       "      <td>64.0</td>\n",
       "      <td>68.0</td>\n",
       "      <td>1235.0</td>\n",
       "    </tr>\n",
       "  </tbody>\n",
       "</table>\n",
       "</div>"
      ],
      "text/plain": [
       "             Endpoints    YES  Pending  No information\n",
       "0                  CMR  153.0     59.0          1155.0\n",
       "1                  PBT   44.0      0.0          1323.0\n",
       "2                 vPvB   49.0      0.0          1318.0\n",
       "3  Endocrine Disruptor  148.0      0.0          1219.0\n",
       "4           Sensitiser   64.0     68.0          1235.0"
      ]
     },
     "execution_count": 16,
     "metadata": {},
     "output_type": "execute_result"
    }
   ],
   "source": [
    "ep.get_total_annotations_per_endpoint(subs_endpoint)"
   ]
  }
 ],
 "metadata": {
  "kernelspec": {
   "display_name": "Python 3",
   "language": "python",
   "name": "python3"
  },
  "language_info": {
   "codemirror_mode": {
    "name": "ipython",
    "version": 3
   },
   "file_extension": ".py",
   "mimetype": "text/x-python",
   "name": "python",
   "nbconvert_exporter": "python",
   "pygments_lexer": "ipython3",
   "version": "3.7.3"
  }
 },
 "nbformat": 4,
 "nbformat_minor": 4
}
