{
 "cells": [
  {
   "cell_type": "code",
   "execution_count": 1,
   "metadata": {},
   "outputs": [
    {
     "name": "stderr",
     "output_type": "stream",
     "text": [
      "\n",
      "*** CompoundDB module found. Will check the synonyms table to resolve CAS. ***\n",
      "\n"
     ]
    }
   ],
   "source": [
    "import numpy as np\n",
    "import pandas as pd\n",
    "\n",
    "from compoundDB import inputtools as it\n",
    "from UpdateDB import Checkpoint as cp\n",
    "from UpdateDB import CR\n",
    "from UpdateDB import Update_CII as updater"
   ]
  },
  {
   "cell_type": "markdown",
   "metadata": {},
   "source": [
    "#### Load list into pandas"
   ]
  },
  {
   "cell_type": "code",
   "execution_count": 2,
   "metadata": {},
   "outputs": [],
   "source": [
    "example_df = pd.read_csv('example.csv', sep=',')"
   ]
  },
  {
   "cell_type": "markdown",
   "metadata": {},
   "source": [
    "#### Checkpoint from CII release version\n",
    "I make a checkpoint from the stable version just in case I need to roll back the new additions in my database"
   ]
  },
  {
   "cell_type": "code",
   "execution_count": 3,
   "metadata": {},
   "outputs": [],
   "source": [
    "release_checkpoint = cp.Checkpoint('dummy host','dummy db name','dummy user name','dummy password')"
   ]
  },
  {
   "cell_type": "code",
   "execution_count": 4,
   "metadata": {},
   "outputs": [],
   "source": [
    "tables_checkpoint = release_checkpoint.get_max_id_for_each_table()"
   ]
  },
  {
   "cell_type": "markdown",
   "metadata": {},
   "source": [
    "#### Processing example dataframe\n",
    "First we get CAS and then we generate a list with unique CAS. Finally we'll get the annotations for each CAS from CR database.\n",
    "Is important to remember that each input should be curated manually to end up having the same format obtained at the end with example_annotations dataframe."
   ]
  },
  {
   "cell_type": "code",
   "execution_count": 5,
   "metadata": {},
   "outputs": [],
   "source": [
    "example_df.loc[:,'N.o CAS'] = example_df['N.o CAS'].str.split('/')\n",
    "example_df.loc[:,'N.o CAS'] = example_df['N.o CAS'].astype(str).apply(lambda x: x.strip('[').strip(']').replace(\"'\",\"\").strip().replace(' and several other',''))"
   ]
  },
  {
   "cell_type": "code",
   "execution_count": 6,
   "metadata": {},
   "outputs": [],
   "source": [
    "example_copy = example_df.copy()"
   ]
  },
  {
   "cell_type": "code",
   "execution_count": 7,
   "metadata": {},
   "outputs": [],
   "source": [
    "new_data = {'Sustancia':[],'Listado individual':[], 'N.o CAS':[]}\n",
    "for i, row in example_df.iterrows():\n",
    "    subs_row = row['Sustancia']\n",
    "    pref_name = row['Listado individual']\n",
    "    cas_row = row['N.o CAS']\n",
    "    if ',' in cas_row:\n",
    "        cas_list = cas_row.split(',')\n",
    "        for cas in cas_list:\n",
    "            new_data['Sustancia'].append(subs_row)\n",
    "            new_data['Listado individual'].append(pref_name)\n",
    "            new_data['N.o CAS'].append(cas.strip())\n",
    "        example_copy.drop(i, axis=0, inplace=True)\n",
    "new_df = pd.DataFrame(new_data)"
   ]
  },
  {
   "cell_type": "code",
   "execution_count": 8,
   "metadata": {},
   "outputs": [],
   "source": [
    "example_conc = pd.concat([example_copy, new_df])\n",
    "example_conc.reset_index(inplace=True)\n",
    "example_conc.drop(labels='index',axis=1, inplace=True)\n",
    "example_conc.rename(columns={'N.o CAS':'CAS'},inplace=True)"
   ]
  },
  {
   "cell_type": "markdown",
   "metadata": {},
   "source": [
    "#### Connection to CR\n",
    "I connect to CR and extract annotations for each CAS"
   ]
  },
  {
   "cell_type": "code",
   "execution_count": 9,
   "metadata": {},
   "outputs": [],
   "source": [
    "ann_df = CR.CR().get_annotations_per_CAS()"
   ]
  },
  {
   "cell_type": "markdown",
   "metadata": {},
   "source": [
    "#### Preparing dataframes with annotations\n",
    "Here I create a new dataframe with CR annotations for each CAS in LSR. If I use pd.merge with how='inner' it allows me to recover all CAS from LSR dataframe avoiding empty substances"
   ]
  },
  {
   "cell_type": "code",
   "execution_count": 10,
   "metadata": {},
   "outputs": [],
   "source": [
    "example_annotations = example_conc.merge(ann_df, on='CAS', how='inner')"
   ]
  },
  {
   "cell_type": "code",
   "execution_count": 11,
   "metadata": {},
   "outputs": [
    {
     "data": {
      "text/html": [
       "<div>\n",
       "<style scoped>\n",
       "    .dataframe tbody tr th:only-of-type {\n",
       "        vertical-align: middle;\n",
       "    }\n",
       "\n",
       "    .dataframe tbody tr th {\n",
       "        vertical-align: top;\n",
       "    }\n",
       "\n",
       "    .dataframe thead th {\n",
       "        text-align: right;\n",
       "    }\n",
       "</style>\n",
       "<table border=\"1\" class=\"dataframe\">\n",
       "  <thead>\n",
       "    <tr style=\"text-align: right;\">\n",
       "      <th></th>\n",
       "      <th>Sustancia</th>\n",
       "      <th>Listado individual</th>\n",
       "      <th>CAS</th>\n",
       "      <th>source_name</th>\n",
       "      <th>original_annotation</th>\n",
       "      <th>annotation</th>\n",
       "      <th>general</th>\n",
       "      <th>category</th>\n",
       "    </tr>\n",
       "  </thead>\n",
       "  <tbody>\n",
       "    <tr>\n",
       "      <th>173</th>\n",
       "      <td>NaN</td>\n",
       "      <td>2-Amino-4-nitrotoluene</td>\n",
       "      <td>99-55-8</td>\n",
       "      <td>REACH Registration</td>\n",
       "      <td>Acute Tox. 3</td>\n",
       "      <td>Acute Tox. 3</td>\n",
       "      <td>Acute Toxicity</td>\n",
       "      <td>Other</td>\n",
       "    </tr>\n",
       "    <tr>\n",
       "      <th>119</th>\n",
       "      <td>NaN</td>\n",
       "      <td>2-Naphthylamine</td>\n",
       "      <td>91-59-8</td>\n",
       "      <td>REACH Annex III</td>\n",
       "      <td>Suspected hazardous to the aquatic environment</td>\n",
       "      <td>Suspected hazardous to the aquatic environment</td>\n",
       "      <td></td>\n",
       "      <td>Aquatic</td>\n",
       "    </tr>\n",
       "    <tr>\n",
       "      <th>418</th>\n",
       "      <td>NaN</td>\n",
       "      <td>4,4’-Oxydianiline</td>\n",
       "      <td>101-80-4</td>\n",
       "      <td>CLP Notification</td>\n",
       "      <td>Acute Tox. 3</td>\n",
       "      <td>Acute Tox. 3</td>\n",
       "      <td>Acute Toxicity</td>\n",
       "      <td>Other</td>\n",
       "    </tr>\n",
       "    <tr>\n",
       "      <th>434</th>\n",
       "      <td>NaN</td>\n",
       "      <td>4,4’-Oxydianiline</td>\n",
       "      <td>101-80-4</td>\n",
       "      <td>REACH Annex VI</td>\n",
       "      <td>PBT</td>\n",
       "      <td>PBT</td>\n",
       "      <td>PBT</td>\n",
       "      <td>PBT</td>\n",
       "    </tr>\n",
       "    <tr>\n",
       "      <th>420</th>\n",
       "      <td>NaN</td>\n",
       "      <td>4,4’-Oxydianiline</td>\n",
       "      <td>101-80-4</td>\n",
       "      <td>CLP Notification</td>\n",
       "      <td>Aquatic Chronic 1</td>\n",
       "      <td>Aquatic Chronic 1</td>\n",
       "      <td>Aquatic Chronic</td>\n",
       "      <td>Aquatic</td>\n",
       "    </tr>\n",
       "    <tr>\n",
       "      <th>264</th>\n",
       "      <td>NaN</td>\n",
       "      <td>4,4’-Diaminodiphenylmethane</td>\n",
       "      <td>101-77-9</td>\n",
       "      <td>REACH Registration</td>\n",
       "      <td>Aquatic Acute 1</td>\n",
       "      <td>Aquatic Acute 1</td>\n",
       "      <td>Aquatic Acute</td>\n",
       "      <td>Aquatic</td>\n",
       "    </tr>\n",
       "    <tr>\n",
       "      <th>96</th>\n",
       "      <td>NaN</td>\n",
       "      <td>4-Chloro-o-toluidine</td>\n",
       "      <td>95-69-2</td>\n",
       "      <td>REACH Annex VI</td>\n",
       "      <td>Aquatic Chronic 1</td>\n",
       "      <td>Aquatic Chronic 1</td>\n",
       "      <td>Aquatic Chronic</td>\n",
       "      <td>Aquatic</td>\n",
       "    </tr>\n",
       "    <tr>\n",
       "      <th>273</th>\n",
       "      <td>NaN</td>\n",
       "      <td>4,4’-Diaminodiphenylmethane</td>\n",
       "      <td>101-77-9</td>\n",
       "      <td>SVHC</td>\n",
       "      <td>Carcinogenic (Article 57a)</td>\n",
       "      <td>Carcinogenic</td>\n",
       "      <td>Carcinogen</td>\n",
       "      <td>CMR</td>\n",
       "    </tr>\n",
       "    <tr>\n",
       "      <th>321</th>\n",
       "      <td>NaN</td>\n",
       "      <td>3,3’-Dimetoxybenzidine</td>\n",
       "      <td>119-90-4</td>\n",
       "      <td>REACH Annex III</td>\n",
       "      <td>Suspected mutagen</td>\n",
       "      <td>Mutagenic</td>\n",
       "      <td>Mutagen</td>\n",
       "      <td>CMR</td>\n",
       "    </tr>\n",
       "    <tr>\n",
       "      <th>324</th>\n",
       "      <td>NaN</td>\n",
       "      <td>3,3’-Dimetoxybenzidine</td>\n",
       "      <td>119-90-4</td>\n",
       "      <td>REACH Annex III</td>\n",
       "      <td>Suspected persistent in the environment</td>\n",
       "      <td>Suspected persistent in the environment</td>\n",
       "      <td>Persistent</td>\n",
       "      <td>PBT</td>\n",
       "    </tr>\n",
       "  </tbody>\n",
       "</table>\n",
       "</div>"
      ],
      "text/plain": [
       "    Sustancia           Listado individual       CAS         source_name  \\\n",
       "173       NaN       2-Amino-4-nitrotoluene   99-55-8  REACH Registration   \n",
       "119       NaN              2-Naphthylamine   91-59-8     REACH Annex III   \n",
       "418       NaN            4,4’-Oxydianiline  101-80-4    CLP Notification   \n",
       "434       NaN            4,4’-Oxydianiline  101-80-4      REACH Annex VI   \n",
       "420       NaN            4,4’-Oxydianiline  101-80-4    CLP Notification   \n",
       "264       NaN  4,4’-Diaminodiphenylmethane  101-77-9  REACH Registration   \n",
       "96        NaN         4-Chloro-o-toluidine   95-69-2      REACH Annex VI   \n",
       "273       NaN  4,4’-Diaminodiphenylmethane  101-77-9                SVHC   \n",
       "321       NaN       3,3’-Dimetoxybenzidine  119-90-4     REACH Annex III   \n",
       "324       NaN       3,3’-Dimetoxybenzidine  119-90-4     REACH Annex III   \n",
       "\n",
       "                                original_annotation  \\\n",
       "173                                    Acute Tox. 3   \n",
       "119  Suspected hazardous to the aquatic environment   \n",
       "418                                    Acute Tox. 3   \n",
       "434                                             PBT   \n",
       "420                               Aquatic Chronic 1   \n",
       "264                                 Aquatic Acute 1   \n",
       "96                                Aquatic Chronic 1   \n",
       "273                      Carcinogenic (Article 57a)   \n",
       "321                               Suspected mutagen   \n",
       "324         Suspected persistent in the environment   \n",
       "\n",
       "                                         annotation          general category  \n",
       "173                                    Acute Tox. 3   Acute Toxicity    Other  \n",
       "119  Suspected hazardous to the aquatic environment                   Aquatic  \n",
       "418                                    Acute Tox. 3   Acute Toxicity    Other  \n",
       "434                                             PBT              PBT      PBT  \n",
       "420                               Aquatic Chronic 1  Aquatic Chronic  Aquatic  \n",
       "264                                 Aquatic Acute 1    Aquatic Acute  Aquatic  \n",
       "96                                Aquatic Chronic 1  Aquatic Chronic  Aquatic  \n",
       "273                                    Carcinogenic       Carcinogen      CMR  \n",
       "321                                       Mutagenic          Mutagen      CMR  \n",
       "324         Suspected persistent in the environment       Persistent      PBT  "
      ]
     },
     "execution_count": 11,
     "metadata": {},
     "output_type": "execute_result"
    }
   ],
   "source": [
    "example_annotations.sample(10)"
   ]
  },
  {
   "cell_type": "markdown",
   "metadata": {},
   "source": [
    "#### Add dataframe to devel CII\n",
    "Add new substances to CII or update the ones that are already there. I use original_annotation because it includes EUH annotations, and annotation column doesn't."
   ]
  },
  {
   "cell_type": "code",
   "execution_count": 12,
   "metadata": {},
   "outputs": [],
   "source": [
    "updater = updater.UpdateDB(host='dummy host', dbname='dummy db name', user='dummy user', password='dummy password')"
   ]
  },
  {
   "cell_type": "markdown",
   "metadata": {},
   "source": [
    "Add all the information from the dataframe: substance, chemical identifiers, structure, sources, annotations and how they're related (regulations table)"
   ]
  },
  {
   "cell_type": "code",
   "execution_count": 13,
   "metadata": {},
   "outputs": [],
   "source": [
    "updater.add_all_information_from_dataframe(dataframe=example_annotations,\n",
    "                                    class_name_field = 'Sustancia',\n",
    "                                    preferred_name_field = 'Listado individual',\n",
    "                                    chem_id_field='CAS',\n",
    "                                    chem_id_type='casr_number',\n",
    "                                    sourceName_field='source_name',\n",
    "                                    regulation_field='original_annotation')"
   ]
  },
  {
   "cell_type": "markdown",
   "metadata": {},
   "source": [
    "Add only substances by name"
   ]
  },
  {
   "cell_type": "code",
   "execution_count": 14,
   "metadata": {},
   "outputs": [],
   "source": [
    "updater.add_substances_from_dataframe(dataframe=example_annotations,\n",
    "                                    class_name_field = 'Sustancia',\n",
    "                                    preferred_name_field = 'Listado individual')"
   ]
  },
  {
   "cell_type": "markdown",
   "metadata": {},
   "source": [
    "Add chemical identifiers and substances by name"
   ]
  },
  {
   "cell_type": "code",
   "execution_count": 15,
   "metadata": {},
   "outputs": [],
   "source": [
    "updater.add_chemical_identifier_from_dataframe(dataframe=example_annotations,\n",
    "                                            class_name_field = 'Sustancia',\n",
    "                                            preferred_name_field = 'Listado individual',\n",
    "                                            chem_id_field='CAS',\n",
    "                                            chem_id_type='casr_number')"
   ]
  },
  {
   "cell_type": "markdown",
   "metadata": {},
   "source": [
    "Add only structures (SMILES) if present in the dataframe. If not, it generates the structure from the CAS and stores it"
   ]
  },
  {
   "cell_type": "code",
   "execution_count": 16,
   "metadata": {},
   "outputs": [],
   "source": [
    "small_strucs = updater.get_substances_with_structure()[:10]"
   ]
  },
  {
   "cell_type": "code",
   "execution_count": 17,
   "metadata": {},
   "outputs": [],
   "source": [
    "updater.add_structure_from_dataframe(dataframe=small_strucs,\n",
    "                                    class_name_field = 'class_name',\n",
    "                                    preferred_name_field = 'preferred_name',\n",
    "                                    chem_id_field='name',\n",
    "                                    chem_id_type='casr_number',\n",
    "                                    smiles_field='structure')"
   ]
  },
  {
   "cell_type": "markdown",
   "metadata": {},
   "source": [
    "Add only the sources present in the dataframe"
   ]
  },
  {
   "cell_type": "code",
   "execution_count": 18,
   "metadata": {},
   "outputs": [],
   "source": [
    "updater.add_source_from_dataframe(dataframe=example_annotations,\n",
    "                                 sourceName_field='source_name')"
   ]
  },
  {
   "cell_type": "markdown",
   "metadata": {},
   "source": [
    "Add only the annotations (hazards etc...) present in the dataframe"
   ]
  },
  {
   "cell_type": "code",
   "execution_count": 19,
   "metadata": {},
   "outputs": [],
   "source": [
    "updater.add_annotation_from_dataframe(dataframe=example_annotations,\n",
    "                                     annotation_field='original_annotation')"
   ]
  }
 ],
 "metadata": {
  "kernelspec": {
   "display_name": "Python 3",
   "language": "python",
   "name": "python3"
  },
  "language_info": {
   "codemirror_mode": {
    "name": "ipython",
    "version": 3
   },
   "file_extension": ".py",
   "mimetype": "text/x-python",
   "name": "python",
   "nbconvert_exporter": "python",
   "pygments_lexer": "ipython3",
   "version": "3.7.3"
  }
 },
 "nbformat": 4,
 "nbformat_minor": 4
}
