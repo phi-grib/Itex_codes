{
 "cells": [
  {
   "cell_type": "code",
   "execution_count": 1,
   "metadata": {},
   "outputs": [
    {
     "name": "stderr",
     "output_type": "stream",
     "text": [
      "\n",
      "*** CompoundDB module found. Will check the synonyms table to resolve CAS. ***\n",
      "\n"
     ]
    }
   ],
   "source": [
    "import numpy as np\n",
    "import pandas as pd\n",
    "\n",
    "from compoundDB import inputtools as it\n",
    "from UpdateDB import Update_CII as updater"
   ]
  },
  {
   "cell_type": "markdown",
   "metadata": {},
   "source": [
    "#### Load list into pandas"
   ]
  },
  {
   "cell_type": "code",
   "execution_count": 2,
   "metadata": {},
   "outputs": [],
   "source": [
    "example_df = pd.read_csv('example.csv', sep=',')"
   ]
  },
  {
   "cell_type": "markdown",
   "metadata": {},
   "source": [
    "#### Processing example dataframe\n",
    "First we get CAS and then we generate a list with unique CAS. Finally we'll get the annotations for each CAS from CR database.\n",
    "Is important to remember that each input should be curated manually to end up having the same format obtained at the end with example_annotations dataframe."
   ]
  },
  {
   "cell_type": "code",
   "execution_count": 3,
   "metadata": {},
   "outputs": [],
   "source": [
    "example_df.loc[:,'N.o CAS'] = example_df['N.o CAS'].str.split('/')\n",
    "example_df.loc[:,'N.o CAS'] = example_df['N.o CAS'].astype(str).apply(lambda x: x.strip('[').strip(']').replace(\"'\",\"\").strip().replace(' and several other',''))"
   ]
  },
  {
   "cell_type": "code",
   "execution_count": 4,
   "metadata": {},
   "outputs": [],
   "source": [
    "example_copy = example_df.copy()"
   ]
  },
  {
   "cell_type": "code",
   "execution_count": 5,
   "metadata": {},
   "outputs": [],
   "source": [
    "new_data = {'Sustancia':[],'Listado individual':[], 'N.o CAS':[]}\n",
    "for i, row in example_df.iterrows():\n",
    "    subs_row = row['Sustancia']\n",
    "    pref_name = row['Listado individual']\n",
    "    cas_row = row['N.o CAS']\n",
    "    if ',' in cas_row:\n",
    "        cas_list = cas_row.split(',')\n",
    "        for cas in cas_list:\n",
    "            new_data['Sustancia'].append(subs_row)\n",
    "            new_data['Listado individual'].append(pref_name)\n",
    "            new_data['N.o CAS'].append(cas.strip())\n",
    "        example_copy.drop(i, axis=0, inplace=True)\n",
    "new_df = pd.DataFrame(new_data)"
   ]
  },
  {
   "cell_type": "code",
   "execution_count": 6,
   "metadata": {},
   "outputs": [],
   "source": [
    "example_conc = pd.concat([example_copy, new_df])\n",
    "example_conc.reset_index(inplace=True)\n",
    "example_conc.drop(labels='index',axis=1, inplace=True)\n",
    "example_conc.rename(columns={'N.o CAS':'CAS'},inplace=True)"
   ]
  },
  {
   "cell_type": "markdown",
   "metadata": {},
   "source": [
    "#### Connection to CR\n",
    "I connect to CR and extract annotations for each CAS"
   ]
  },
  {
   "cell_type": "code",
   "execution_count": 7,
   "metadata": {},
   "outputs": [],
   "source": [
    "cr_con = it.openconnection(host='gea', password='DBAdmin')"
   ]
  },
  {
   "cell_type": "code",
   "execution_count": 8,
   "metadata": {},
   "outputs": [],
   "source": [
    "cr_db = pd.read_sql_query(\"\"\"SELECT synonym.type, synonym.name as reg_number, source.name as source_name, \n",
    "subs_ann.original_annotation, annotation.annotation, annotation.general, annotation.category, source.latest\n",
    "FROM substance sub\n",
    "left join synonym on synonym.subsid = sub.id\n",
    "left join source on source.id = sub.sourceid\n",
    "left join subs_ann on subs_ann.subsid = sub.id\n",
    "left join annotation on annotation.id = subs_ann.annid\n",
    "where synonym.type like '%CAS%'\n",
    "order by synonym.name ASC\"\"\", cr_con)"
   ]
  },
  {
   "cell_type": "code",
   "execution_count": 9,
   "metadata": {},
   "outputs": [],
   "source": [
    "cr_db.drop_duplicates(inplace=True)\n",
    "cr_db.drop(labels=cr_db.loc[cr_db['reg_number'].isin(['-','_','---','—']),:].index, axis=0, inplace=True)\n",
    "cr_db.sort_values(by=['reg_number','source_name','original_annotation','annotation'], inplace=True)\n",
    "cr_db.rename(columns={'reg_number':'CAS'},inplace=True)"
   ]
  },
  {
   "cell_type": "markdown",
   "metadata": {},
   "source": [
    "#### Preparing dataframes with annotations\n",
    "Here I create a new dataframe with CR annotations for each CAS in LSR. If I use pd.merge with how='left' it allows me to recover all CAS from LSR dataframe"
   ]
  },
  {
   "cell_type": "code",
   "execution_count": 10,
   "metadata": {},
   "outputs": [],
   "source": [
    "example_annotations = example_conc.merge(cr_db, on='CAS', how='left')"
   ]
  },
  {
   "cell_type": "code",
   "execution_count": 11,
   "metadata": {},
   "outputs": [
    {
     "data": {
      "text/html": [
       "<div>\n",
       "<style scoped>\n",
       "    .dataframe tbody tr th:only-of-type {\n",
       "        vertical-align: middle;\n",
       "    }\n",
       "\n",
       "    .dataframe tbody tr th {\n",
       "        vertical-align: top;\n",
       "    }\n",
       "\n",
       "    .dataframe thead th {\n",
       "        text-align: right;\n",
       "    }\n",
       "</style>\n",
       "<table border=\"1\" class=\"dataframe\">\n",
       "  <thead>\n",
       "    <tr style=\"text-align: right;\">\n",
       "      <th></th>\n",
       "      <th>Sustancia</th>\n",
       "      <th>Listado individual</th>\n",
       "      <th>CAS</th>\n",
       "      <th>type</th>\n",
       "      <th>source_name</th>\n",
       "      <th>original_annotation</th>\n",
       "      <th>annotation</th>\n",
       "      <th>general</th>\n",
       "      <th>category</th>\n",
       "      <th>latest</th>\n",
       "    </tr>\n",
       "  </thead>\n",
       "  <tbody>\n",
       "    <tr>\n",
       "      <th>41</th>\n",
       "      <td>Arilaminas</td>\n",
       "      <td>4-Aminobiphenyl</td>\n",
       "      <td>92-67-1</td>\n",
       "      <td>CAS</td>\n",
       "      <td>SVHC</td>\n",
       "      <td>vPvB</td>\n",
       "      <td>vPvB</td>\n",
       "      <td></td>\n",
       "      <td>vPvB</td>\n",
       "      <td>False</td>\n",
       "    </tr>\n",
       "    <tr>\n",
       "      <th>532</th>\n",
       "      <td>NaN</td>\n",
       "      <td>3,3’-Dimethyl-4,4’-diaminodiphenilmethane</td>\n",
       "      <td>838-88-0</td>\n",
       "      <td>CAS</td>\n",
       "      <td>REACH Annex VI</td>\n",
       "      <td>PBT</td>\n",
       "      <td>PBT</td>\n",
       "      <td>PBT</td>\n",
       "      <td>PBT</td>\n",
       "      <td>True</td>\n",
       "    </tr>\n",
       "    <tr>\n",
       "      <th>246</th>\n",
       "      <td>NaN</td>\n",
       "      <td>4-Chloroaniline</td>\n",
       "      <td>106-47-8</td>\n",
       "      <td>CAS</td>\n",
       "      <td>CLP Notification</td>\n",
       "      <td>Carc. 1B</td>\n",
       "      <td>Carc. 1B</td>\n",
       "      <td>Carcinogen</td>\n",
       "      <td>CMR</td>\n",
       "      <td>False</td>\n",
       "    </tr>\n",
       "    <tr>\n",
       "      <th>151</th>\n",
       "      <td>NaN</td>\n",
       "      <td>2-Naphthylamine</td>\n",
       "      <td>91-59-8</td>\n",
       "      <td>CAS</td>\n",
       "      <td>REACH Annex III</td>\n",
       "      <td>Suspected carcinogen</td>\n",
       "      <td>Carcinogenic</td>\n",
       "      <td>Carcinogen</td>\n",
       "      <td>CMR</td>\n",
       "      <td>True</td>\n",
       "    </tr>\n",
       "    <tr>\n",
       "      <th>268</th>\n",
       "      <td>NaN</td>\n",
       "      <td>4-Chloroaniline</td>\n",
       "      <td>106-47-8</td>\n",
       "      <td>CAS</td>\n",
       "      <td>REACH Annex VI</td>\n",
       "      <td>Aquatic Chronic 1</td>\n",
       "      <td>Aquatic Chronic 1</td>\n",
       "      <td>Aquatic Chronic</td>\n",
       "      <td>Aquatic</td>\n",
       "      <td>True</td>\n",
       "    </tr>\n",
       "    <tr>\n",
       "      <th>693</th>\n",
       "      <td>NaN</td>\n",
       "      <td>4,4’-Thiodianiline</td>\n",
       "      <td>139-65-1</td>\n",
       "      <td>CAS No</td>\n",
       "      <td>REACH Annex VI</td>\n",
       "      <td>Carc. 1B</td>\n",
       "      <td>Carc. 1B</td>\n",
       "      <td>Carcinogen</td>\n",
       "      <td>CMR</td>\n",
       "      <td>True</td>\n",
       "    </tr>\n",
       "    <tr>\n",
       "      <th>279</th>\n",
       "      <td>NaN</td>\n",
       "      <td>4-Chloroaniline</td>\n",
       "      <td>106-47-8</td>\n",
       "      <td>CAS</td>\n",
       "      <td>REACH Annex VI</td>\n",
       "      <td>Skin Sens. 1</td>\n",
       "      <td>Skin Sens. 1</td>\n",
       "      <td></td>\n",
       "      <td>Sensitiser</td>\n",
       "      <td>False</td>\n",
       "    </tr>\n",
       "    <tr>\n",
       "      <th>568</th>\n",
       "      <td>NaN</td>\n",
       "      <td>p-Cresidine</td>\n",
       "      <td>120-71-8</td>\n",
       "      <td>CAS No</td>\n",
       "      <td>REACH Annex VI</td>\n",
       "      <td>vPvB</td>\n",
       "      <td>vPvB</td>\n",
       "      <td></td>\n",
       "      <td>vPvB</td>\n",
       "      <td>True</td>\n",
       "    </tr>\n",
       "    <tr>\n",
       "      <th>804</th>\n",
       "      <td>NaN</td>\n",
       "      <td>2,4-Toluilendiamine</td>\n",
       "      <td>95-80-7</td>\n",
       "      <td>CAS</td>\n",
       "      <td>REACH Registration</td>\n",
       "      <td>STOT Rep. Exp. 2</td>\n",
       "      <td>STOT RE 2</td>\n",
       "      <td>Specific Target Organ Toxicity</td>\n",
       "      <td>Clinical</td>\n",
       "      <td>False</td>\n",
       "    </tr>\n",
       "    <tr>\n",
       "      <th>252</th>\n",
       "      <td>NaN</td>\n",
       "      <td>4-Chloroaniline</td>\n",
       "      <td>106-47-8</td>\n",
       "      <td>CAS</td>\n",
       "      <td>CLP Notification</td>\n",
       "      <td>STOT RE 1</td>\n",
       "      <td>STOT RE 1</td>\n",
       "      <td>Specific Target Organ Toxicity</td>\n",
       "      <td>Clinical</td>\n",
       "      <td>False</td>\n",
       "    </tr>\n",
       "  </tbody>\n",
       "</table>\n",
       "</div>"
      ],
      "text/plain": [
       "      Sustancia                         Listado individual       CAS    type  \\\n",
       "41   Arilaminas                            4-Aminobiphenyl   92-67-1     CAS   \n",
       "532         NaN  3,3’-Dimethyl-4,4’-diaminodiphenilmethane  838-88-0     CAS   \n",
       "246         NaN                            4-Chloroaniline  106-47-8     CAS   \n",
       "151         NaN                            2-Naphthylamine   91-59-8     CAS   \n",
       "268         NaN                            4-Chloroaniline  106-47-8     CAS   \n",
       "693         NaN                         4,4’-Thiodianiline  139-65-1  CAS No   \n",
       "279         NaN                            4-Chloroaniline  106-47-8     CAS   \n",
       "568         NaN                                p-Cresidine  120-71-8  CAS No   \n",
       "804         NaN                        2,4-Toluilendiamine   95-80-7     CAS   \n",
       "252         NaN                            4-Chloroaniline  106-47-8     CAS   \n",
       "\n",
       "            source_name   original_annotation         annotation  \\\n",
       "41                 SVHC                  vPvB               vPvB   \n",
       "532      REACH Annex VI                   PBT                PBT   \n",
       "246    CLP Notification              Carc. 1B           Carc. 1B   \n",
       "151     REACH Annex III  Suspected carcinogen       Carcinogenic   \n",
       "268      REACH Annex VI     Aquatic Chronic 1  Aquatic Chronic 1   \n",
       "693      REACH Annex VI              Carc. 1B           Carc. 1B   \n",
       "279      REACH Annex VI          Skin Sens. 1       Skin Sens. 1   \n",
       "568      REACH Annex VI                  vPvB               vPvB   \n",
       "804  REACH Registration      STOT Rep. Exp. 2          STOT RE 2   \n",
       "252    CLP Notification             STOT RE 1          STOT RE 1   \n",
       "\n",
       "                            general    category  latest  \n",
       "41                                         vPvB   False  \n",
       "532                             PBT         PBT    True  \n",
       "246                      Carcinogen         CMR   False  \n",
       "151                      Carcinogen         CMR    True  \n",
       "268                 Aquatic Chronic     Aquatic    True  \n",
       "693                      Carcinogen         CMR    True  \n",
       "279                                  Sensitiser   False  \n",
       "568                                        vPvB    True  \n",
       "804  Specific Target Organ Toxicity    Clinical   False  \n",
       "252  Specific Target Organ Toxicity    Clinical   False  "
      ]
     },
     "execution_count": 11,
     "metadata": {},
     "output_type": "execute_result"
    }
   ],
   "source": [
    "example_annotations.sample(10)"
   ]
  },
  {
   "cell_type": "markdown",
   "metadata": {},
   "source": [
    "#### Add dataframe to devel CII\n",
    "Add new substances to CII or update the ones that are already there"
   ]
  },
  {
   "cell_type": "code",
   "execution_count": 12,
   "metadata": {},
   "outputs": [],
   "source": [
    "updater = updater.UpdateDB(host='localhost', dbname='inventory', user='postgres', password='PSGAdmin')"
   ]
  },
  {
   "cell_type": "code",
   "execution_count": 13,
   "metadata": {},
   "outputs": [],
   "source": [
    "updater.add_all_information_from_dataframe(dataframe=example_annotations,\n",
    "                                    class_name_field = 'Sustancia',\n",
    "                                    preferred_name_field = 'Listado individual',\n",
    "                                    chem_id_field='CAS',\n",
    "                                    chem_id_type='casr_number',\n",
    "                                    sourceName_field='source_name',\n",
    "                                    regulation_field='annotation')"
   ]
  },
  {
   "cell_type": "code",
   "execution_count": 14,
   "metadata": {},
   "outputs": [],
   "source": [
    "# updater.add_substances_from_dataframe()\n",
    "# updater.add_chemical_identifier_from_dataframe()\n",
    "# updater.add_structure_from_dataframe()\n",
    "# updater.add_source_from_dataframe()\n",
    "# updater.add_annotation_from_dataframe()"
   ]
  }
 ],
 "metadata": {
  "kernelspec": {
   "display_name": "Python 3",
   "language": "python",
   "name": "python3"
  },
  "language_info": {
   "codemirror_mode": {
    "name": "ipython",
    "version": 3
   },
   "file_extension": ".py",
   "mimetype": "text/x-python",
   "name": "python",
   "nbconvert_exporter": "python",
   "pygments_lexer": "ipython3",
   "version": "3.7.3"
  }
 },
 "nbformat": 4,
 "nbformat_minor": 4
}
