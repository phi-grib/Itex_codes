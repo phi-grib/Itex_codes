{
 "cells": [
  {
   "cell_type": "code",
   "execution_count": 1,
   "metadata": {},
   "outputs": [
    {
     "name": "stderr",
     "output_type": "stream",
     "text": [
      "\n",
      "*** CompoundDB module found. Will check the synonyms table to resolve CAS. ***\n",
      "\n"
     ]
    }
   ],
   "source": [
    "import numpy as np\n",
    "import pandas as pd\n",
    "\n",
    "from compoundDB import inputtools as it\n",
    "from UpdateDB import Checkpoint as cp\n",
    "from UpdateDB import CR\n",
    "from UpdateDB import Update_CII as updater"
   ]
  },
  {
   "cell_type": "markdown",
   "metadata": {},
   "source": [
    "#### Load list into pandas"
   ]
  },
  {
   "cell_type": "code",
   "execution_count": 2,
   "metadata": {},
   "outputs": [],
   "source": [
    "example_df = pd.read_csv('example.csv', sep=',')"
   ]
  },
  {
   "cell_type": "markdown",
   "metadata": {},
   "source": [
    "#### Checkpoint from CII release version\n",
    "I make a checkpoint from the stable version just in case I need to roll back the new additions in my database"
   ]
  },
  {
   "cell_type": "code",
   "execution_count": 3,
   "metadata": {},
   "outputs": [],
   "source": [
    "release_checkpoint = cp.Checkpoint('gea','CII','postgres','DBAdmin')"
   ]
  },
  {
   "cell_type": "code",
   "execution_count": 4,
   "metadata": {},
   "outputs": [],
   "source": [
    "tables_checkpoint = release_checkpoint.get_max_id_for_each_table()"
   ]
  },
  {
   "cell_type": "markdown",
   "metadata": {},
   "source": [
    "#### Processing example dataframe\n",
    "First we get CAS and then we generate a list with unique CAS. Finally we'll get the annotations for each CAS from CR database.\n",
    "Is important to remember that each input should be curated manually to end up having the same format obtained at the end with example_annotations dataframe."
   ]
  },
  {
   "cell_type": "code",
   "execution_count": 5,
   "metadata": {},
   "outputs": [],
   "source": [
    "example_df.loc[:,'N.o CAS'] = example_df['N.o CAS'].str.split('/')\n",
    "example_df.loc[:,'N.o CAS'] = example_df['N.o CAS'].astype(str).apply(lambda x: x.strip('[').strip(']').replace(\"'\",\"\").strip().replace(' and several other',''))"
   ]
  },
  {
   "cell_type": "code",
   "execution_count": 6,
   "metadata": {},
   "outputs": [],
   "source": [
    "example_copy = example_df.copy()"
   ]
  },
  {
   "cell_type": "code",
   "execution_count": 7,
   "metadata": {},
   "outputs": [],
   "source": [
    "new_data = {'Sustancia':[],'Listado individual':[], 'N.o CAS':[]}\n",
    "for i, row in example_df.iterrows():\n",
    "    subs_row = row['Sustancia']\n",
    "    pref_name = row['Listado individual']\n",
    "    cas_row = row['N.o CAS']\n",
    "    if ',' in cas_row:\n",
    "        cas_list = cas_row.split(',')\n",
    "        for cas in cas_list:\n",
    "            new_data['Sustancia'].append(subs_row)\n",
    "            new_data['Listado individual'].append(pref_name)\n",
    "            new_data['N.o CAS'].append(cas.strip())\n",
    "        example_copy.drop(i, axis=0, inplace=True)\n",
    "new_df = pd.DataFrame(new_data)"
   ]
  },
  {
   "cell_type": "code",
   "execution_count": 8,
   "metadata": {},
   "outputs": [],
   "source": [
    "example_conc = pd.concat([example_copy, new_df])\n",
    "example_conc.reset_index(inplace=True)\n",
    "example_conc.drop(labels='index',axis=1, inplace=True)\n",
    "example_conc.rename(columns={'N.o CAS':'CAS'},inplace=True)"
   ]
  },
  {
   "cell_type": "markdown",
   "metadata": {},
   "source": [
    "#### Connection to CR\n",
    "I connect to CR and extract annotations for each CAS"
   ]
  },
  {
   "cell_type": "code",
   "execution_count": 9,
   "metadata": {},
   "outputs": [],
   "source": [
    "ann_df = CR.CR().get_annotations_per_CAS()"
   ]
  },
  {
   "cell_type": "markdown",
   "metadata": {},
   "source": [
    "#### Preparing dataframes with annotations\n",
    "Here I create a new dataframe with CR annotations for each CAS in LSR. If I use pd.merge with how='inner' it allows me to recover all CAS from LSR dataframe avoiding empty substances"
   ]
  },
  {
   "cell_type": "code",
   "execution_count": 10,
   "metadata": {},
   "outputs": [],
   "source": [
    "example_annotations = example_conc.merge(ann_df, on='CAS', how='inner')"
   ]
  },
  {
   "cell_type": "code",
   "execution_count": 11,
   "metadata": {},
   "outputs": [
    {
     "data": {
      "text/html": [
       "<div>\n",
       "<style scoped>\n",
       "    .dataframe tbody tr th:only-of-type {\n",
       "        vertical-align: middle;\n",
       "    }\n",
       "\n",
       "    .dataframe tbody tr th {\n",
       "        vertical-align: top;\n",
       "    }\n",
       "\n",
       "    .dataframe thead th {\n",
       "        text-align: right;\n",
       "    }\n",
       "</style>\n",
       "<table border=\"1\" class=\"dataframe\">\n",
       "  <thead>\n",
       "    <tr style=\"text-align: right;\">\n",
       "      <th></th>\n",
       "      <th>Sustancia</th>\n",
       "      <th>Listado individual</th>\n",
       "      <th>CAS</th>\n",
       "      <th>source_name</th>\n",
       "      <th>original_annotation</th>\n",
       "      <th>annotation</th>\n",
       "      <th>general</th>\n",
       "      <th>category</th>\n",
       "    </tr>\n",
       "  </thead>\n",
       "  <tbody>\n",
       "    <tr>\n",
       "      <th>347</th>\n",
       "      <td>NaN</td>\n",
       "      <td>3,3’-Dimethylbenzidine</td>\n",
       "      <td>119-93-7</td>\n",
       "      <td>REACH Annex III</td>\n",
       "      <td>Suspected mutagen</td>\n",
       "      <td>Mutagenic</td>\n",
       "      <td>Mutagen</td>\n",
       "      <td>CMR</td>\n",
       "    </tr>\n",
       "    <tr>\n",
       "      <th>213</th>\n",
       "      <td>NaN</td>\n",
       "      <td>4-Chloroaniline</td>\n",
       "      <td>106-47-8</td>\n",
       "      <td>REACH Registration</td>\n",
       "      <td>None</td>\n",
       "      <td>None</td>\n",
       "      <td>None</td>\n",
       "      <td>None</td>\n",
       "    </tr>\n",
       "    <tr>\n",
       "      <th>342</th>\n",
       "      <td>NaN</td>\n",
       "      <td>3,3’-Dimethylbenzidine</td>\n",
       "      <td>119-93-7</td>\n",
       "      <td>REACH Annex III</td>\n",
       "      <td>Suspected acutely toxic via the oral route</td>\n",
       "      <td>Toxic via the oral route</td>\n",
       "      <td></td>\n",
       "      <td>Other</td>\n",
       "    </tr>\n",
       "    <tr>\n",
       "      <th>401</th>\n",
       "      <td>NaN</td>\n",
       "      <td>4,4’-Methylen-bis-(2-chloroaniline)</td>\n",
       "      <td>101-14-4</td>\n",
       "      <td>EPA Genetox</td>\n",
       "      <td>Sister-chromatid exchange (SCE) in vitro</td>\n",
       "      <td>Sister-chromatid exchange (SCE) in vitro</td>\n",
       "      <td>Genotoxic</td>\n",
       "      <td>CMR</td>\n",
       "    </tr>\n",
       "    <tr>\n",
       "      <th>8</th>\n",
       "      <td>Arilaminas</td>\n",
       "      <td>4-Aminobiphenyl</td>\n",
       "      <td>92-67-1</td>\n",
       "      <td>EPA Genetox</td>\n",
       "      <td>Sister-chromatid exchange (SCE) in vivo</td>\n",
       "      <td>Sister-chromatid exchange (SCE) in vivo</td>\n",
       "      <td>Genotoxic</td>\n",
       "      <td>CMR</td>\n",
       "    </tr>\n",
       "    <tr>\n",
       "      <th>514</th>\n",
       "      <td>NaN</td>\n",
       "      <td>2,4-Toluilendiamine</td>\n",
       "      <td>95-80-7</td>\n",
       "      <td>CLP Notification</td>\n",
       "      <td>STOT RE 2</td>\n",
       "      <td>STOT RE 2</td>\n",
       "      <td>Specific Target Organ Toxicity</td>\n",
       "      <td>Clinical</td>\n",
       "    </tr>\n",
       "    <tr>\n",
       "      <th>308</th>\n",
       "      <td>NaN</td>\n",
       "      <td>3,3’-Dimetoxybenzidine</td>\n",
       "      <td>119-90-4</td>\n",
       "      <td>CLP Notification</td>\n",
       "      <td>Acute Tox. 4</td>\n",
       "      <td>Acute Tox. 4</td>\n",
       "      <td>Acute Toxicity</td>\n",
       "      <td>Other</td>\n",
       "    </tr>\n",
       "    <tr>\n",
       "      <th>126</th>\n",
       "      <td>NaN</td>\n",
       "      <td>2-Naphthylamine</td>\n",
       "      <td>91-59-8</td>\n",
       "      <td>REACH Annex VI</td>\n",
       "      <td>Acute Tox. 4 *</td>\n",
       "      <td>Acute Tox. 4</td>\n",
       "      <td>Acute Toxicity</td>\n",
       "      <td>Other</td>\n",
       "    </tr>\n",
       "    <tr>\n",
       "      <th>176</th>\n",
       "      <td>NaN</td>\n",
       "      <td>2-Amino-4-nitrotoluene</td>\n",
       "      <td>99-55-8</td>\n",
       "      <td>REACH Registration</td>\n",
       "      <td>None</td>\n",
       "      <td>None</td>\n",
       "      <td>None</td>\n",
       "      <td>None</td>\n",
       "    </tr>\n",
       "    <tr>\n",
       "      <th>460</th>\n",
       "      <td>NaN</td>\n",
       "      <td>4,4’-Thiodianiline</td>\n",
       "      <td>139-65-1</td>\n",
       "      <td>REACH Annex III</td>\n",
       "      <td>Suspected carcinogen</td>\n",
       "      <td>Carcinogenic</td>\n",
       "      <td>Carcinogen</td>\n",
       "      <td>CMR</td>\n",
       "    </tr>\n",
       "  </tbody>\n",
       "</table>\n",
       "</div>"
      ],
      "text/plain": [
       "      Sustancia                   Listado individual       CAS  \\\n",
       "347         NaN               3,3’-Dimethylbenzidine  119-93-7   \n",
       "213         NaN                      4-Chloroaniline  106-47-8   \n",
       "342         NaN               3,3’-Dimethylbenzidine  119-93-7   \n",
       "401         NaN  4,4’-Methylen-bis-(2-chloroaniline)  101-14-4   \n",
       "8    Arilaminas                      4-Aminobiphenyl   92-67-1   \n",
       "514         NaN                  2,4-Toluilendiamine   95-80-7   \n",
       "308         NaN               3,3’-Dimetoxybenzidine  119-90-4   \n",
       "126         NaN                      2-Naphthylamine   91-59-8   \n",
       "176         NaN               2-Amino-4-nitrotoluene   99-55-8   \n",
       "460         NaN                   4,4’-Thiodianiline  139-65-1   \n",
       "\n",
       "            source_name                         original_annotation  \\\n",
       "347     REACH Annex III                           Suspected mutagen   \n",
       "213  REACH Registration                                        None   \n",
       "342     REACH Annex III  Suspected acutely toxic via the oral route   \n",
       "401         EPA Genetox    Sister-chromatid exchange (SCE) in vitro   \n",
       "8           EPA Genetox     Sister-chromatid exchange (SCE) in vivo   \n",
       "514    CLP Notification                                   STOT RE 2   \n",
       "308    CLP Notification                                Acute Tox. 4   \n",
       "126      REACH Annex VI                              Acute Tox. 4 *   \n",
       "176  REACH Registration                                        None   \n",
       "460     REACH Annex III                        Suspected carcinogen   \n",
       "\n",
       "                                   annotation                         general  \\\n",
       "347                                 Mutagenic                         Mutagen   \n",
       "213                                      None                            None   \n",
       "342                  Toxic via the oral route                                   \n",
       "401  Sister-chromatid exchange (SCE) in vitro                       Genotoxic   \n",
       "8     Sister-chromatid exchange (SCE) in vivo                       Genotoxic   \n",
       "514                                 STOT RE 2  Specific Target Organ Toxicity   \n",
       "308                              Acute Tox. 4                  Acute Toxicity   \n",
       "126                              Acute Tox. 4                  Acute Toxicity   \n",
       "176                                      None                            None   \n",
       "460                              Carcinogenic                      Carcinogen   \n",
       "\n",
       "     category  \n",
       "347       CMR  \n",
       "213      None  \n",
       "342     Other  \n",
       "401       CMR  \n",
       "8         CMR  \n",
       "514  Clinical  \n",
       "308     Other  \n",
       "126     Other  \n",
       "176      None  \n",
       "460       CMR  "
      ]
     },
     "execution_count": 11,
     "metadata": {},
     "output_type": "execute_result"
    }
   ],
   "source": [
    "example_annotations.sample(10)"
   ]
  },
  {
   "cell_type": "markdown",
   "metadata": {},
   "source": [
    "#### Add dataframe to devel CII\n",
    "Add new substances to CII or update the ones that are already there. I use original_annotation because it includes EUH annotations, and annotation column doesn't."
   ]
  },
  {
   "cell_type": "code",
   "execution_count": 12,
   "metadata": {},
   "outputs": [],
   "source": [
    "updater = updater.UpdateDB(host='localhost', dbname='cii_v0', user='postgres', password='PSGAdmin')"
   ]
  },
  {
   "cell_type": "code",
   "execution_count": 13,
   "metadata": {},
   "outputs": [],
   "source": [
    "# updater.add_all_information_from_dataframe(dataframe=example_annotations,\n",
    "#                                     class_name_field = 'Sustancia',\n",
    "#                                     preferred_name_field = 'Listado individual',\n",
    "#                                     chem_id_field='CAS',\n",
    "#                                     chem_id_type='casr_number',\n",
    "#                                     sourceName_field='source_name',\n",
    "#                                     regulation_field='original_annotation')"
   ]
  },
  {
   "cell_type": "code",
   "execution_count": 14,
   "metadata": {},
   "outputs": [],
   "source": [
    "# updater.add_substances_from_dataframe(dataframe=example_annotations,\n",
    "#                                     class_name_field = 'Sustancia',\n",
    "#                                     preferred_name_field = 'Listado individual')"
   ]
  },
  {
   "cell_type": "code",
   "execution_count": 15,
   "metadata": {},
   "outputs": [],
   "source": [
    "# updater.add_chemical_identifier_from_dataframe(dataframe=example_annotations,\n",
    "#                                             class_name_field = 'Sustancia',\n",
    "#                                             preferred_name_field = 'Listado individual',\n",
    "#                                             chem_id_field='CAS',\n",
    "#                                             chem_id_type='casr_number')"
   ]
  },
  {
   "cell_type": "code",
   "execution_count": 16,
   "metadata": {},
   "outputs": [],
   "source": [
    "# small_strucs = updater.get_substances_with_structure()[:10]"
   ]
  },
  {
   "cell_type": "code",
   "execution_count": 20,
   "metadata": {},
   "outputs": [],
   "source": [
    "# updater.add_structure_from_dataframe(dataframe=small_strucs,\n",
    "#                                     class_name_field = 'class_name',\n",
    "#                                     preferred_name_field = 'preferred_name',\n",
    "#                                     chem_id_field='name',\n",
    "#                                     chem_id_type='casr_number',\n",
    "#                                     smiles_field='structure')"
   ]
  },
  {
   "cell_type": "code",
   "execution_count": null,
   "metadata": {},
   "outputs": [],
   "source": []
  },
  {
   "cell_type": "code",
   "execution_count": 19,
   "metadata": {},
   "outputs": [],
   "source": [
    "# updater.add_source_from_dataframe()\n",
    "# updater.add_annotation_from_dataframe()"
   ]
  }
 ],
 "metadata": {
  "kernelspec": {
   "display_name": "Python 3",
   "language": "python",
   "name": "python3"
  },
  "language_info": {
   "codemirror_mode": {
    "name": "ipython",
    "version": 3
   },
   "file_extension": ".py",
   "mimetype": "text/x-python",
   "name": "python",
   "nbconvert_exporter": "python",
   "pygments_lexer": "ipython3",
   "version": "3.7.3"
  }
 },
 "nbformat": 4,
 "nbformat_minor": 4
}
