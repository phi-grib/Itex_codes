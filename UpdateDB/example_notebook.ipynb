{
 "cells": [
  {
   "cell_type": "code",
   "execution_count": 1,
   "metadata": {},
   "outputs": [
    {
     "name": "stderr",
     "output_type": "stream",
     "text": [
      "\n",
      "*** CompoundDB module found. Will check the synonyms table to resolve CAS. ***\n",
      "\n"
     ]
    }
   ],
   "source": [
    "import numpy as np\n",
    "import pandas as pd\n",
    "\n",
    "from compoundDB import inputtools as it\n",
    "from UpdateDB import Checkpoint as cp\n",
    "from UpdateDB import CR\n",
    "from UpdateDB import Update_CII as updater"
   ]
  },
  {
   "cell_type": "markdown",
   "metadata": {},
   "source": [
    "#### Load list into pandas"
   ]
  },
  {
   "cell_type": "code",
   "execution_count": 2,
   "metadata": {},
   "outputs": [],
   "source": [
    "example_df = pd.read_csv('example.csv', sep=',')"
   ]
  },
  {
   "cell_type": "markdown",
   "metadata": {},
   "source": [
    "#### Checkpoint from CII release version\n",
    "I make a checkpoint from the stable version just in case I need to roll back the new additions in my database"
   ]
  },
  {
   "cell_type": "code",
   "execution_count": 3,
   "metadata": {},
   "outputs": [],
   "source": [
    "release_checkpoint = cp.Checkpoint('gea','CII','postgres','DBAdmin')"
   ]
  },
  {
   "cell_type": "code",
   "execution_count": 4,
   "metadata": {},
   "outputs": [],
   "source": [
    "tables_checkpoint = release_checkpoint.get_max_id_for_each_table()"
   ]
  },
  {
   "cell_type": "markdown",
   "metadata": {},
   "source": [
    "#### Processing example dataframe\n",
    "First we get CAS and then we generate a list with unique CAS. Finally we'll get the annotations for each CAS from CR database.\n",
    "Is important to remember that each input should be curated manually to end up having the same format obtained at the end with example_annotations dataframe."
   ]
  },
  {
   "cell_type": "code",
   "execution_count": 5,
   "metadata": {},
   "outputs": [],
   "source": [
    "example_df.loc[:,'N.o CAS'] = example_df['N.o CAS'].str.split('/')\n",
    "example_df.loc[:,'N.o CAS'] = example_df['N.o CAS'].astype(str).apply(lambda x: x.strip('[').strip(']').replace(\"'\",\"\").strip().replace(' and several other',''))"
   ]
  },
  {
   "cell_type": "code",
   "execution_count": 6,
   "metadata": {},
   "outputs": [],
   "source": [
    "example_copy = example_df.copy()"
   ]
  },
  {
   "cell_type": "code",
   "execution_count": 7,
   "metadata": {},
   "outputs": [],
   "source": [
    "new_data = {'Sustancia':[],'Listado individual':[], 'N.o CAS':[]}\n",
    "for i, row in example_df.iterrows():\n",
    "    subs_row = row['Sustancia']\n",
    "    pref_name = row['Listado individual']\n",
    "    cas_row = row['N.o CAS']\n",
    "    if ',' in cas_row:\n",
    "        cas_list = cas_row.split(',')\n",
    "        for cas in cas_list:\n",
    "            new_data['Sustancia'].append(subs_row)\n",
    "            new_data['Listado individual'].append(pref_name)\n",
    "            new_data['N.o CAS'].append(cas.strip())\n",
    "        example_copy.drop(i, axis=0, inplace=True)\n",
    "new_df = pd.DataFrame(new_data)"
   ]
  },
  {
   "cell_type": "code",
   "execution_count": 8,
   "metadata": {},
   "outputs": [],
   "source": [
    "example_conc = pd.concat([example_copy, new_df])\n",
    "example_conc.reset_index(inplace=True)\n",
    "example_conc.drop(labels='index',axis=1, inplace=True)\n",
    "example_conc.rename(columns={'N.o CAS':'CAS'},inplace=True)"
   ]
  },
  {
   "cell_type": "markdown",
   "metadata": {},
   "source": [
    "#### Connection to CR\n",
    "I connect to CR and extract annotations for each CAS"
   ]
  },
  {
   "cell_type": "code",
   "execution_count": 9,
   "metadata": {},
   "outputs": [],
   "source": [
    "ann_df = CR.CR().get_annotations_per_CAS()"
   ]
  },
  {
   "cell_type": "markdown",
   "metadata": {},
   "source": [
    "#### Preparing dataframes with annotations\n",
    "Here I create a new dataframe with CR annotations for each CAS in LSR. If I use pd.merge with how='inner' it allows me to recover all CAS from LSR dataframe avoiding empty substances"
   ]
  },
  {
   "cell_type": "code",
   "execution_count": 10,
   "metadata": {},
   "outputs": [],
   "source": [
    "example_annotations = example_conc.merge(ann_df, on='CAS', how='inner')"
   ]
  },
  {
   "cell_type": "code",
   "execution_count": 11,
   "metadata": {},
   "outputs": [
    {
     "data": {
      "text/html": [
       "<div>\n",
       "<style scoped>\n",
       "    .dataframe tbody tr th:only-of-type {\n",
       "        vertical-align: middle;\n",
       "    }\n",
       "\n",
       "    .dataframe tbody tr th {\n",
       "        vertical-align: top;\n",
       "    }\n",
       "\n",
       "    .dataframe thead th {\n",
       "        text-align: right;\n",
       "    }\n",
       "</style>\n",
       "<table border=\"1\" class=\"dataframe\">\n",
       "  <thead>\n",
       "    <tr style=\"text-align: right;\">\n",
       "      <th></th>\n",
       "      <th>Sustancia</th>\n",
       "      <th>Listado individual</th>\n",
       "      <th>CAS</th>\n",
       "      <th>source_name</th>\n",
       "      <th>original_annotation</th>\n",
       "      <th>annotation</th>\n",
       "      <th>general</th>\n",
       "      <th>category</th>\n",
       "    </tr>\n",
       "  </thead>\n",
       "  <tbody>\n",
       "    <tr>\n",
       "      <th>293</th>\n",
       "      <td>NaN</td>\n",
       "      <td>3,3’-Dichlorobenzidine</td>\n",
       "      <td>91-94-1</td>\n",
       "      <td>REACH Annex III</td>\n",
       "      <td>Suspected carcinogen</td>\n",
       "      <td>Carcinogenic</td>\n",
       "      <td>Carcinogen</td>\n",
       "      <td>CMR</td>\n",
       "    </tr>\n",
       "    <tr>\n",
       "      <th>62</th>\n",
       "      <td>NaN</td>\n",
       "      <td>4-Chloro-o-toluidine</td>\n",
       "      <td>95-69-2</td>\n",
       "      <td>CLP Notification</td>\n",
       "      <td>Acute Tox. 3</td>\n",
       "      <td>Acute Tox. 3</td>\n",
       "      <td>Acute Toxicity</td>\n",
       "      <td>Other</td>\n",
       "    </tr>\n",
       "    <tr>\n",
       "      <th>406</th>\n",
       "      <td>NaN</td>\n",
       "      <td>4,4’-Methylen-bis-(2-chloroaniline)</td>\n",
       "      <td>101-14-4</td>\n",
       "      <td>REACH Annex VI</td>\n",
       "      <td>Carc. 1B</td>\n",
       "      <td>Carc. 1B</td>\n",
       "      <td>Carcinogen</td>\n",
       "      <td>CMR</td>\n",
       "    </tr>\n",
       "    <tr>\n",
       "      <th>336</th>\n",
       "      <td>NaN</td>\n",
       "      <td>3,3’-Dimethylbenzidine</td>\n",
       "      <td>119-93-7</td>\n",
       "      <td>REACH Annex III</td>\n",
       "      <td>Harmonised classification for acute toxicity</td>\n",
       "      <td>Harmonised classification for acute toxicity</td>\n",
       "      <td></td>\n",
       "      <td>Other</td>\n",
       "    </tr>\n",
       "    <tr>\n",
       "      <th>260</th>\n",
       "      <td>NaN</td>\n",
       "      <td>4,4’-Diaminodiphenylmethane</td>\n",
       "      <td>101-77-9</td>\n",
       "      <td>REACH Annex VI</td>\n",
       "      <td>STOT SE 1</td>\n",
       "      <td>STOT SE 1</td>\n",
       "      <td>Specific Target Organ Toxicity</td>\n",
       "      <td>Clinical</td>\n",
       "    </tr>\n",
       "    <tr>\n",
       "      <th>432</th>\n",
       "      <td>NaN</td>\n",
       "      <td>4,4’-Oxydianiline</td>\n",
       "      <td>101-80-4</td>\n",
       "      <td>REACH Annex VI</td>\n",
       "      <td>Carc. 1B</td>\n",
       "      <td>Carc. 1B</td>\n",
       "      <td>Carcinogen</td>\n",
       "      <td>CMR</td>\n",
       "    </tr>\n",
       "    <tr>\n",
       "      <th>51</th>\n",
       "      <td>NaN</td>\n",
       "      <td>Benzidine</td>\n",
       "      <td>92-87-5</td>\n",
       "      <td>REACH Annex III</td>\n",
       "      <td>Suspected mutagen</td>\n",
       "      <td>Suspected mutagen</td>\n",
       "      <td>Mutagen</td>\n",
       "      <td>CMR</td>\n",
       "    </tr>\n",
       "    <tr>\n",
       "      <th>535</th>\n",
       "      <td>NaN</td>\n",
       "      <td>2,4-Toluilendiamine</td>\n",
       "      <td>95-80-7</td>\n",
       "      <td>REACH Registration</td>\n",
       "      <td>Repr. 2</td>\n",
       "      <td>Repr. 2</td>\n",
       "      <td>Reprotoxic</td>\n",
       "      <td>CMR</td>\n",
       "    </tr>\n",
       "    <tr>\n",
       "      <th>248</th>\n",
       "      <td>NaN</td>\n",
       "      <td>4,4’-Diaminodiphenylmethane</td>\n",
       "      <td>101-77-9</td>\n",
       "      <td>CLP Notification</td>\n",
       "      <td>Carc. 1B</td>\n",
       "      <td>Carc. 1B</td>\n",
       "      <td>Carcinogen</td>\n",
       "      <td>CMR</td>\n",
       "    </tr>\n",
       "    <tr>\n",
       "      <th>482</th>\n",
       "      <td>NaN</td>\n",
       "      <td>o-Toluidine</td>\n",
       "      <td>95-53-4</td>\n",
       "      <td>CLP Notification</td>\n",
       "      <td>Eye Dam. 1</td>\n",
       "      <td>Eye Dam. 1</td>\n",
       "      <td>Eye</td>\n",
       "      <td>Clinical</td>\n",
       "    </tr>\n",
       "  </tbody>\n",
       "</table>\n",
       "</div>"
      ],
      "text/plain": [
       "    Sustancia                   Listado individual       CAS  \\\n",
       "293       NaN               3,3’-Dichlorobenzidine   91-94-1   \n",
       "62        NaN                 4-Chloro-o-toluidine   95-69-2   \n",
       "406       NaN  4,4’-Methylen-bis-(2-chloroaniline)  101-14-4   \n",
       "336       NaN               3,3’-Dimethylbenzidine  119-93-7   \n",
       "260       NaN          4,4’-Diaminodiphenylmethane  101-77-9   \n",
       "432       NaN                    4,4’-Oxydianiline  101-80-4   \n",
       "51        NaN                            Benzidine   92-87-5   \n",
       "535       NaN                  2,4-Toluilendiamine   95-80-7   \n",
       "248       NaN          4,4’-Diaminodiphenylmethane  101-77-9   \n",
       "482       NaN                          o-Toluidine   95-53-4   \n",
       "\n",
       "            source_name                           original_annotation  \\\n",
       "293     REACH Annex III                          Suspected carcinogen   \n",
       "62     CLP Notification                                  Acute Tox. 3   \n",
       "406      REACH Annex VI                                      Carc. 1B   \n",
       "336     REACH Annex III  Harmonised classification for acute toxicity   \n",
       "260      REACH Annex VI                                     STOT SE 1   \n",
       "432      REACH Annex VI                                      Carc. 1B   \n",
       "51      REACH Annex III                             Suspected mutagen   \n",
       "535  REACH Registration                                       Repr. 2   \n",
       "248    CLP Notification                                      Carc. 1B   \n",
       "482    CLP Notification                                    Eye Dam. 1   \n",
       "\n",
       "                                       annotation  \\\n",
       "293                                  Carcinogenic   \n",
       "62                                   Acute Tox. 3   \n",
       "406                                      Carc. 1B   \n",
       "336  Harmonised classification for acute toxicity   \n",
       "260                                     STOT SE 1   \n",
       "432                                      Carc. 1B   \n",
       "51                              Suspected mutagen   \n",
       "535                                       Repr. 2   \n",
       "248                                      Carc. 1B   \n",
       "482                                    Eye Dam. 1   \n",
       "\n",
       "                            general  category  \n",
       "293                      Carcinogen       CMR  \n",
       "62                   Acute Toxicity     Other  \n",
       "406                      Carcinogen       CMR  \n",
       "336                                     Other  \n",
       "260  Specific Target Organ Toxicity  Clinical  \n",
       "432                      Carcinogen       CMR  \n",
       "51                          Mutagen       CMR  \n",
       "535                      Reprotoxic       CMR  \n",
       "248                      Carcinogen       CMR  \n",
       "482                             Eye  Clinical  "
      ]
     },
     "execution_count": 11,
     "metadata": {},
     "output_type": "execute_result"
    }
   ],
   "source": [
    "example_annotations.sample(10)"
   ]
  },
  {
   "cell_type": "markdown",
   "metadata": {},
   "source": [
    "#### Add dataframe to devel CII\n",
    "Add new substances to CII or update the ones that are already there. I use original_annotation because it includes EUH annotations, and annotation column doesn't."
   ]
  },
  {
   "cell_type": "code",
   "execution_count": 12,
   "metadata": {},
   "outputs": [],
   "source": [
    "updater = updater.UpdateDB(host='localhost', dbname='cii_v0', user='postgres', password='PSGAdmin')"
   ]
  },
  {
   "cell_type": "code",
   "execution_count": 13,
   "metadata": {},
   "outputs": [],
   "source": [
    "# updater.add_all_information_from_dataframe(dataframe=example_annotations,\n",
    "#                                     class_name_field = 'Sustancia',\n",
    "#                                     preferred_name_field = 'Listado individual',\n",
    "#                                     chem_id_field='CAS',\n",
    "#                                     chem_id_type='casr_number',\n",
    "#                                     sourceName_field='source_name',\n",
    "#                                     regulation_field='original_annotation')"
   ]
  },
  {
   "cell_type": "code",
   "execution_count": 14,
   "metadata": {},
   "outputs": [],
   "source": [
    "# updater.add_substances_from_dataframe(dataframe=example_annotations,\n",
    "#                                     class_name_field = 'Sustancia',\n",
    "#                                     preferred_name_field = 'Listado individual')"
   ]
  },
  {
   "cell_type": "code",
   "execution_count": 17,
   "metadata": {},
   "outputs": [],
   "source": [
    "# updater.add_chemical_identifier_from_dataframe(dataframe=example_annotations,\n",
    "#                                             class_name_field = 'Sustancia',\n",
    "#                                             preferred_name_field = 'Listado individual',\n",
    "#                                             chem_id_field='CAS',\n",
    "#                                             chem_id_type='casr_number')"
   ]
  },
  {
   "cell_type": "code",
   "execution_count": 21,
   "metadata": {},
   "outputs": [],
   "source": [
    "small_strucs = updater.get_substances_with_structure()[:10]"
   ]
  },
  {
   "cell_type": "code",
   "execution_count": 22,
   "metadata": {},
   "outputs": [
    {
     "data": {
      "text/html": [
       "<div>\n",
       "<style scoped>\n",
       "    .dataframe tbody tr th:only-of-type {\n",
       "        vertical-align: middle;\n",
       "    }\n",
       "\n",
       "    .dataframe tbody tr th {\n",
       "        vertical-align: top;\n",
       "    }\n",
       "\n",
       "    .dataframe thead th {\n",
       "        text-align: right;\n",
       "    }\n",
       "</style>\n",
       "<table border=\"1\" class=\"dataframe\">\n",
       "  <thead>\n",
       "    <tr style=\"text-align: right;\">\n",
       "      <th></th>\n",
       "      <th>class_name</th>\n",
       "      <th>preferred_name</th>\n",
       "      <th>name</th>\n",
       "      <th>structure</th>\n",
       "    </tr>\n",
       "  </thead>\n",
       "  <tbody>\n",
       "    <tr>\n",
       "      <th>0</th>\n",
       "      <td>Formaldehyde</td>\n",
       "      <td>None</td>\n",
       "      <td>50-00-0</td>\n",
       "      <td>OCO</td>\n",
       "    </tr>\n",
       "    <tr>\n",
       "      <th>1</th>\n",
       "      <td>Formaldehyde</td>\n",
       "      <td>None</td>\n",
       "      <td>463-57-0</td>\n",
       "      <td>C=O</td>\n",
       "    </tr>\n",
       "    <tr>\n",
       "      <th>2</th>\n",
       "      <td>Formaldehyde</td>\n",
       "      <td>None</td>\n",
       "      <td>463-57-0</td>\n",
       "      <td>OCO</td>\n",
       "    </tr>\n",
       "    <tr>\n",
       "      <th>3</th>\n",
       "      <td>Formaldehyde</td>\n",
       "      <td>None</td>\n",
       "      <td>50-00-0</td>\n",
       "      <td>C=O</td>\n",
       "    </tr>\n",
       "    <tr>\n",
       "      <th>4</th>\n",
       "      <td>N,N-Dimethylformamide</td>\n",
       "      <td>None</td>\n",
       "      <td>68-12-2</td>\n",
       "      <td>CN(C)C=O</td>\n",
       "    </tr>\n",
       "    <tr>\n",
       "      <th>5</th>\n",
       "      <td>None</td>\n",
       "      <td>Quinoline</td>\n",
       "      <td>91-22-5</td>\n",
       "      <td>c1ccc2ncccc2c1</td>\n",
       "    </tr>\n",
       "    <tr>\n",
       "      <th>6</th>\n",
       "      <td>N-nitrosamines</td>\n",
       "      <td>N-Nitrosodimethylamine</td>\n",
       "      <td>62-75-9</td>\n",
       "      <td>CN(C)N=O</td>\n",
       "    </tr>\n",
       "    <tr>\n",
       "      <th>7</th>\n",
       "      <td>N-nitrosamines</td>\n",
       "      <td>N-Nitrosodiethylamine</td>\n",
       "      <td>55-18-5</td>\n",
       "      <td>CCN(CC)N=O</td>\n",
       "    </tr>\n",
       "    <tr>\n",
       "      <th>8</th>\n",
       "      <td>N-nitrosamines</td>\n",
       "      <td>N-Nitrosodipropylamine</td>\n",
       "      <td>621-64-7</td>\n",
       "      <td>CCCN(CCC)N=O</td>\n",
       "    </tr>\n",
       "    <tr>\n",
       "      <th>9</th>\n",
       "      <td>N-nitrosamines</td>\n",
       "      <td>N-Nitrosodibutylamine</td>\n",
       "      <td>924-16-3</td>\n",
       "      <td>CCCCN(CCCC)N=O</td>\n",
       "    </tr>\n",
       "  </tbody>\n",
       "</table>\n",
       "</div>"
      ],
      "text/plain": [
       "              class_name          preferred_name      name       structure\n",
       "0           Formaldehyde                    None   50-00-0             OCO\n",
       "1           Formaldehyde                    None  463-57-0             C=O\n",
       "2           Formaldehyde                    None  463-57-0             OCO\n",
       "3           Formaldehyde                    None   50-00-0             C=O\n",
       "4  N,N-Dimethylformamide                    None   68-12-2        CN(C)C=O\n",
       "5                   None               Quinoline   91-22-5  c1ccc2ncccc2c1\n",
       "6         N-nitrosamines  N-Nitrosodimethylamine   62-75-9        CN(C)N=O\n",
       "7         N-nitrosamines   N-Nitrosodiethylamine   55-18-5      CCN(CC)N=O\n",
       "8         N-nitrosamines  N-Nitrosodipropylamine  621-64-7    CCCN(CCC)N=O\n",
       "9         N-nitrosamines   N-Nitrosodibutylamine  924-16-3  CCCCN(CCCC)N=O"
      ]
     },
     "execution_count": 22,
     "metadata": {},
     "output_type": "execute_result"
    }
   ],
   "source": [
    "small_strucs"
   ]
  },
  {
   "cell_type": "code",
   "execution_count": null,
   "metadata": {},
   "outputs": [],
   "source": [
    "updater.add_structure_from_dataframe(dataframe=small_strucs,\n",
    "                                    class_name_field = 'class_name',\n",
    "                                    preferred_name_field = 'preferred_name',\n",
    "                                    chem_id_field='name',\n",
    "                                    chem_id_type='casr_number',\n",
    "                                    smiles_field='structure')"
   ]
  },
  {
   "cell_type": "code",
   "execution_count": 16,
   "metadata": {},
   "outputs": [],
   "source": [
    "# updater.add_structure_from_dataframe()\n",
    "# updater.add_source_from_dataframe()\n",
    "# updater.add_annotation_from_dataframe()"
   ]
  }
 ],
 "metadata": {
  "kernelspec": {
   "display_name": "Python 3",
   "language": "python",
   "name": "python3"
  },
  "language_info": {
   "codemirror_mode": {
    "name": "ipython",
    "version": 3
   },
   "file_extension": ".py",
   "mimetype": "text/x-python",
   "name": "python",
   "nbconvert_exporter": "python",
   "pygments_lexer": "ipython3",
   "version": "3.7.3"
  }
 },
 "nbformat": 4,
 "nbformat_minor": 4
}
