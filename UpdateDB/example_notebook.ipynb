{
 "cells": [
  {
   "cell_type": "code",
   "execution_count": 1,
   "metadata": {},
   "outputs": [
    {
     "name": "stderr",
     "output_type": "stream",
     "text": [
      "\n",
      "*** CompoundDB module found. Will check the synonyms table to resolve CAS. ***\n",
      "\n"
     ]
    }
   ],
   "source": [
    "import numpy as np\n",
    "import pandas as pd\n",
    "\n",
    "from compoundDB import inputtools as it\n",
    "from UpdateDB import Checkpoint as cp\n",
    "from UpdateDB import CR\n",
    "from UpdateDB import Update_CII as updater"
   ]
  },
  {
   "cell_type": "markdown",
   "metadata": {},
   "source": [
    "#### Load list into pandas"
   ]
  },
  {
   "cell_type": "code",
   "execution_count": 2,
   "metadata": {},
   "outputs": [],
   "source": [
    "example_df = pd.read_csv('example.csv', sep=',')"
   ]
  },
  {
   "cell_type": "markdown",
   "metadata": {},
   "source": [
    "#### Checkpoint from CII release version\n",
    "I make a checkpoint from the stable version just in case I need to roll back the new additions in my database"
   ]
  },
  {
   "cell_type": "code",
   "execution_count": 3,
   "metadata": {},
   "outputs": [],
   "source": [
    "release_checkpoint = cp.Checkpoint('gea','CII','postgres','DBAdmin')"
   ]
  },
  {
   "cell_type": "code",
   "execution_count": 4,
   "metadata": {},
   "outputs": [],
   "source": [
    "tables_checkpoint = release_checkpoint.get_max_id_for_each_table()"
   ]
  },
  {
   "cell_type": "markdown",
   "metadata": {},
   "source": [
    "#### Processing example dataframe\n",
    "First we get CAS and then we generate a list with unique CAS. Finally we'll get the annotations for each CAS from CR database.\n",
    "Is important to remember that each input should be curated manually to end up having the same format obtained at the end with example_annotations dataframe."
   ]
  },
  {
   "cell_type": "code",
   "execution_count": 5,
   "metadata": {},
   "outputs": [],
   "source": [
    "example_df.loc[:,'N.o CAS'] = example_df['N.o CAS'].str.split('/')\n",
    "example_df.loc[:,'N.o CAS'] = example_df['N.o CAS'].astype(str).apply(lambda x: x.strip('[').strip(']').replace(\"'\",\"\").strip().replace(' and several other',''))"
   ]
  },
  {
   "cell_type": "code",
   "execution_count": 6,
   "metadata": {},
   "outputs": [],
   "source": [
    "example_copy = example_df.copy()"
   ]
  },
  {
   "cell_type": "code",
   "execution_count": 7,
   "metadata": {},
   "outputs": [],
   "source": [
    "new_data = {'Sustancia':[],'Listado individual':[], 'N.o CAS':[]}\n",
    "for i, row in example_df.iterrows():\n",
    "    subs_row = row['Sustancia']\n",
    "    pref_name = row['Listado individual']\n",
    "    cas_row = row['N.o CAS']\n",
    "    if ',' in cas_row:\n",
    "        cas_list = cas_row.split(',')\n",
    "        for cas in cas_list:\n",
    "            new_data['Sustancia'].append(subs_row)\n",
    "            new_data['Listado individual'].append(pref_name)\n",
    "            new_data['N.o CAS'].append(cas.strip())\n",
    "        example_copy.drop(i, axis=0, inplace=True)\n",
    "new_df = pd.DataFrame(new_data)"
   ]
  },
  {
   "cell_type": "code",
   "execution_count": 8,
   "metadata": {},
   "outputs": [],
   "source": [
    "example_conc = pd.concat([example_copy, new_df])\n",
    "example_conc.reset_index(inplace=True)\n",
    "example_conc.drop(labels='index',axis=1, inplace=True)\n",
    "example_conc.rename(columns={'N.o CAS':'CAS'},inplace=True)"
   ]
  },
  {
   "cell_type": "markdown",
   "metadata": {},
   "source": [
    "#### Connection to CR\n",
    "I connect to CR and extract annotations for each CAS"
   ]
  },
  {
   "cell_type": "code",
   "execution_count": 9,
   "metadata": {},
   "outputs": [],
   "source": [
    "ann_df = CR.CR().get_annotations_per_CAS()"
   ]
  },
  {
   "cell_type": "markdown",
   "metadata": {},
   "source": [
    "#### Preparing dataframes with annotations\n",
    "Here I create a new dataframe with CR annotations for each CAS in LSR. If I use pd.merge with how='inner' it allows me to recover all CAS from LSR dataframe avoiding empty substances"
   ]
  },
  {
   "cell_type": "code",
   "execution_count": 10,
   "metadata": {},
   "outputs": [],
   "source": [
    "example_annotations = example_conc.merge(ann_df, on='CAS', how='inner')"
   ]
  },
  {
   "cell_type": "code",
   "execution_count": 11,
   "metadata": {},
   "outputs": [
    {
     "data": {
      "text/html": [
       "<div>\n",
       "<style scoped>\n",
       "    .dataframe tbody tr th:only-of-type {\n",
       "        vertical-align: middle;\n",
       "    }\n",
       "\n",
       "    .dataframe tbody tr th {\n",
       "        vertical-align: top;\n",
       "    }\n",
       "\n",
       "    .dataframe thead th {\n",
       "        text-align: right;\n",
       "    }\n",
       "</style>\n",
       "<table border=\"1\" class=\"dataframe\">\n",
       "  <thead>\n",
       "    <tr style=\"text-align: right;\">\n",
       "      <th></th>\n",
       "      <th>Sustancia</th>\n",
       "      <th>Listado individual</th>\n",
       "      <th>CAS</th>\n",
       "      <th>type</th>\n",
       "      <th>source_name</th>\n",
       "      <th>original_annotation</th>\n",
       "      <th>annotation</th>\n",
       "      <th>general</th>\n",
       "      <th>category</th>\n",
       "    </tr>\n",
       "  </thead>\n",
       "  <tbody>\n",
       "    <tr>\n",
       "      <th>467</th>\n",
       "      <td>NaN</td>\n",
       "      <td>3,3’-Dimethyl-4,4’-diaminodiphenilmethane</td>\n",
       "      <td>838-88-0</td>\n",
       "      <td>CAS</td>\n",
       "      <td>SVHC</td>\n",
       "      <td>Carcinogenic (Article 57a)</td>\n",
       "      <td>Carcinogenic</td>\n",
       "      <td>Carcinogen</td>\n",
       "      <td>CMR</td>\n",
       "    </tr>\n",
       "    <tr>\n",
       "      <th>169</th>\n",
       "      <td>NaN</td>\n",
       "      <td>o-Aminoazotoluene</td>\n",
       "      <td>97-56-3</td>\n",
       "      <td>CAS</td>\n",
       "      <td>REACH Annex III</td>\n",
       "      <td>Suspected hazardous to the aquatic environment</td>\n",
       "      <td>Hazardous to the aquatic environment</td>\n",
       "      <td></td>\n",
       "      <td>Aquatic</td>\n",
       "    </tr>\n",
       "    <tr>\n",
       "      <th>601</th>\n",
       "      <td>NaN</td>\n",
       "      <td>o-Toluidine</td>\n",
       "      <td>95-53-4</td>\n",
       "      <td>CAS</td>\n",
       "      <td>CLP Notification</td>\n",
       "      <td>Acute Tox. 3</td>\n",
       "      <td>Acute Tox. 3</td>\n",
       "      <td>Acute Toxicity</td>\n",
       "      <td>Other</td>\n",
       "    </tr>\n",
       "    <tr>\n",
       "      <th>576</th>\n",
       "      <td>NaN</td>\n",
       "      <td>4,4’-Thiodianiline</td>\n",
       "      <td>139-65-1</td>\n",
       "      <td>CAS</td>\n",
       "      <td>REACH Annex III</td>\n",
       "      <td>Harmonised classification for carcinogenicity</td>\n",
       "      <td>Carcinogenic</td>\n",
       "      <td>Carcinogen</td>\n",
       "      <td>CMR</td>\n",
       "    </tr>\n",
       "    <tr>\n",
       "      <th>637</th>\n",
       "      <td>NaN</td>\n",
       "      <td>o-Toluidine</td>\n",
       "      <td>95-53-4</td>\n",
       "      <td>CAS</td>\n",
       "      <td>SVHC</td>\n",
       "      <td>vPvB</td>\n",
       "      <td>vPvB</td>\n",
       "      <td></td>\n",
       "      <td>vPvB</td>\n",
       "    </tr>\n",
       "    <tr>\n",
       "      <th>353</th>\n",
       "      <td>NaN</td>\n",
       "      <td>3,3’-Dichlorobenzidine</td>\n",
       "      <td>91-94-1</td>\n",
       "      <td>CAS</td>\n",
       "      <td>REACH Annex III</td>\n",
       "      <td>Suspected mutagen</td>\n",
       "      <td>Mutagenic</td>\n",
       "      <td>Mutagen</td>\n",
       "      <td>CMR</td>\n",
       "    </tr>\n",
       "    <tr>\n",
       "      <th>182</th>\n",
       "      <td>NaN</td>\n",
       "      <td>o-Aminoazotoluene</td>\n",
       "      <td>97-56-3</td>\n",
       "      <td>CAS</td>\n",
       "      <td>REACH Annex VI</td>\n",
       "      <td>Carc. 1B, Skin Sens. 1</td>\n",
       "      <td>Carc. 1B, Skin Sens. 1</td>\n",
       "      <td></td>\n",
       "      <td></td>\n",
       "    </tr>\n",
       "    <tr>\n",
       "      <th>26</th>\n",
       "      <td>Arilaminas</td>\n",
       "      <td>4-Aminobiphenyl</td>\n",
       "      <td>92-67-1</td>\n",
       "      <td>CAS</td>\n",
       "      <td>REACH Annex VI</td>\n",
       "      <td>Carc. 1A</td>\n",
       "      <td>Carc. 1A</td>\n",
       "      <td>Carcinogen</td>\n",
       "      <td>CMR</td>\n",
       "    </tr>\n",
       "    <tr>\n",
       "      <th>260</th>\n",
       "      <td>NaN</td>\n",
       "      <td>2,4-Diaminoanisole</td>\n",
       "      <td>615-05-4</td>\n",
       "      <td>CAS</td>\n",
       "      <td>CLP Notification</td>\n",
       "      <td>Carc. 1B</td>\n",
       "      <td>Carc. 1B</td>\n",
       "      <td>Carcinogen</td>\n",
       "      <td>CMR</td>\n",
       "    </tr>\n",
       "    <tr>\n",
       "      <th>310</th>\n",
       "      <td>NaN</td>\n",
       "      <td>4,4’-Diaminodiphenylmethane</td>\n",
       "      <td>101-77-9</td>\n",
       "      <td>CAS</td>\n",
       "      <td>REACH Annex VI</td>\n",
       "      <td>STOT RE 2 *</td>\n",
       "      <td>STOT RE 2</td>\n",
       "      <td>Specific Target Organ Toxicity</td>\n",
       "      <td>Clinical</td>\n",
       "    </tr>\n",
       "  </tbody>\n",
       "</table>\n",
       "</div>"
      ],
      "text/plain": [
       "      Sustancia                         Listado individual       CAS type  \\\n",
       "467         NaN  3,3’-Dimethyl-4,4’-diaminodiphenilmethane  838-88-0  CAS   \n",
       "169         NaN                          o-Aminoazotoluene   97-56-3  CAS   \n",
       "601         NaN                                o-Toluidine   95-53-4  CAS   \n",
       "576         NaN                         4,4’-Thiodianiline  139-65-1  CAS   \n",
       "637         NaN                                o-Toluidine   95-53-4  CAS   \n",
       "353         NaN                     3,3’-Dichlorobenzidine   91-94-1  CAS   \n",
       "182         NaN                          o-Aminoazotoluene   97-56-3  CAS   \n",
       "26   Arilaminas                            4-Aminobiphenyl   92-67-1  CAS   \n",
       "260         NaN                         2,4-Diaminoanisole  615-05-4  CAS   \n",
       "310         NaN                4,4’-Diaminodiphenylmethane  101-77-9  CAS   \n",
       "\n",
       "          source_name                             original_annotation  \\\n",
       "467              SVHC                      Carcinogenic (Article 57a)   \n",
       "169   REACH Annex III  Suspected hazardous to the aquatic environment   \n",
       "601  CLP Notification                                    Acute Tox. 3   \n",
       "576   REACH Annex III   Harmonised classification for carcinogenicity   \n",
       "637              SVHC                                            vPvB   \n",
       "353   REACH Annex III                               Suspected mutagen   \n",
       "182    REACH Annex VI                          Carc. 1B, Skin Sens. 1   \n",
       "26     REACH Annex VI                                        Carc. 1A   \n",
       "260  CLP Notification                                        Carc. 1B   \n",
       "310    REACH Annex VI                                     STOT RE 2 *   \n",
       "\n",
       "                               annotation                         general  \\\n",
       "467                          Carcinogenic                      Carcinogen   \n",
       "169  Hazardous to the aquatic environment                                   \n",
       "601                          Acute Tox. 3                  Acute Toxicity   \n",
       "576                          Carcinogenic                      Carcinogen   \n",
       "637                                  vPvB                                   \n",
       "353                             Mutagenic                         Mutagen   \n",
       "182                Carc. 1B, Skin Sens. 1                                   \n",
       "26                               Carc. 1A                      Carcinogen   \n",
       "260                              Carc. 1B                      Carcinogen   \n",
       "310                             STOT RE 2  Specific Target Organ Toxicity   \n",
       "\n",
       "     category  \n",
       "467       CMR  \n",
       "169   Aquatic  \n",
       "601     Other  \n",
       "576       CMR  \n",
       "637      vPvB  \n",
       "353       CMR  \n",
       "182            \n",
       "26        CMR  \n",
       "260       CMR  \n",
       "310  Clinical  "
      ]
     },
     "execution_count": 11,
     "metadata": {},
     "output_type": "execute_result"
    }
   ],
   "source": [
    "example_annotations.sample(10)"
   ]
  },
  {
   "cell_type": "markdown",
   "metadata": {},
   "source": [
    "#### Add dataframe to devel CII\n",
    "Add new substances to CII or update the ones that are already there. I use original_annotation because it includes EUH annotations, and annotation column doesn't."
   ]
  },
  {
   "cell_type": "code",
   "execution_count": 12,
   "metadata": {},
   "outputs": [],
   "source": [
    "updater = updater.UpdateDB(host='localhost', dbname='inventory', user='postgres', password='PSGAdmin')"
   ]
  },
  {
   "cell_type": "code",
   "execution_count": 13,
   "metadata": {},
   "outputs": [],
   "source": [
    "updater.add_all_information_from_dataframe(dataframe=example_annotations,\n",
    "                                    class_name_field = 'Sustancia',\n",
    "                                    preferred_name_field = 'Listado individual',\n",
    "                                    chem_id_field='CAS',\n",
    "                                    chem_id_type='casr_number',\n",
    "                                    sourceName_field='source_name',\n",
    "                                    regulation_field='original_annotation')"
   ]
  },
  {
   "cell_type": "code",
   "execution_count": 14,
   "metadata": {},
   "outputs": [],
   "source": [
    "# updater.add_substances_from_dataframe()\n",
    "# updater.add_chemical_identifier_from_dataframe()\n",
    "# updater.add_structure_from_dataframe()\n",
    "# updater.add_source_from_dataframe()\n",
    "# updater.add_annotation_from_dataframe()"
   ]
  }
 ],
 "metadata": {
  "kernelspec": {
   "display_name": "Python 3",
   "language": "python",
   "name": "python3"
  },
  "language_info": {
   "codemirror_mode": {
    "name": "ipython",
    "version": 3
   },
   "file_extension": ".py",
   "mimetype": "text/x-python",
   "name": "python",
   "nbconvert_exporter": "python",
   "pygments_lexer": "ipython3",
   "version": "3.7.3"
  }
 },
 "nbformat": 4,
 "nbformat_minor": 4
}
